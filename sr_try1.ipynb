{
 "cells": [
  {
   "cell_type": "code",
   "execution_count": 2,
   "metadata": {},
   "outputs": [],
   "source": [
    "import matplotlib.pyplot as plt\n",
    "import pandas as pd"
   ]
  },
  {
   "cell_type": "markdown",
   "metadata": {},
   "source": [
    "With 100 points, three cases:\n",
    "\n",
    "1. Ideal\n",
    "2. Gaussian noise\n",
    "3. Uniform noise"
   ]
  },
  {
   "cell_type": "markdown",
   "metadata": {},
   "source": [
    "we have created a dataset with 100 points, with 5 features each. The relation we want to investigate is\n",
    "\n",
    "$$\n",
    "2.5382 cos(x_3)+x_0^2-0.5\n",
    "$$"
   ]
  },
  {
   "cell_type": "code",
   "execution_count": 3,
   "metadata": {},
   "outputs": [],
   "source": [
    "import numpy as np\n",
    "\n",
    "X = 2 * np.random.randn(100, 5)\n",
    "a = 2 #weight for noise\n",
    "y = 2.5382 * np.cos(X[:,3]) + X[:,0] ** 2 - 0.5 \n",
    "n = y + a*np.random.randn(100,1)\n",
    "u = y + a*np.random.rand(100,1)"
   ]
  },
  {
   "cell_type": "code",
   "execution_count": 4,
   "metadata": {},
   "outputs": [],
   "source": [
    "from pysr import PySRRegressor\n",
    "\n",
    "model = PySRRegressor(\n",
    "    niterations=40,  # < Increase me for better results\n",
    "    binary_operators=[\"+\", \"*\"],\n",
    "    unary_operators=[\n",
    "        \"cos\",\n",
    "        \"exp\",\n",
    "        \"sin\",\n",
    "        \"inv(x) = 1/x\",\n",
    "        # ^ Custom operator (julia syntax)\n",
    "    ],\n",
    "    extra_sympy_mappings={\"inv\": lambda x: 1 / x},\n",
    "    # ^ Define operator for SymPy as well\n",
    "    loss=\"loss(prediction, target) = (prediction - target)^2\",\n",
    "    # ^ Custom loss function (julia syntax)\n",
    ")"
   ]
  },
  {
   "cell_type": "markdown",
   "metadata": {},
   "source": [
    "## 1. Ideal\n"
   ]
  },
  {
   "cell_type": "code",
   "execution_count": 5,
   "metadata": {},
   "outputs": [
    {
     "name": "stderr",
     "output_type": "stream",
     "text": [
      "/Users/francescofarinelli/miniconda3/envs/simreg/lib/python3.11/site-packages/pysr/sr.py:1296: UserWarning: Note: it looks like you are running in Jupyter. The progress bar will be turned off.\n",
      "  warnings.warn(\n"
     ]
    },
    {
     "name": "stdout",
     "output_type": "stream",
     "text": [
      "Compiling Julia backend...\n"
     ]
    },
    {
     "name": "stderr",
     "output_type": "stream",
     "text": [
      "/Users/francescofarinelli/miniconda3/envs/simreg/lib/python3.11/site-packages/pysr/julia_helpers.py:208: UserWarning: Your system's Python library is static (e.g., conda), so precompilation will be turned off. For a dynamic library, try using `pyenv` and installing with `--enable-shared`: https://github.com/pyenv/pyenv/blob/master/plugins/python-build/README.md#building-with---enable-shared.\n",
      "  warnings.warn(\n"
     ]
    },
    {
     "name": "stdout",
     "output_type": "stream",
     "text": [
      "Started!\n",
      "\n",
      "Expressions evaluated per second: 1.800e+05\n",
      "Head worker occupation: 15.1%\n",
      "Progress: 399 / 600 total iterations (66.500%)\n",
      "====================================================================================================\n",
      "Hall of Fame:\n",
      "---------------------------------------------------------------------------------------------------\n",
      "Complexity  Loss       Score     Equation\n",
      "1           3.959e+01  1.926e-07  3.7029111\n",
      "3           3.298e+00  1.243e+00  (x0 * x0)\n",
      "5           3.258e+00  6.170e-03  ((x0 * 0.9723541) * x0)\n",
      "6           1.252e+00  9.568e-01  ((x0 * x0) + cos(x3))\n",
      "8           2.327e-01  8.411e-01  ((x0 * x0) + (cos(x3) * 2.3610847))\n",
      "10          1.777e-13  1.151e+01  (((x0 * x0) + (cos(x3) * 2.5382)) + -0.50000006)\n",
      "18          8.012e-14  9.959e-02  (((((x0 * x0) + (cos(x3) * ((1.6912384 + 0.4028847) + 0.444076...\n",
      "                                  9))) + -0.47816002) + -0.1821089) + 0.16026881)\n",
      "---------------------------------------------------------------------------------------------------\n",
      "====================================================================================================\n",
      "Press 'q' and then <enter> to stop execution early.\n"
     ]
    },
    {
     "data": {
      "text/html": [
       "<style>#sk-container-id-1 {color: black;background-color: white;}#sk-container-id-1 pre{padding: 0;}#sk-container-id-1 div.sk-toggleable {background-color: white;}#sk-container-id-1 label.sk-toggleable__label {cursor: pointer;display: block;width: 100%;margin-bottom: 0;padding: 0.3em;box-sizing: border-box;text-align: center;}#sk-container-id-1 label.sk-toggleable__label-arrow:before {content: \"▸\";float: left;margin-right: 0.25em;color: #696969;}#sk-container-id-1 label.sk-toggleable__label-arrow:hover:before {color: black;}#sk-container-id-1 div.sk-estimator:hover label.sk-toggleable__label-arrow:before {color: black;}#sk-container-id-1 div.sk-toggleable__content {max-height: 0;max-width: 0;overflow: hidden;text-align: left;background-color: #f0f8ff;}#sk-container-id-1 div.sk-toggleable__content pre {margin: 0.2em;color: black;border-radius: 0.25em;background-color: #f0f8ff;}#sk-container-id-1 input.sk-toggleable__control:checked~div.sk-toggleable__content {max-height: 200px;max-width: 100%;overflow: auto;}#sk-container-id-1 input.sk-toggleable__control:checked~label.sk-toggleable__label-arrow:before {content: \"▾\";}#sk-container-id-1 div.sk-estimator input.sk-toggleable__control:checked~label.sk-toggleable__label {background-color: #d4ebff;}#sk-container-id-1 div.sk-label input.sk-toggleable__control:checked~label.sk-toggleable__label {background-color: #d4ebff;}#sk-container-id-1 input.sk-hidden--visually {border: 0;clip: rect(1px 1px 1px 1px);clip: rect(1px, 1px, 1px, 1px);height: 1px;margin: -1px;overflow: hidden;padding: 0;position: absolute;width: 1px;}#sk-container-id-1 div.sk-estimator {font-family: monospace;background-color: #f0f8ff;border: 1px dotted black;border-radius: 0.25em;box-sizing: border-box;margin-bottom: 0.5em;}#sk-container-id-1 div.sk-estimator:hover {background-color: #d4ebff;}#sk-container-id-1 div.sk-parallel-item::after {content: \"\";width: 100%;border-bottom: 1px solid gray;flex-grow: 1;}#sk-container-id-1 div.sk-label:hover label.sk-toggleable__label {background-color: #d4ebff;}#sk-container-id-1 div.sk-serial::before {content: \"\";position: absolute;border-left: 1px solid gray;box-sizing: border-box;top: 0;bottom: 0;left: 50%;z-index: 0;}#sk-container-id-1 div.sk-serial {display: flex;flex-direction: column;align-items: center;background-color: white;padding-right: 0.2em;padding-left: 0.2em;position: relative;}#sk-container-id-1 div.sk-item {position: relative;z-index: 1;}#sk-container-id-1 div.sk-parallel {display: flex;align-items: stretch;justify-content: center;background-color: white;position: relative;}#sk-container-id-1 div.sk-item::before, #sk-container-id-1 div.sk-parallel-item::before {content: \"\";position: absolute;border-left: 1px solid gray;box-sizing: border-box;top: 0;bottom: 0;left: 50%;z-index: -1;}#sk-container-id-1 div.sk-parallel-item {display: flex;flex-direction: column;z-index: 1;position: relative;background-color: white;}#sk-container-id-1 div.sk-parallel-item:first-child::after {align-self: flex-end;width: 50%;}#sk-container-id-1 div.sk-parallel-item:last-child::after {align-self: flex-start;width: 50%;}#sk-container-id-1 div.sk-parallel-item:only-child::after {width: 0;}#sk-container-id-1 div.sk-dashed-wrapped {border: 1px dashed gray;margin: 0 0.4em 0.5em 0.4em;box-sizing: border-box;padding-bottom: 0.4em;background-color: white;}#sk-container-id-1 div.sk-label label {font-family: monospace;font-weight: bold;display: inline-block;line-height: 1.2em;}#sk-container-id-1 div.sk-label-container {text-align: center;}#sk-container-id-1 div.sk-container {/* jupyter's `normalize.less` sets `[hidden] { display: none; }` but bootstrap.min.css set `[hidden] { display: none !important; }` so we also need the `!important` here to be able to override the default hidden behavior on the sphinx rendered scikit-learn.org. See: https://github.com/scikit-learn/scikit-learn/issues/21755 */display: inline-block !important;position: relative;}#sk-container-id-1 div.sk-text-repr-fallback {display: none;}</style><div id=\"sk-container-id-1\" class=\"sk-top-container\"><div class=\"sk-text-repr-fallback\"><pre>PySRRegressor.equations_ = [\n",
       "\t   pick      score                                           equation  \\\n",
       "\t0         0.000000                                          3.7029111   \n",
       "\t1         1.242516                                          (x0 * x0)   \n",
       "\t2         0.006170                            ((x0 * 0.9723541) * x0)   \n",
       "\t3         0.956754                              ((x0 * x0) + cos(x3))   \n",
       "\t4         0.841077                ((x0 * x0) + (cos(x3) * 2.3610847))   \n",
       "\t5        13.950335   (((x0 * x0) + (cos(x3) * 2.5382)) + -0.50000006)   \n",
       "\t6  &gt;&gt;&gt;&gt;   0.099594  (((((x0 * x0) + (cos(x3) * ((1.6912384 + 0.402...   \n",
       "\t\n",
       "\t           loss  complexity  \n",
       "\t0  3.958632e+01           1  \n",
       "\t1  3.298445e+00           3  \n",
       "\t2  3.257994e+00           5  \n",
       "\t3  1.251518e+00           6  \n",
       "\t4  2.327486e-01           8  \n",
       "\t5  1.777378e-13          10  \n",
       "\t6  8.012257e-14          18  \n",
       "]</pre><b>In a Jupyter environment, please rerun this cell to show the HTML representation or trust the notebook. <br />On GitHub, the HTML representation is unable to render, please try loading this page with nbviewer.org.</b></div><div class=\"sk-container\" hidden><div class=\"sk-item\"><div class=\"sk-estimator sk-toggleable\"><input class=\"sk-toggleable__control sk-hidden--visually\" id=\"sk-estimator-id-1\" type=\"checkbox\" checked><label for=\"sk-estimator-id-1\" class=\"sk-toggleable__label sk-toggleable__label-arrow\">PySRRegressor</label><div class=\"sk-toggleable__content\"><pre>PySRRegressor.equations_ = [\n",
       "\t   pick      score                                           equation  \\\n",
       "\t0         0.000000                                          3.7029111   \n",
       "\t1         1.242516                                          (x0 * x0)   \n",
       "\t2         0.006170                            ((x0 * 0.9723541) * x0)   \n",
       "\t3         0.956754                              ((x0 * x0) + cos(x3))   \n",
       "\t4         0.841077                ((x0 * x0) + (cos(x3) * 2.3610847))   \n",
       "\t5        13.950335   (((x0 * x0) + (cos(x3) * 2.5382)) + -0.50000006)   \n",
       "\t6  &gt;&gt;&gt;&gt;   0.099594  (((((x0 * x0) + (cos(x3) * ((1.6912384 + 0.402...   \n",
       "\t\n",
       "\t           loss  complexity  \n",
       "\t0  3.958632e+01           1  \n",
       "\t1  3.298445e+00           3  \n",
       "\t2  3.257994e+00           5  \n",
       "\t3  1.251518e+00           6  \n",
       "\t4  2.327486e-01           8  \n",
       "\t5  1.777378e-13          10  \n",
       "\t6  8.012257e-14          18  \n",
       "]</pre></div></div></div></div></div>"
      ],
      "text/plain": [
       "PySRRegressor.equations_ = [\n",
       "\t   pick      score                                           equation  \\\n",
       "\t0         0.000000                                          3.7029111   \n",
       "\t1         1.242516                                          (x0 * x0)   \n",
       "\t2         0.006170                            ((x0 * 0.9723541) * x0)   \n",
       "\t3         0.956754                              ((x0 * x0) + cos(x3))   \n",
       "\t4         0.841077                ((x0 * x0) + (cos(x3) * 2.3610847))   \n",
       "\t5        13.950335   (((x0 * x0) + (cos(x3) * 2.5382)) + -0.50000006)   \n",
       "\t6  >>>>   0.099594  (((((x0 * x0) + (cos(x3) * ((1.6912384 + 0.402...   \n",
       "\t\n",
       "\t           loss  complexity  \n",
       "\t0  3.958632e+01           1  \n",
       "\t1  3.298445e+00           3  \n",
       "\t2  3.257994e+00           5  \n",
       "\t3  1.251518e+00           6  \n",
       "\t4  2.327486e-01           8  \n",
       "\t5  1.777378e-13          10  \n",
       "\t6  8.012257e-14          18  \n",
       "]"
      ]
     },
     "execution_count": 5,
     "metadata": {},
     "output_type": "execute_result"
    }
   ],
   "source": [
    "model.fit(X, y)"
   ]
  },
  {
   "cell_type": "code",
   "execution_count": 10,
   "metadata": {},
   "outputs": [
    {
     "ename": "KeyError",
     "evalue": "\"None of [Float64Index([0.025261251866806514,  0.30317314351622393,   0.3069373645504594,\\n                0.7990296583828599,    4.296481821563931,    5626264256742.642,\\n                12480877112110.752],\\n             dtype='float64')] are in the [columns]\"",
     "output_type": "error",
     "traceback": [
      "\u001b[0;31m---------------------------------------------------------------------------\u001b[0m",
      "\u001b[0;31mKeyError\u001b[0m                                  Traceback (most recent call last)",
      "Cell \u001b[0;32mIn[10], line 3\u001b[0m\n\u001b[1;32m      1\u001b[0m df \u001b[39m=\u001b[39m pd\u001b[39m.\u001b[39mread_csv(\u001b[39m'\u001b[39m\u001b[39mhall_of_fame_2023-08-13_184043.953.csv\u001b[39m\u001b[39m'\u001b[39m)\n\u001b[1;32m      2\u001b[0m \u001b[39m# barplot coplexity vs score (da capì)\u001b[39;00m\n\u001b[0;32m----> 3\u001b[0m plt\u001b[39m.\u001b[39mbar(df[\u001b[39m'\u001b[39m\u001b[39mComplexity\u001b[39m\u001b[39m'\u001b[39m],df[\u001b[39m1\u001b[39;49m\u001b[39m/\u001b[39;49mdf[\u001b[39m'\u001b[39;49m\u001b[39mLoss\u001b[39;49m\u001b[39m'\u001b[39;49m]])\n\u001b[1;32m      4\u001b[0m plt\u001b[39m.\u001b[39mlogscale()\n",
      "File \u001b[0;32m~/miniconda3/envs/simreg/lib/python3.11/site-packages/pandas/core/frame.py:3813\u001b[0m, in \u001b[0;36mDataFrame.__getitem__\u001b[0;34m(self, key)\u001b[0m\n\u001b[1;32m   3811\u001b[0m     \u001b[39mif\u001b[39;00m is_iterator(key):\n\u001b[1;32m   3812\u001b[0m         key \u001b[39m=\u001b[39m \u001b[39mlist\u001b[39m(key)\n\u001b[0;32m-> 3813\u001b[0m     indexer \u001b[39m=\u001b[39m \u001b[39mself\u001b[39;49m\u001b[39m.\u001b[39;49mcolumns\u001b[39m.\u001b[39;49m_get_indexer_strict(key, \u001b[39m\"\u001b[39;49m\u001b[39mcolumns\u001b[39;49m\u001b[39m\"\u001b[39;49m)[\u001b[39m1\u001b[39m]\n\u001b[1;32m   3815\u001b[0m \u001b[39m# take() does not accept boolean indexers\u001b[39;00m\n\u001b[1;32m   3816\u001b[0m \u001b[39mif\u001b[39;00m \u001b[39mgetattr\u001b[39m(indexer, \u001b[39m\"\u001b[39m\u001b[39mdtype\u001b[39m\u001b[39m\"\u001b[39m, \u001b[39mNone\u001b[39;00m) \u001b[39m==\u001b[39m \u001b[39mbool\u001b[39m:\n",
      "File \u001b[0;32m~/miniconda3/envs/simreg/lib/python3.11/site-packages/pandas/core/indexes/base.py:6070\u001b[0m, in \u001b[0;36mIndex._get_indexer_strict\u001b[0;34m(self, key, axis_name)\u001b[0m\n\u001b[1;32m   6067\u001b[0m \u001b[39melse\u001b[39;00m:\n\u001b[1;32m   6068\u001b[0m     keyarr, indexer, new_indexer \u001b[39m=\u001b[39m \u001b[39mself\u001b[39m\u001b[39m.\u001b[39m_reindex_non_unique(keyarr)\n\u001b[0;32m-> 6070\u001b[0m \u001b[39mself\u001b[39;49m\u001b[39m.\u001b[39;49m_raise_if_missing(keyarr, indexer, axis_name)\n\u001b[1;32m   6072\u001b[0m keyarr \u001b[39m=\u001b[39m \u001b[39mself\u001b[39m\u001b[39m.\u001b[39mtake(indexer)\n\u001b[1;32m   6073\u001b[0m \u001b[39mif\u001b[39;00m \u001b[39misinstance\u001b[39m(key, Index):\n\u001b[1;32m   6074\u001b[0m     \u001b[39m# GH 42790 - Preserve name from an Index\u001b[39;00m\n",
      "File \u001b[0;32m~/miniconda3/envs/simreg/lib/python3.11/site-packages/pandas/core/indexes/base.py:6130\u001b[0m, in \u001b[0;36mIndex._raise_if_missing\u001b[0;34m(self, key, indexer, axis_name)\u001b[0m\n\u001b[1;32m   6128\u001b[0m     \u001b[39mif\u001b[39;00m use_interval_msg:\n\u001b[1;32m   6129\u001b[0m         key \u001b[39m=\u001b[39m \u001b[39mlist\u001b[39m(key)\n\u001b[0;32m-> 6130\u001b[0m     \u001b[39mraise\u001b[39;00m \u001b[39mKeyError\u001b[39;00m(\u001b[39mf\u001b[39m\u001b[39m\"\u001b[39m\u001b[39mNone of [\u001b[39m\u001b[39m{\u001b[39;00mkey\u001b[39m}\u001b[39;00m\u001b[39m] are in the [\u001b[39m\u001b[39m{\u001b[39;00maxis_name\u001b[39m}\u001b[39;00m\u001b[39m]\u001b[39m\u001b[39m\"\u001b[39m)\n\u001b[1;32m   6132\u001b[0m not_found \u001b[39m=\u001b[39m \u001b[39mlist\u001b[39m(ensure_index(key)[missing_mask\u001b[39m.\u001b[39mnonzero()[\u001b[39m0\u001b[39m]]\u001b[39m.\u001b[39munique())\n\u001b[1;32m   6133\u001b[0m \u001b[39mraise\u001b[39;00m \u001b[39mKeyError\u001b[39;00m(\u001b[39mf\u001b[39m\u001b[39m\"\u001b[39m\u001b[39m{\u001b[39;00mnot_found\u001b[39m}\u001b[39;00m\u001b[39m not in index\u001b[39m\u001b[39m\"\u001b[39m)\n",
      "\u001b[0;31mKeyError\u001b[0m: \"None of [Float64Index([0.025261251866806514,  0.30317314351622393,   0.3069373645504594,\\n                0.7990296583828599,    4.296481821563931,    5626264256742.642,\\n                12480877112110.752],\\n             dtype='float64')] are in the [columns]\""
     ]
    }
   ],
   "source": [
    "df = pd.read_csv('hall_of_fame_2023-08-13_184043.953.csv')\n",
    "# barplot coplexity vs score (da capì)\n",
    "plt.bar(df['Complexity'],df[1/df['Loss']])\n",
    "plt.logscale()"
   ]
  },
  {
   "cell_type": "markdown",
   "metadata": {},
   "source": [
    "### Detailed Example"
   ]
  },
  {
   "cell_type": "markdown",
   "metadata": {},
   "source": [
    "The following code makes use of as many PySR features as possible. Note that is just a demonstration of features and you should not use this example as-is. For details on what each parameter does, check out the API page."
   ]
  },
  {
   "cell_type": "code",
   "execution_count": null,
   "metadata": {},
   "outputs": [],
   "source": [
    "model = PySRRegressor(\n",
    "    procs=4,\n",
    "    populations=8,\n",
    "    # ^ 2 populations per core, so one is always running.\n",
    "    population_size=50,\n",
    "    # ^ Slightly larger populations, for greater diversity.\n",
    "    ncyclesperiteration=500, \n",
    "    # ^ Generations between migrations.\n",
    "    niterations=10000000,  # Run forever\n",
    "    early_stop_condition=(\n",
    "        \"stop_if(loss, complexity) = loss < 1e-6 && complexity < 10\"\n",
    "        # Stop early if we find a good and simple equation\n",
    "    ),\n",
    "    timeout_in_seconds=60 * 60 * 24,\n",
    "    # ^ Alternatively, stop after 24 hours have passed.\n",
    "    maxsize=50,\n",
    "    # ^ Allow greater complexity.\n",
    "    maxdepth=10,\n",
    "    # ^ But, avoid deep nesting.\n",
    "    binary_operators=[\"*\", \"+\", \"-\", \"/\"],\n",
    "    unary_operators=[\"square\", \"cube\", \"exp\", \"cos2(x)=cos(x)^2\"],\n",
    "    constraints={\n",
    "        \"/\": (-1, 9),\n",
    "        \"square\": 9,\n",
    "        \"cube\": 9,\n",
    "        \"exp\": 9,\n",
    "    },\n",
    "    # ^ Limit the complexity within each argument.\n",
    "    # \"inv\": (-1, 9) states that the numerator has no constraint,\n",
    "    # but the denominator has a max complexity of 9.\n",
    "    # \"exp\": 9 simply states that `exp` can only have\n",
    "    # an expression of complexity 9 as input.\n",
    "    nested_constraints={\n",
    "        \"square\": {\"square\": 1, \"cube\": 1, \"exp\": 0},\n",
    "        \"cube\": {\"square\": 1, \"cube\": 1, \"exp\": 0},\n",
    "        \"exp\": {\"square\": 1, \"cube\": 1, \"exp\": 0},\n",
    "    },\n",
    "    # ^ Nesting constraints on operators. For example,\n",
    "    # \"square(exp(x))\" is not allowed, since \"square\": {\"exp\": 0}.\n",
    "    complexity_of_operators={\"/\": 2, \"exp\": 3},\n",
    "    # ^ Custom complexity of particular operators.\n",
    "    complexity_of_constants=2,\n",
    "    # ^ Punish constants more than variables\n",
    "    select_k_features=4,\n",
    "    # ^ Train on only the 4 most important features\n",
    "    progress=True,\n",
    "    # ^ Can set to false if printing to a file.\n",
    "    weight_randomize=0.1,\n",
    "    # ^ Randomize the tree much more frequently\n",
    "    cluster_manager=None,\n",
    "    # ^ Can be set to, e.g., \"slurm\", to run a slurm\n",
    "    # cluster. Just launch one script from the head node.\n",
    "    precision=64,\n",
    "    # ^ Higher precision calculations.\n",
    "    warm_start=True,\n",
    "    # ^ Start from where left off.\n",
    "    turbo=True,\n",
    "    # ^ Faster evaluation (experimental)\n",
    "    julia_project=None,\n",
    "    # ^ Can set to the path of a folder containing the\n",
    "    # \"SymbolicRegression.jl\" repo, for custom modifications.\n",
    "    update=False,\n",
    "    # ^ Don't update Julia packages\n",
    "    extra_sympy_mappings={\"cos2\": lambda x: sympy.cos(x)**2},\n",
    "    # extra_torch_mappings={sympy.cos: torch.cos},\n",
    "    # ^ Not needed as cos already defined, but this\n",
    "    # is how you define custom torch operators.\n",
    "    # extra_jax_mappings={sympy.cos: \"jnp.cos\"},\n",
    "    # ^ For JAX, one passes a string.\n",
    ")"
   ]
  }
 ],
 "metadata": {
  "kernelspec": {
   "display_name": "simreg",
   "language": "python",
   "name": "python3"
  },
  "language_info": {
   "codemirror_mode": {
    "name": "ipython",
    "version": 3
   },
   "file_extension": ".py",
   "mimetype": "text/x-python",
   "name": "python",
   "nbconvert_exporter": "python",
   "pygments_lexer": "ipython3",
   "version": "3.11.4"
  },
  "orig_nbformat": 4
 },
 "nbformat": 4,
 "nbformat_minor": 2
}
