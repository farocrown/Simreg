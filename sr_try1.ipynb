{
 "cells": [
  {
   "cell_type": "code",
   "execution_count": 1,
   "metadata": {},
   "outputs": [],
   "source": [
    "import matplotlib.pyplot as plt\n",
    "import pandas as pd"
   ]
  },
  {
   "cell_type": "markdown",
   "metadata": {},
   "source": [
    "### With 100 points, three cases:\n",
    "\n",
    "1. Ideal\n",
    "2. Gaussian noise\n",
    "3. Uniform noise"
   ]
  },
  {
   "cell_type": "markdown",
   "metadata": {},
   "source": [
    "we have created a dataset with 100 points, with 5 features each. The relation we want to investigate is\n",
    "\n",
    "$$\n",
    "2.5382 cos(x_3)+x_0^2-0.5\n",
    "$$"
   ]
  },
  {
   "cell_type": "code",
   "execution_count": 2,
   "metadata": {},
   "outputs": [],
   "source": [
    "import numpy as np\n",
    "\n",
    "X = 5 * np.random.randn(100, 5)\n",
    "a = 0.5 #weight for noise\n",
    "y = 2.5382 * np.cos(X[:,3]) + X[:,0] ** 2 - 0.5 \n",
    "n = y + a*np.random.randn(100,1)\n",
    "u = y + a*np.random.rand(100,1)"
   ]
  },
  {
   "cell_type": "markdown",
   "metadata": {},
   "source": [
    "from pysr import PySRRegressor\n",
    "\n",
    "model = PySRRegressor(\n",
    "    niterations=40,  # < Increase me for better results\n",
    "    binary_operators=[\"+\", \"*\"],\n",
    "    unary_operators=[\n",
    "        \"cos\",\n",
    "        \"exp\",\n",
    "        \"sin\",\n",
    "        \"inv(x) = 1/x\",\n",
    "        # ^ Custom operator (julia syntax)\n",
    "    ],\n",
    "    extra_sympy_mappings={\"inv\": lambda x: 1 / x},\n",
    "    # ^ Define operator for SymPy as well\n",
    "    loss=\"loss(prediction, target) = (prediction - target)^2\",\n",
    "    # ^ Custom loss function (julia syntax)    \n",
    "    procs=8,\n",
    ")"
   ]
  },
  {
   "cell_type": "code",
   "execution_count": 3,
   "metadata": {},
   "outputs": [],
   "source": [
    "from pysr import PySRRegressor\n",
    "\n",
    "model = PySRRegressor(\n",
    "    niterations=40,  # < Increase me for better results\n",
    "    binary_operators=[\"+\", \"*\"],\n",
    "    unary_operators=[\n",
    "        \"cos\",\n",
    "        \"sin\",\n",
    "        \"exp\",\n",
    "    ],\n",
    "    loss=\"loss(prediction, target) = (prediction - target)^2\",\n",
    "    # ^ Custom loss function (julia syntax)    \n",
    "    procs=8,\n",
    ")"
   ]
  },
  {
   "cell_type": "markdown",
   "metadata": {},
   "source": [
    "## 1. Ideal\n"
   ]
  },
  {
   "cell_type": "code",
   "execution_count": 4,
   "metadata": {},
   "outputs": [
    {
     "name": "stderr",
     "output_type": "stream",
     "text": [
      "/Users/francescofarinelli/miniconda3/envs/simreg/lib/python3.11/site-packages/pysr/sr.py:1296: UserWarning: Note: it looks like you are running in Jupyter. The progress bar will be turned off.\n",
      "  warnings.warn(\n"
     ]
    },
    {
     "name": "stdout",
     "output_type": "stream",
     "text": [
      "Compiling Julia backend...\n"
     ]
    },
    {
     "name": "stderr",
     "output_type": "stream",
     "text": [
      "/Users/francescofarinelli/miniconda3/envs/simreg/lib/python3.11/site-packages/pysr/julia_helpers.py:208: UserWarning: Your system's Python library is static (e.g., conda), so precompilation will be turned off. For a dynamic library, try using `pyenv` and installing with `--enable-shared`: https://github.com/pyenv/pyenv/blob/master/plugins/python-build/README.md#building-with---enable-shared.\n",
      "  warnings.warn(\n"
     ]
    },
    {
     "name": "stdout",
     "output_type": "stream",
     "text": [
      "Started!\n",
      "\n",
      "Expressions evaluated per second: 1.760e+05\n",
      "Head worker occupation: 10.2%\n",
      "Progress: 397 / 600 total iterations (66.167%)\n",
      "====================================================================================================\n",
      "Hall of Fame:\n",
      "---------------------------------------------------------------------------------------------------\n",
      "Complexity  Loss       Score     Equation\n",
      "1           6.806e+02  1.793e-07  23.570692\n",
      "3           3.422e+00  2.646e+00  (x0 * x0)\n",
      "5           3.052e+00  5.720e-02  ((x0 * x0) + -0.60814166)\n",
      "6           1.441e+00  7.506e-01  ((x0 * x0) + cos(x3))\n",
      "8           2.491e-01  8.774e-01  ((x0 * x0) + (cos(x3) * 2.5696905))\n",
      "9           2.491e-01  1.717e-04  ((x0 * x0) + (cos(x3) * exp(0.95256466)))\n",
      "10          3.322e-02  2.015e+00  (((x0 * x0) + (cos(x3) * 2.5696905)) + -0.6796174)\n",
      "11          2.274e-03  2.682e+00  (((x0 * x0) + (cos(x3) * exp(0.95256466))) + -0.4679447)\n",
      "12          5.698e-12  1.977e+01  (((x0 * x0) + (cos(x3) * 2.5382)) + (0.33066484 + -0.83066463)...\n",
      "                                  )\n",
      "---------------------------------------------------------------------------------------------------\n",
      "====================================================================================================\n",
      "Press 'q' and then <enter> to stop execution early.\n"
     ]
    },
    {
     "data": {
      "text/html": [
       "<style>#sk-container-id-1 {color: black;background-color: white;}#sk-container-id-1 pre{padding: 0;}#sk-container-id-1 div.sk-toggleable {background-color: white;}#sk-container-id-1 label.sk-toggleable__label {cursor: pointer;display: block;width: 100%;margin-bottom: 0;padding: 0.3em;box-sizing: border-box;text-align: center;}#sk-container-id-1 label.sk-toggleable__label-arrow:before {content: \"▸\";float: left;margin-right: 0.25em;color: #696969;}#sk-container-id-1 label.sk-toggleable__label-arrow:hover:before {color: black;}#sk-container-id-1 div.sk-estimator:hover label.sk-toggleable__label-arrow:before {color: black;}#sk-container-id-1 div.sk-toggleable__content {max-height: 0;max-width: 0;overflow: hidden;text-align: left;background-color: #f0f8ff;}#sk-container-id-1 div.sk-toggleable__content pre {margin: 0.2em;color: black;border-radius: 0.25em;background-color: #f0f8ff;}#sk-container-id-1 input.sk-toggleable__control:checked~div.sk-toggleable__content {max-height: 200px;max-width: 100%;overflow: auto;}#sk-container-id-1 input.sk-toggleable__control:checked~label.sk-toggleable__label-arrow:before {content: \"▾\";}#sk-container-id-1 div.sk-estimator input.sk-toggleable__control:checked~label.sk-toggleable__label {background-color: #d4ebff;}#sk-container-id-1 div.sk-label input.sk-toggleable__control:checked~label.sk-toggleable__label {background-color: #d4ebff;}#sk-container-id-1 input.sk-hidden--visually {border: 0;clip: rect(1px 1px 1px 1px);clip: rect(1px, 1px, 1px, 1px);height: 1px;margin: -1px;overflow: hidden;padding: 0;position: absolute;width: 1px;}#sk-container-id-1 div.sk-estimator {font-family: monospace;background-color: #f0f8ff;border: 1px dotted black;border-radius: 0.25em;box-sizing: border-box;margin-bottom: 0.5em;}#sk-container-id-1 div.sk-estimator:hover {background-color: #d4ebff;}#sk-container-id-1 div.sk-parallel-item::after {content: \"\";width: 100%;border-bottom: 1px solid gray;flex-grow: 1;}#sk-container-id-1 div.sk-label:hover label.sk-toggleable__label {background-color: #d4ebff;}#sk-container-id-1 div.sk-serial::before {content: \"\";position: absolute;border-left: 1px solid gray;box-sizing: border-box;top: 0;bottom: 0;left: 50%;z-index: 0;}#sk-container-id-1 div.sk-serial {display: flex;flex-direction: column;align-items: center;background-color: white;padding-right: 0.2em;padding-left: 0.2em;position: relative;}#sk-container-id-1 div.sk-item {position: relative;z-index: 1;}#sk-container-id-1 div.sk-parallel {display: flex;align-items: stretch;justify-content: center;background-color: white;position: relative;}#sk-container-id-1 div.sk-item::before, #sk-container-id-1 div.sk-parallel-item::before {content: \"\";position: absolute;border-left: 1px solid gray;box-sizing: border-box;top: 0;bottom: 0;left: 50%;z-index: -1;}#sk-container-id-1 div.sk-parallel-item {display: flex;flex-direction: column;z-index: 1;position: relative;background-color: white;}#sk-container-id-1 div.sk-parallel-item:first-child::after {align-self: flex-end;width: 50%;}#sk-container-id-1 div.sk-parallel-item:last-child::after {align-self: flex-start;width: 50%;}#sk-container-id-1 div.sk-parallel-item:only-child::after {width: 0;}#sk-container-id-1 div.sk-dashed-wrapped {border: 1px dashed gray;margin: 0 0.4em 0.5em 0.4em;box-sizing: border-box;padding-bottom: 0.4em;background-color: white;}#sk-container-id-1 div.sk-label label {font-family: monospace;font-weight: bold;display: inline-block;line-height: 1.2em;}#sk-container-id-1 div.sk-label-container {text-align: center;}#sk-container-id-1 div.sk-container {/* jupyter's `normalize.less` sets `[hidden] { display: none; }` but bootstrap.min.css set `[hidden] { display: none !important; }` so we also need the `!important` here to be able to override the default hidden behavior on the sphinx rendered scikit-learn.org. See: https://github.com/scikit-learn/scikit-learn/issues/21755 */display: inline-block !important;position: relative;}#sk-container-id-1 div.sk-text-repr-fallback {display: none;}</style><div id=\"sk-container-id-1\" class=\"sk-top-container\"><div class=\"sk-text-repr-fallback\"><pre>PySRRegressor.equations_ = [\n",
       "\t   pick      score                                           equation  \\\n",
       "\t0         0.000000                                          23.570692   \n",
       "\t1         2.646407                                          (x0 * x0)   \n",
       "\t2         0.057198                          ((x0 * x0) + -0.60814166)   \n",
       "\t3         0.750635                              ((x0 * x0) + cos(x3))   \n",
       "\t4         0.877432                ((x0 * x0) + (cos(x3) * 2.5696905))   \n",
       "\t5         0.000172          ((x0 * x0) + (cos(x3) * exp(0.95256466)))   \n",
       "\t6         3.122881  (((x0 * x0) + (cos(x3) * 2.5696905)) + -0.6011...   \n",
       "\t7         1.573436  (((x0 * x0) + (cos(x3) * exp(0.95256466))) + -...   \n",
       "\t8  &gt;&gt;&gt;&gt;  19.804691  (((x0 * x0) + (cos(x3) * 2.5382)) + (0.3306648...   \n",
       "\t\n",
       "\t           loss  complexity  \n",
       "\t0  6.805666e+02           1  \n",
       "\t1  3.421609e+00           3  \n",
       "\t2  3.051749e+00           5  \n",
       "\t3  1.440630e+00           6  \n",
       "\t4  2.491294e-01           8  \n",
       "\t5  2.490867e-01           9  \n",
       "\t6  1.096732e-02          10  \n",
       "\t7  2.273871e-03          11  \n",
       "\t8  5.697673e-12          12  \n",
       "]</pre><b>In a Jupyter environment, please rerun this cell to show the HTML representation or trust the notebook. <br />On GitHub, the HTML representation is unable to render, please try loading this page with nbviewer.org.</b></div><div class=\"sk-container\" hidden><div class=\"sk-item\"><div class=\"sk-estimator sk-toggleable\"><input class=\"sk-toggleable__control sk-hidden--visually\" id=\"sk-estimator-id-1\" type=\"checkbox\" checked><label for=\"sk-estimator-id-1\" class=\"sk-toggleable__label sk-toggleable__label-arrow\">PySRRegressor</label><div class=\"sk-toggleable__content\"><pre>PySRRegressor.equations_ = [\n",
       "\t   pick      score                                           equation  \\\n",
       "\t0         0.000000                                          23.570692   \n",
       "\t1         2.646407                                          (x0 * x0)   \n",
       "\t2         0.057198                          ((x0 * x0) + -0.60814166)   \n",
       "\t3         0.750635                              ((x0 * x0) + cos(x3))   \n",
       "\t4         0.877432                ((x0 * x0) + (cos(x3) * 2.5696905))   \n",
       "\t5         0.000172          ((x0 * x0) + (cos(x3) * exp(0.95256466)))   \n",
       "\t6         3.122881  (((x0 * x0) + (cos(x3) * 2.5696905)) + -0.6011...   \n",
       "\t7         1.573436  (((x0 * x0) + (cos(x3) * exp(0.95256466))) + -...   \n",
       "\t8  &gt;&gt;&gt;&gt;  19.804691  (((x0 * x0) + (cos(x3) * 2.5382)) + (0.3306648...   \n",
       "\t\n",
       "\t           loss  complexity  \n",
       "\t0  6.805666e+02           1  \n",
       "\t1  3.421609e+00           3  \n",
       "\t2  3.051749e+00           5  \n",
       "\t3  1.440630e+00           6  \n",
       "\t4  2.491294e-01           8  \n",
       "\t5  2.490867e-01           9  \n",
       "\t6  1.096732e-02          10  \n",
       "\t7  2.273871e-03          11  \n",
       "\t8  5.697673e-12          12  \n",
       "]</pre></div></div></div></div></div>"
      ],
      "text/plain": [
       "PySRRegressor.equations_ = [\n",
       "\t   pick      score                                           equation  \\\n",
       "\t0         0.000000                                          23.570692   \n",
       "\t1         2.646407                                          (x0 * x0)   \n",
       "\t2         0.057198                          ((x0 * x0) + -0.60814166)   \n",
       "\t3         0.750635                              ((x0 * x0) + cos(x3))   \n",
       "\t4         0.877432                ((x0 * x0) + (cos(x3) * 2.5696905))   \n",
       "\t5         0.000172          ((x0 * x0) + (cos(x3) * exp(0.95256466)))   \n",
       "\t6         3.122881  (((x0 * x0) + (cos(x3) * 2.5696905)) + -0.6011...   \n",
       "\t7         1.573436  (((x0 * x0) + (cos(x3) * exp(0.95256466))) + -...   \n",
       "\t8  >>>>  19.804691  (((x0 * x0) + (cos(x3) * 2.5382)) + (0.3306648...   \n",
       "\t\n",
       "\t           loss  complexity  \n",
       "\t0  6.805666e+02           1  \n",
       "\t1  3.421609e+00           3  \n",
       "\t2  3.051749e+00           5  \n",
       "\t3  1.440630e+00           6  \n",
       "\t4  2.491294e-01           8  \n",
       "\t5  2.490867e-01           9  \n",
       "\t6  1.096732e-02          10  \n",
       "\t7  2.273871e-03          11  \n",
       "\t8  5.697673e-12          12  \n",
       "]"
      ]
     },
     "execution_count": 4,
     "metadata": {},
     "output_type": "execute_result"
    }
   ],
   "source": [
    "model.fit(X, y)"
   ]
  },
  {
   "cell_type": "code",
   "execution_count": 5,
   "metadata": {},
   "outputs": [
    {
     "data": {
      "image/png": "[encoded data removed]",
      "text/plain": [
       "<Figure size 640x480 with 1 Axes>"
      ]
     },
     "metadata": {},
     "output_type": "display_data"
    }
   ],
   "source": [
    "plt.scatter(y, model.predict(X),s=15)\n",
    "plt.plot(y,y, color='r', lw=1)\n",
    "plt.xlabel('Truth')\n",
    "plt.ylabel('Prediction')\n",
    "plt.show()"
   ]
  },
  {
   "cell_type": "code",
   "execution_count": 6,
   "metadata": {},
   "outputs": [
    {
     "data": {
      "text/plain": [
       "'x_{0}^{2} + 2.54 \\\\cos{\\\\left(x_{3} \\\\right)} - 0.500'"
      ]
     },
     "execution_count": 6,
     "metadata": {},
     "output_type": "execute_result"
    }
   ],
   "source": [
    "model.latex()"
   ]
  },
  {
   "cell_type": "markdown",
   "metadata": {},
   "source": [
    "$$ 'x_{0}^{2} + 2.70\\cos{\\left(x_{3} \\right)} - 0.546' $$\n",
    "seems good"
   ]
  },
  {
   "cell_type": "markdown",
   "metadata": {},
   "source": [
    "## 2. Gaussian noise\n"
   ]
  },
  {
   "cell_type": "code",
   "execution_count": 7,
   "metadata": {},
   "outputs": [
    {
     "name": "stderr",
     "output_type": "stream",
     "text": [
      "/Users/francescofarinelli/miniconda3/envs/simreg/lib/python3.11/site-packages/pysr/sr.py:1773: UserWarning: The discovered expressions are being reset. Please set `warm_start=True` if you wish to continue to start a search where you left off.\n",
      "  warnings.warn(\n",
      "/Users/francescofarinelli/miniconda3/envs/simreg/lib/python3.11/site-packages/pysr/sr.py:1296: UserWarning: Note: it looks like you are running in Jupyter. The progress bar will be turned off.\n",
      "  warnings.warn(\n"
     ]
    }
   ],
   "source": [
    "model.fit(X,n)"
   ]
  },
  {
   "cell_type": "markdown",
   "metadata": {},
   "source": [
    "Milan, we have some problems with the gaussian noise"
   ]
  },
  {
   "cell_type": "markdown",
   "metadata": {},
   "source": []
  }
 ],
 "metadata": {
  "kernelspec": {
   "display_name": "simreg",
   "language": "python",
   "name": "python3"
  },
  "language_info": {
   "codemirror_mode": {
    "name": "ipython",
    "version": 3
   },
   "file_extension": ".py",
   "mimetype": "text/x-python",
   "name": "python",
   "nbconvert_exporter": "python",
   "pygments_lexer": "ipython3",
   "version": "3.11.4"
  },
  "orig_nbformat": 4
 },
 "nbformat": 4,
 "nbformat_minor": 2
}
