{
 "cells": [
  {
   "cell_type": "code",
   "execution_count": null,
   "metadata": {},
   "outputs": [],
   "source": [
    "import matplotlib.pyplot as plt\n",
    "import pandas as pd\n",
    "from IPython.display import Markdown as md"
   ]
  },
  {
   "cell_type": "markdown",
   "metadata": {},
   "source": [
    "### With 100 points, three cases:\n",
    "\n",
    "1. Ideal\n",
    "2. Gaussian noise\n",
    "3. Uniform noise"
   ]
  },
  {
   "cell_type": "markdown",
   "metadata": {},
   "source": [
    "we have created a dataset with 100 points. The relation we want to investigate is\n",
    "\n",
    "$$\n",
    "2.5382 cos(x)+x^2-0.5\n",
    "$$"
   ]
  },
  {
   "cell_type": "code",
   "execution_count": null,
   "metadata": {},
   "outputs": [],
   "source": [
    "import numpy as np\n",
    "\n",
    "X = 5 * np.random.randn(100,1)\n",
    "a = 2 #weight for noise\n",
    "y = 2.5382 * np.cos(X) + X ** 2 - 0.5 \n",
    "n = y + a*np.random.randn(100,1)\n",
    "u = y + a*np.random.rand(100,1)"
   ]
  },
  {
   "cell_type": "code",
   "execution_count": null,
   "metadata": {},
   "outputs": [],
   "source": [
    "x = np.arange(np.min(X),np.max(X)+0.2, 0.2)\n",
    "g = 2.5382 * np.cos(x) + x ** 2 - 0.5 \n",
    "plt.plot(x,g, label='Ideal')\n",
    "plt.scatter(X,n, label='Gaussian noise', s=5, color='r')\n",
    "plt.scatter(X,u, label='Uniform noise', s=5, color='green')\n",
    "plt.title('Graphic representation of dataset')\n",
    "plt.xlabel('X')\n",
    "plt.ylabel('y')\n",
    "plt.legend()"
   ]
  },
  {
   "cell_type": "markdown",
   "metadata": {},
   "source": [
    "from pysr import PySRRegressor\n",
    "\n",
    "model = PySRRegressor(\n",
    "    niterations=40,  # < Increase me for better results\n",
    "    binary_operators=[\"+\", \"*\"],\n",
    "    unary_operators=[\n",
    "        \"cos\",\n",
    "        \"exp\",\n",
    "        \"sin\",\n",
    "        \"inv(x) = 1/x\",\n",
    "        # ^ Custom operator (julia syntax)\n",
    "    ],\n",
    "    extra_sympy_mappings={\"inv\": lambda x: 1 / x},\n",
    "    # ^ Define operator for SymPy as well\n",
    "    loss=\"loss(prediction, target) = (prediction - target)^2\",\n",
    "    # ^ Custom loss function (julia syntax)    \n",
    "    procs=8,\n",
    ")"
   ]
  },
  {
   "cell_type": "code",
   "execution_count": null,
   "metadata": {},
   "outputs": [],
   "source": [
    "from pysr import PySRRegressor\n",
    "\n",
    "model = PySRRegressor(\n",
    "    niterations=40,  # < Increase me for better results\n",
    "    binary_operators=[\"+\", \"*\"],\n",
    "    unary_operators=[\n",
    "        \"cos\",\n",
    "        \"sin\",\n",
    "        \"exp\",\n",
    "        \"log\",\n",
    "    ],\n",
    "    loss=\"loss(prediction, target) = (prediction - target)^2\",\n",
    "    # ^ Custom loss function (julia syntax)    \n",
    "    warm_start=True,\n",
    "    turbo=True,\n",
    "    #batching=True, not so useful for this example\n",
    ")"
   ]
  },
  {
   "cell_type": "markdown",
   "metadata": {},
   "source": [
    "## 1. Ideal\n"
   ]
  },
  {
   "cell_type": "code",
   "execution_count": null,
   "metadata": {},
   "outputs": [],
   "source": [
    "model.fit(X, y)"
   ]
  },
  {
   "cell_type": "code",
   "execution_count": null,
   "metadata": {},
   "outputs": [],
   "source": [
    "p_1 = model.predict(X)\n",
    "l_1 = model.latex()\n",
    "p=[]\n",
    "l=[]\n",
    "p.append(p_1), l.append(l_1)"
   ]
  },
  {
   "cell_type": "code",
   "execution_count": null,
   "metadata": {},
   "outputs": [],
   "source": [
    "plt.scatter(y, p_1,s=15)\n",
    "plt.plot(y,y, color='r', lw=1)\n",
    "plt.xlabel('Truth')\n",
    "plt.ylabel('Prediction')\n",
    "plt.show()"
   ]
  },
  {
   "cell_type": "code",
   "execution_count": null,
   "metadata": {},
   "outputs": [],
   "source": [
    "md(f\"The model has this equation as output: ${l[0]}$\")"
   ]
  },
  {
   "cell_type": "markdown",
   "metadata": {},
   "source": [
    "## 2. Gaussian noise\n"
   ]
  },
  {
   "cell_type": "code",
   "execution_count": null,
   "metadata": {},
   "outputs": [],
   "source": [
    "model.fit(X,n)"
   ]
  },
  {
   "cell_type": "code",
   "execution_count": null,
   "metadata": {},
   "outputs": [],
   "source": [
    "p_2 = model.predict(X)\n",
    "l_2 = model.latex()\n",
    "p.append(p_2), l.append(l_2)"
   ]
  },
  {
   "cell_type": "code",
   "execution_count": null,
   "metadata": {},
   "outputs": [],
   "source": [
    "plt.scatter(y, p_2,s=15, label='prediction')\n",
    "plt.plot(y,y, color='r', lw=1, label='true')\n",
    "plt.legend()\n",
    "plt.show()"
   ]
  },
  {
   "cell_type": "code",
   "execution_count": null,
   "metadata": {},
   "outputs": [],
   "source": [
    "md(f\"The model has this equation as output: ${l[1]}$\")"
   ]
  },
  {
   "cell_type": "markdown",
   "metadata": {},
   "source": [
    "## 3. Uniform noise"
   ]
  },
  {
   "cell_type": "code",
   "execution_count": null,
   "metadata": {},
   "outputs": [],
   "source": [
    "model.fit(X,u)"
   ]
  },
  {
   "cell_type": "code",
   "execution_count": null,
   "metadata": {},
   "outputs": [],
   "source": [
    "p_3 = model.predict(X)\n",
    "l_3 = model.latex()\n",
    "p.append(p_3), l.append(l_3)"
   ]
  },
  {
   "cell_type": "code",
   "execution_count": null,
   "metadata": {},
   "outputs": [],
   "source": [
    "plt.scatter(y, p_3,s=15, label='prediction')\n",
    "plt.plot(y,y, color='r', lw=1, label='true')\n",
    "plt.legend()\n",
    "plt.show()"
   ]
  },
  {
   "cell_type": "code",
   "execution_count": null,
   "metadata": {},
   "outputs": [],
   "source": [
    "md(f\"The model has this equation as output: ${l[2]}$\")"
   ]
  },
  {
   "cell_type": "markdown",
   "metadata": {},
   "source": [
    "## Comparison beetween ideal and noised"
   ]
  },
  {
   "cell_type": "markdown",
   "metadata": {},
   "source": [
    "Gaussian"
   ]
  },
  {
   "cell_type": "markdown",
   "metadata": {},
   "source": [
    "I compute the diferences between ideal and noised data, and later I used the discovered formulas to do the same:"
   ]
  },
  {
   "cell_type": "code",
   "execution_count": null,
   "metadata": {},
   "outputs": [],
   "source": [
    "d_1 = y-n \n",
    "d_2 = p_1-p_2"
   ]
  },
  {
   "cell_type": "code",
   "execution_count": null,
   "metadata": {},
   "outputs": [],
   "source": [
    "plt.plot(d_1, label='from data')\n",
    "plt.plot(d_2, label='from model')\n",
    "plt.legend()"
   ]
  },
  {
   "cell_type": "markdown",
   "metadata": {},
   "source": [
    "seems that the model reduces the discrepances between ideal data and gaussian-noised data: I think that's fine because we find in both cases two formulas very similar. ($ x^2+a\\cdot cos(x)+ b$, where  $a, b \\in \\mathbb{R}$)\n"
   ]
  },
  {
   "cell_type": "markdown",
   "metadata": {},
   "source": [
    "Uniform"
   ]
  },
  {
   "cell_type": "code",
   "execution_count": null,
   "metadata": {},
   "outputs": [],
   "source": [
    "r_1 = y-u\n",
    "r_2 = p_1-p_3"
   ]
  },
  {
   "cell_type": "code",
   "execution_count": null,
   "metadata": {},
   "outputs": [],
   "source": [
    "plt.plot(r_1, label='from data')\n",
    "plt.plot(r_2, label='from model')\n",
    "plt.legend()"
   ]
  },
  {
   "cell_type": "markdown",
   "metadata": {},
   "source": [
    "## Tryhard #1: using only 50 points"
   ]
  },
  {
   "cell_type": "code",
   "execution_count": null,
   "metadata": {},
   "outputs": [],
   "source": [
    "X = 5 * np.random.randn(50,1)\n",
    "y = 2.5382 * np.cos(X) + X ** 2 - 0.5 \n",
    "n = y + a*np.random.randn(50,1)\n",
    "u = y + a*np.random.rand(50,1)"
   ]
  },
  {
   "cell_type": "code",
   "execution_count": null,
   "metadata": {},
   "outputs": [],
   "source": [
    "x = np.arange(np.min(X),np.max(X)+0.2, 0.2)\n",
    "g = 2.5382 * np.cos(x) + x ** 2 - 0.5 \n",
    "plt.plot(x,g, label='ideal')\n",
    "plt.scatter(X,u, label='uniform noise', color='r', s=8)\n",
    "plt.scatter(X,n, label='gaussian noise', color='green', s=8, alpha=0.5)\n",
    "plt.legend()"
   ]
  },
  {
   "cell_type": "markdown",
   "metadata": {},
   "source": [
    "Ideal"
   ]
  },
  {
   "cell_type": "code",
   "execution_count": null,
   "metadata": {},
   "outputs": [],
   "source": [
    "model.fit(X, y)"
   ]
  },
  {
   "cell_type": "code",
   "execution_count": null,
   "metadata": {},
   "outputs": [],
   "source": [
    "l_4 = model.latex()\n",
    "p_4 = model.predict(X)\n",
    "p.append(p_4), l.append(l_4)"
   ]
  },
  {
   "cell_type": "code",
   "execution_count": null,
   "metadata": {},
   "outputs": [],
   "source": [
    "md(f\"The model has this equation as output: ${l[3]}$\")"
   ]
  },
  {
   "cell_type": "markdown",
   "metadata": {},
   "source": [
    "Gaussian"
   ]
  },
  {
   "cell_type": "code",
   "execution_count": null,
   "metadata": {},
   "outputs": [],
   "source": [
    "model.fit(X, n)"
   ]
  },
  {
   "cell_type": "code",
   "execution_count": null,
   "metadata": {},
   "outputs": [],
   "source": [
    "l_4 = model.latex()\n",
    "p_4 = model.predict(X)\n",
    "p.append(p_4), l.append(l_4)"
   ]
  },
  {
   "cell_type": "code",
   "execution_count": null,
   "metadata": {},
   "outputs": [],
   "source": [
    "md(f\"The model has this equation as output: ${l[4]}$\")"
   ]
  },
  {
   "cell_type": "markdown",
   "metadata": {},
   "source": [
    "uniform"
   ]
  },
  {
   "cell_type": "code",
   "execution_count": null,
   "metadata": {},
   "outputs": [],
   "source": [
    "model.fit(X, u)"
   ]
  },
  {
   "cell_type": "code",
   "execution_count": null,
   "metadata": {},
   "outputs": [],
   "source": [
    "l_4 = model.latex()\n",
    "p_4 = model.predict(X)\n",
    "p.append(p_4), l.append(l_4)\n",
    "md(f\"The model has this equation as output: ${l[5]}$\")"
   ]
  },
  {
   "cell_type": "markdown",
   "metadata": {},
   "source": [
    "It seems that the gaussian noise has a greater disturbance on the data, in fact the expression that I found is slightly different from the ideal one. The model suffers a bit with gaussian noise, while the model is reliable with the uniform noise"
   ]
  },
  {
   "cell_type": "markdown",
   "metadata": {},
   "source": [
    "## Tryhard: 5(or 2) variables\n",
    "\n"
   ]
  },
  {
   "cell_type": "code",
   "execution_count": null,
   "metadata": {},
   "outputs": [],
   "source": [
    "X = 5 * np.random.randn(100, 2)\n",
    "a = 2 #weight for noise\n",
    "y = 2.5382 * np.cos(X[:,1]) + X[:,0] ** 2 - 0.5\n",
    "n = y + a*np.random.randn(100)\n",
    "u = y + a*np.random.rand(100)"
   ]
  },
  {
   "cell_type": "markdown",
   "metadata": {},
   "source": [
    "we have created a dataset with 100 points with 2 features each. The relation we want to investigate is\n",
    "\n",
    "$$\n",
    "2.5382 cos(x_1)+x_0^2-0.5\n",
    "$$"
   ]
  },
  {
   "cell_type": "markdown",
   "metadata": {},
   "source": [
    "## 1. Ideal"
   ]
  },
  {
   "cell_type": "code",
   "execution_count": null,
   "metadata": {},
   "outputs": [],
   "source": [
    "model.fit(X,y)"
   ]
  },
  {
   "cell_type": "code",
   "execution_count": null,
   "metadata": {},
   "outputs": [],
   "source": [
    "l_5 = model.latex()\n",
    "p_5 = model.predict(X)\n",
    "p.append(p_5), l.append(l_5)\n",
    "md(f\"The model has this equation as output: ${l[6]}$\")"
   ]
  },
  {
   "cell_type": "code",
   "execution_count": null,
   "metadata": {},
   "outputs": [],
   "source": [
    "plt.scatter(y, p[6],s=15)\n",
    "plt.plot(y,y, color='r', lw=1)\n",
    "plt.xlabel('Truth')\n",
    "plt.ylabel('Prediction')\n",
    "plt.show()"
   ]
  },
  {
   "cell_type": "markdown",
   "metadata": {},
   "source": [
    "## 2. Gaussian"
   ]
  },
  {
   "cell_type": "code",
   "execution_count": null,
   "metadata": {},
   "outputs": [],
   "source": [
    "model.fit(X,n)"
   ]
  },
  {
   "cell_type": "code",
   "execution_count": null,
   "metadata": {},
   "outputs": [],
   "source": [
    "l_5 = model.latex()\n",
    "p_5 = model.predict(X)\n",
    "p.append(p_5), l.append(l_5)\n",
    "md(f\"The model has this equation as output: ${l[7]}$\")"
   ]
  },
  {
   "cell_type": "markdown",
   "metadata": {},
   "source": [
    "## 3. Uniform"
   ]
  },
  {
   "cell_type": "code",
   "execution_count": null,
   "metadata": {},
   "outputs": [],
   "source": [
    "model.fit(X,u)"
   ]
  },
  {
   "cell_type": "code",
   "execution_count": null,
   "metadata": {},
   "outputs": [],
   "source": [
    "l_5 = model.latex()\n",
    "p_5 = model.predict(X)\n",
    "p.append(p_5), l.append(l_5)\n",
    "md(f\"The model has this equation as output: ${l[8]}$\")"
   ]
  },
  {
   "cell_type": "markdown",
   "metadata": {},
   "source": [
    "## 5 (3 fake) variables"
   ]
  },
  {
   "cell_type": "code",
   "execution_count": null,
   "metadata": {},
   "outputs": [],
   "source": [
    "X = 5 * np.random.randn(100, 5)\n",
    "a = 2 #weight for noise\n",
    "y = 2.5382 * np.cos(X[:,3]) + X[:,0] ** 2 - 0.5\n",
    "n = y + a*np.random.randn(100)\n",
    "u = y + a*np.random.rand(100)"
   ]
  },
  {
   "cell_type": "markdown",
   "metadata": {},
   "source": [
    "we have created a dataset with 100 points with 5 features each. The relation we want to investigate is\n",
    "\n",
    "$$\n",
    "2.5382 cos(x_3)+x_0^2-0.5\n",
    "$$"
   ]
  },
  {
   "cell_type": "markdown",
   "metadata": {},
   "source": [
    "### Ideal"
   ]
  },
  {
   "cell_type": "code",
   "execution_count": null,
   "metadata": {},
   "outputs": [],
   "source": [
    "model.fit(X,y)"
   ]
  },
  {
   "cell_type": "code",
   "execution_count": null,
   "metadata": {},
   "outputs": [],
   "source": [
    "l_5 = model.latex()\n",
    "p_5 = model.predict(X)\n",
    "p.append(p_5), l.append(l_5)\n",
    "md(f\"The model has this equation as output: ${l[9]}$\")"
   ]
  },
  {
   "cell_type": "markdown",
   "metadata": {},
   "source": [
    "### Gaussian noise\n"
   ]
  },
  {
   "cell_type": "code",
   "execution_count": null,
   "metadata": {},
   "outputs": [],
   "source": [
    "model.fit(X,n)"
   ]
  },
  {
   "cell_type": "code",
   "execution_count": null,
   "metadata": {},
   "outputs": [],
   "source": [
    "l_5 = model.latex()\n",
    "p_5 = model.predict(X)\n",
    "p.append(p_5), l.append(l_5)\n",
    "md(f\"The model has this equation as output: ${l[10]}$\")"
   ]
  },
  {
   "cell_type": "markdown",
   "metadata": {},
   "source": [
    "### Uniform noise"
   ]
  },
  {
   "cell_type": "code",
   "execution_count": null,
   "metadata": {},
   "outputs": [],
   "source": [
    "model.fit(X,u)"
   ]
  },
  {
   "cell_type": "code",
   "execution_count": null,
   "metadata": {},
   "outputs": [],
   "source": [
    "l_5 = model.latex()\n",
    "p_5 = model.predict(X)\n",
    "p.append(p_5), l.append(l_5)\n",
    "md(f\"The model has this equation as output: ${l[11]}$\")"
   ]
  },
  {
   "cell_type": "markdown",
   "metadata": {},
   "source": [
    "It seems that the model fails with gaussian noise, both with one variable and with two variables. The model is anyway solid with uniform noise. "
   ]
  },
  {
   "cell_type": "markdown",
   "metadata": {},
   "source": [
    "Now we can try to increase the number of data, to see if the model can recover the expression that we want."
   ]
  },
  {
   "cell_type": "markdown",
   "metadata": {},
   "source": [
    "### fix #1: increasing the points"
   ]
  },
  {
   "cell_type": "code",
   "execution_count": null,
   "metadata": {},
   "outputs": [],
   "source": [
    "X = 5 * np.random.randn(1000, 5)\n",
    "a = 2 #weight for noise\n",
    "y = 2.5382 * np.cos(X[:,3]) + X[:,0] ** 2 - 0.5\n",
    "n = y + a*np.random.randn(1000)\n",
    "model.fit(X,n)"
   ]
  },
  {
   "cell_type": "code",
   "execution_count": null,
   "metadata": {},
   "outputs": [],
   "source": [
    "md(f\"The model has this equation as output: ${model.latex()}$\")"
   ]
  },
  {
   "cell_type": "markdown",
   "metadata": {},
   "source": [
    "It seems that the problem persist: perhaps the problem is in the factor of amplification of the noise."
   ]
  },
  {
   "cell_type": "markdown",
   "metadata": {},
   "source": [
    "### fix #2: decreasing the noise"
   ]
  },
  {
   "cell_type": "code",
   "execution_count": null,
   "metadata": {},
   "outputs": [],
   "source": [
    "X = 5 * np.random.randn(100, 5)\n",
    "a = 0.5 #weight for noise\n",
    "y = 2.5382 * np.cos(X[:,3]) + X[:,0] ** 2 - 0.5\n",
    "n = y + a*np.random.randn(100)\n",
    "model.fit(X,n)"
   ]
  },
  {
   "cell_type": "code",
   "execution_count": null,
   "metadata": {},
   "outputs": [],
   "source": [
    "md(f\"The model has this equation as output: ${model.latex()}$\")"
   ]
  },
  {
   "cell_type": "markdown",
   "metadata": {},
   "source": [
    "We finally recovered an expression that looks like the ideal one: we can compute the difference between these two quantities.\n",
    "\n",
    "y is the dataset generated, and f(x) is the prediction from the model with gaussian noise"
   ]
  },
  {
   "cell_type": "code",
   "execution_count": null,
   "metadata": {},
   "outputs": [],
   "source": [
    "plt.plot(y-model.predict(X))\n",
    "plt.ylabel(r'$y-f(x)$')"
   ]
  },
  {
   "cell_type": "markdown",
   "metadata": {},
   "source": [
    "Let's evaluate the percentage error:"
   ]
  },
  {
   "cell_type": "code",
   "execution_count": null,
   "metadata": {},
   "outputs": [],
   "source": [
    "pc_err = 100*np.abs((y-model.predict(X))/y)\n",
    "err_mean = np.mean(pc_err)\n",
    "plt.plot(pc_err)\n",
    "plt.ylabel('percentage error')"
   ]
  },
  {
   "cell_type": "markdown",
   "metadata": {},
   "source": [
    "there are few critical points, probably these are the ones near zero, where y is small and so the noise is of the same order or pheraps of an higher order of magnitude of y."
   ]
  },
  {
   "cell_type": "code",
   "execution_count": null,
   "metadata": {},
   "outputs": [],
   "source": [
    "md(f'The mean value of the percentage error is: {err_mean}')"
   ]
  },
  {
   "cell_type": "markdown",
   "metadata": {},
   "source": [
    "# Nice example: tying to interpolate the Debye model"
   ]
  },
  {
   "cell_type": "markdown",
   "metadata": {},
   "source": [
    "The Debye model for specific heat has this integral form:\n",
    "\n",
    "$$ c_v(T) = 9R\\bigg(\\frac{T}{T_D}\\bigg)^3 \\int_{0}^{\\frac{T_D}{T}}\\frac{x^4e^x}{(e^x-1)^2}dx$$\n",
    "\n",
    "where\n",
    "\n",
    "$$ x = \\frac{hv_sn}{2Lk_bT} \\quad T_D=\\frac{hv_s}{2K_b}\\sqrt[3]{\\frac{6}{\\pi}\\frac{N}{V}}$$\n",
    "\n",
    "if we consider a cube made by iron (L=$1\\ m$), we know that $T_D=464\\ K$ and $n=2$ because iron is a BCC solid."
   ]
  },
  {
   "cell_type": "code",
   "execution_count": null,
   "metadata": {},
   "outputs": [],
   "source": [
    "import numpy as np\n",
    "from scipy.integrate import quad\n",
    "\n",
    "T_D = 464\n",
    "def integrand(x):\n",
    "    return x**4 *np.exp(x)/ (np.exp(x) - 1)**2\n",
    "\n",
    "T = np.arange(1, 2000, 0.5)  \n",
    "\n",
    "def calculate_debye_integral(T):\n",
    "    result, _ = quad(integrand, 0, T_D/T)\n",
    "    return result\n",
    "\n",
    "results = np.vectorize(calculate_debye_integral)(T)\n",
    "C_v = results*9*8.314*(T/T_D)**3\n",
    "\n",
    "plt.plot(T,C_v)\n",
    "plt.xlabel(r\"$T\\ [K]$\")\n",
    "plt.ylabel(r\"$c_v(T)\\ [\\frac{J}{K}]$\")\n",
    "plt.title(\"Debye model\")\n",
    "plt.grid(True)\n",
    "plt.show()\n"
   ]
  },
  {
   "cell_type": "code",
   "execution_count": null,
   "metadata": {},
   "outputs": [],
   "source": [
    "C_v1 = C_v.reshape(-1, 1)\n",
    "T1 = T.reshape(-1, 1)"
   ]
  },
  {
   "cell_type": "code",
   "execution_count": null,
   "metadata": {},
   "outputs": [],
   "source": [
    "debyemodel = PySRRegressor(\n",
    "    niterations=50,  # < Increase me for better results\n",
    "    binary_operators=[\"+\", \"*\",'-','/',\"^\"],\n",
    "    constraints={'^': (1, 1)},\n",
    "    nested_constraints={\"^\": {\"^\": 2}},\n",
    "    unary_operators=[\n",
    "        \"exp\",\n",
    "        \"log\",\n",
    "        'sinh',\n",
    "        'cosh',\n",
    "        'erf',\n",
    "    ],\n",
    "    loss=\"loss(prediction, target) = (prediction - target)^2\",\n",
    "    # ^ Custom loss function (julia syntax)\n",
    "    turbo=True,  \n",
    "    cluster_manager=\"lsf\",\n",
    "    multithreading=True,\n",
    ")\n"
   ]
  },
  {
   "cell_type": "code",
   "execution_count": null,
   "metadata": {},
   "outputs": [],
   "source": [
    "debyemodel.fit(T1, C_v1)"
   ]
  },
  {
   "cell_type": "code",
   "execution_count": null,
   "metadata": {},
   "outputs": [],
   "source": [
    "md(f\"The model has this equation as output: ${debyemodel.latex()}$\")"
   ]
  },
  {
   "cell_type": "code",
   "execution_count": null,
   "metadata": {},
   "outputs": [],
   "source": [
    "from scipy.special import erf\n",
    "#c_v_int = np.exp(np.exp(np.sinh(erf(0.695 * np.log(0.0356 * T))))) - 0.808\n",
    "#plt.plot(T,c_v_int, label='Simbolic regression from PySR')\n",
    "c_v_pysr = debyemodel.predict(T1)\n",
    "plt.plot(T,c_v_pysr,linestyle='--',label='Simbolic regression from PySR', color='r')\n",
    "plt.plot(T,C_v, label='Debye model')\n",
    "plt.xlabel(r\"$T\\ [K]$\")\n",
    "plt.ylabel(r\"$c_v(T)\\ [\\frac{J}{K}]$\")\n",
    "plt.title(\"Debye VS PySR\")\n",
    "plt.grid(True)\n",
    "plt.legend()"
   ]
  },
  {
   "cell_type": "code",
   "execution_count": null,
   "metadata": {},
   "outputs": [],
   "source": [
    "plt.plot(T,C_v-c_v_pysr)\n",
    "plt.title('Differences between the two formulas')\n",
    "plt.xlabel(r\"$T\\ [K]$\")\n",
    "plt.ylabel(r\"$\\Delta c_v(T)\\ [\\frac{J}{K}]$\")\n",
    "plt.grid(True)\n"
   ]
  },
  {
   "cell_type": "markdown",
   "metadata": {},
   "source": [
    "That was a bold try :-)"
   ]
  }
 ],
 "metadata": {
  "kernelspec": {
   "display_name": "simreg",
   "language": "python",
   "name": "python3"
  },
  "language_info": {
   "codemirror_mode": {
    "name": "ipython",
    "version": 3
   },
   "file_extension": ".py",
   "mimetype": "text/x-python",
   "name": "python",
   "nbconvert_exporter": "python",
   "pygments_lexer": "ipython3",
   "version": "3.11.4"
  },
  "orig_nbformat": 4
 },
 "nbformat": 4,
 "nbformat_minor": 2
}
