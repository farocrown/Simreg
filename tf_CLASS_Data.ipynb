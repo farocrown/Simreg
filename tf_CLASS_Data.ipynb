{
 "cells": [
  {
   "cell_type": "markdown",
   "id": "62c70a23-07cd-461b-8498-6f49c21bf62f",
   "metadata": {
    "tags": []
   },
   "source": [
    "# Data from CLASS"
   ]
  },
  {
   "cell_type": "code",
   "execution_count": 10,
   "id": "1cbcbcde-7f04-427f-a545-7c50dc6a5933",
   "metadata": {
    "tags": []
   },
   "outputs": [],
   "source": [
    "from classy import Class\n",
    "import numpy as np\n",
    "import pandas as pd"
   ]
  },
  {
   "cell_type": "code",
   "execution_count": 11,
   "id": "3ec9cd48-0d7c-4e5a-916d-d12127111feb",
   "metadata": {},
   "outputs": [],
   "source": [
    "# Grid of 4x4 \n",
    "obh2vals = np.linspace(0.0214, 0.0234, 4)\n",
    "omh2vals = np.linspace(0.13, 0.15, 4)"
   ]
  },
  {
   "cell_type": "code",
   "execution_count": 12,
   "id": "aa727edd-7fdc-444d-8598-05e97b0a5356",
   "metadata": {},
   "outputs": [],
   "source": [
    "k_list = []\n",
    "x_list = []\n",
    "omega_b_list = []\n",
    "omega_m_list = []\n",
    "Tf_list = []"
   ]
  },
  {
   "cell_type": "code",
   "execution_count": 13,
   "id": "5a22198a-57cd-4720-bf59-58e46ae5ce80",
   "metadata": {
    "tags": []
   },
   "outputs": [],
   "source": [
    "for i in range(len(obh2vals)):\n",
    "    for j in range(len(omh2vals)):\n",
    "        params = {'output': 'mTk','omega_b': obh2vals[i],'omega_cdm': omh2vals[j]-obh2vals[i]}\n",
    "\n",
    "        cosmo = Class()\n",
    "        cosmo.set(params)\n",
    "        cosmo.compute()\n",
    "        perturbations_z0 = cosmo.get_transfer()\n",
    "        \n",
    "        k = perturbations_z0['k (h/Mpc)'] \n",
    "        m = np.max(perturbations_z0['phi'])\n",
    "        omega_b = np.array([obh2vals[i] for m in range(len(k))])\n",
    "        omega_m = np.array([omh2vals[j] for m in range(len(k))])\n",
    "        x = k/(omh2vals[j]-obh2vals[i])\n",
    "        Tf = perturbations_z0['phi']/m\n",
    "\n",
    "        k_list.extend(k)\n",
    "        x_list.extend(x)\n",
    "        omega_b_list.extend(omega_b)\n",
    "        omega_m_list.extend(omega_m)\n",
    "        Tf_list.extend(Tf)\n",
    "\n",
    "data = {'k (h/Mpc)':k_list, 'x':x_list, 'omega_b':omega_b_list, 'omega_m':omega_m_list, 'T(k)':Tf_list}\n",
    "df = pd.DataFrame(data)\n",
    "df.to_csv('TF_16.csv', index=False) "
   ]
  },
  {
   "cell_type": "markdown",
   "id": "a2fa6fcb-d817-4f6d-942c-6d8b4cd48c62",
   "metadata": {},
   "source": [
    "# Data from CLASS: Massive Neutrinos"
   ]
  },
  {
   "cell_type": "code",
   "execution_count": 14,
   "id": "f4535f19-106b-4dad-a684-f5d2882d4b81",
   "metadata": {},
   "outputs": [],
   "source": [
    "# Grid of 4x4x4\n",
    "mnuvals = np.linspace(0.06, 0.12, 4)"
   ]
  },
  {
   "cell_type": "code",
   "execution_count": 15,
   "id": "766b1072",
   "metadata": {},
   "outputs": [],
   "source": [
    "k_list.clear()\n",
    "x_list.clear()\n",
    "omega_b_list.clear()\n",
    "omega_m_list.clear()\n",
    "omega_nu_list = []\n",
    "Tf_list.clear()"
   ]
  },
  {
   "cell_type": "code",
   "execution_count": 16,
   "id": "66b826db-625f-4e07-8a3f-5fcfbbec9192",
   "metadata": {
    "tags": []
   },
   "outputs": [],
   "source": [
    "for i in range(len(obh2vals)):\n",
    "    for j in range(len(omh2vals)):\n",
    "        for p in range(len(mnuvals)):\n",
    "            params = {'output': 'mTk','omega_b': obh2vals[i],'omega_cdm': omh2vals[j] - obh2vals[i], 'N_ur' : 2.0308, 'N_ncdm': 1, 'm_ncdm': mnuvals[p]}\n",
    "            \n",
    "            cosmo = Class()\n",
    "            cosmo.set(params)\n",
    "            cosmo.compute()\n",
    "            perturbations_z0 = cosmo.get_transfer()\n",
    "            \n",
    "            k = perturbations_z0['k (h/Mpc)'] \n",
    "            m = np.max(perturbations_z0['phi'])\n",
    "            x = k/(omh2vals[j]-obh2vals[i]+mnuvals[p])\n",
    "            omega_b = np.array([obh2vals[i] for m in range(len(k))])\n",
    "            omega_m = np.array([omh2vals[j] for m in range(len(k))])\n",
    "            omega_nu = np.array([(0.0107*mnuvals[p]) for m in range(len(k))])\n",
    "            phi = perturbations_z0['phi']/m\n",
    "            \n",
    "            k_list.extend(k)\n",
    "            x_list.extend(x)\n",
    "            omega_b_list.extend(omega_b)\n",
    "            omega_m_list.extend(omega_m)\n",
    "            omega_nu_list.extend(omega_nu)\n",
    "            Tf_list.extend(Tf)\n",
    "\n",
    "data = {'k (h/Mpc)':k_list, 'x':x_list, 'omega_b':omega_b_list, 'omega_m':omega_m_list, 'T(k)':Tf_list}\n",
    "df = pd.DataFrame(data)\n",
    "df.to_csv('TF_64.csv', index=False) "
   ]
  }
 ],
 "metadata": {
  "kernelspec": {
   "display_name": "Python 3 (ipykernel)",
   "language": "python",
   "name": "python3"
  },
  "language_info": {
   "codemirror_mode": {
    "name": "ipython",
    "version": 3
   },
   "file_extension": ".py",
   "mimetype": "text/x-python",
   "name": "python",
   "nbconvert_exporter": "python",
   "pygments_lexer": "ipython3",
   "version": "3.8.16"
  },
  "toc-autonumbering": true,
  "toc-showcode": true,
  "toc-showmarkdowntxt": true
 },
 "nbformat": 4,
 "nbformat_minor": 5
}
