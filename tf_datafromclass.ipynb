{
 "cells": [
  {
   "cell_type": "code",
   "execution_count": null,
   "metadata": {},
   "outputs": [],
   "source": [
    "from classy import Class\n",
    "import matplotlib.pyplot as plt\n",
    "import numpy as np\n",
    "import pandas as pd"
   ]
  },
  {
   "cell_type": "code",
   "execution_count": null,
   "metadata": {},
   "outputs": [],
   "source": [
    "def T(LambdaCDM,z): #cosmology and redshift\n",
    "    a_f = 1/1+z\n",
    "    H_0 = LambdaCDM.h()*100\n",
    "    omega_mz = LambdaCDM.Omega_m()\n",
    "    c = 299792.458\n",
    "    primordial = LambdaCDM.get_primordial()\n",
    "    k_1 = primordial['k [1/Mpc]']\n",
    "    Ppk_cl = primordial['P_scalar(k)']\n",
    "    Pk = []\n",
    "    Phi = []\n",
    "    for k in k_1:\n",
    "            Pk.append(LambdaCDM.pk(k * LambdaCDM.h(), 0.) * LambdaCDM.h() ** 3)\n",
    "    for i in range (len(k_1)):\n",
    "        Phi.append(k_1[i]**(1.5)*np.sqrt(Pk[i]/Ppk_cl[i])*(3*(H_0**2)*omega_mz)/(2*((c*k_1[i])**2)*a_f))\n",
    "    return np.array(Phi)"
   ]
  },
  {
   "cell_type": "code",
   "execution_count": null,
   "metadata": {},
   "outputs": [],
   "source": [
    "def k(LambdaCDM):\n",
    "    primordial = LambdaCDM.get_primordial()\n",
    "    k_1 = primordial['k [1/Mpc]']\n",
    "    return k_1"
   ]
  },
  {
   "cell_type": "code",
   "execution_count": null,
   "metadata": {},
   "outputs": [],
   "source": [
    "#redshift\n",
    "z = 0\n",
    "A_s = 2.100549e-09\n",
    "n_s = 0.965\n",
    "# valore vero 0.0223828 e 0.1201075\n",
    "obar = np.linspace(0.0213828,0.0233828,4, endpoint=True)\n",
    "ocar = np.linspace(0.1101075,0.1301075,4,endpoint=True)\n",
    "\n",
    "grid = [] #the pairs are (omega_b,omega_c)\n",
    "\n",
    "for a in obar:\n",
    "    line = []\n",
    "    for b in ocar:\n",
    "        pair = (round(a, 4), round(b, 4))\n",
    "        line.append(pair)\n",
    "    grid.append(line)"
   ]
  },
  {
   "cell_type": "code",
   "execution_count": null,
   "metadata": {},
   "outputs": [],
   "source": [
    "# Inizializza la matrice vuota per i modelli LambdaCDM\n",
    "LambdaCDM_mat = []\n",
    "\n",
    "# Crea il modello Lambda-CDM per ciascun valore nella matrice grid\n",
    "for row in grid:\n",
    "    LambdaCDM_row = []  # Riga per i modelli LambdaCDM\n",
    "    for omega_b, omega_cdm in row:\n",
    "        LambdaCDM = Class()\n",
    "        LambdaCDM.set({\n",
    "            'omega_b': omega_b,\n",
    "            'omega_cdm': omega_cdm,\n",
    "            'h': 0.67810,\n",
    "            'A_s': 2.100549e-09,\n",
    "            'n_s': 0.9660499,\n",
    "            'tau_reio': 0.05430842,\n",
    "            'N_ncdm': 1,\n",
    "            'm_ncdm': 0.06\n",
    "        })\n",
    "        LambdaCDM.set({\n",
    "            'output': 'tCl,pCl,lCl,mPk',\n",
    "            'lensing': 'yes',\n",
    "            'P_k_max_1/Mpc': 3.0\n",
    "        })\n",
    "        LambdaCDM.compute()\n",
    "        LambdaCDM_row.append(LambdaCDM)\n",
    "    LambdaCDM_mat.append(LambdaCDM_row)"
   ]
  },
  {
   "cell_type": "code",
   "execution_count": null,
   "metadata": {},
   "outputs": [],
   "source": [
    "l = len(LambdaCDM_mat) \n",
    "plt.figure(figsize=(12, 6)) \n",
    "for i in range(l):\n",
    "    for j in range(l):\n",
    "        title = 'T(k) from cosmology ' + str(i*l + j + 1)\n",
    "        plt.loglog(k(LambdaCDM_mat[i][j]), T(LambdaCDM_mat[i][j], z), label=title, lw=0.5)\n",
    "        \n",
    "plt.legend(bbox_to_anchor=(1.05, 1), loc='upper left')\n",
    "plt.subplots_adjust(right=0.7)  # Aumenta lo spazio destro per fare spazio alla legenda\n",
    "\n",
    "plt.xlabel('$k \\ [h/Mpc]$')\n",
    "plt.ylabel('$T(k)$')\n",
    "plt.title('Transfer function from Different Cosmologies')\n",
    "plt.show()"
   ]
  },
  {
   "cell_type": "code",
   "execution_count": null,
   "metadata": {},
   "outputs": [],
   "source": [
    "k_int = []\n",
    "T_int = []\n",
    "for i in range(l):\n",
    "    for j in range(l):\n",
    "        k_int.append(k(LambdaCDM_mat[i][j]))\n",
    "        T_int.append(T(LambdaCDM_mat[i][j],z))\n",
    "\n",
    "k_f = []\n",
    "T_f = []\n",
    "for a in k_int:\n",
    "    k_f.extend(a)\n",
    "for a in T_int:\n",
    "    T_f.extend(a)"
   ]
  },
  {
   "cell_type": "code",
   "execution_count": null,
   "metadata": {},
   "outputs": [],
   "source": [
    "x_1 = []\n",
    "for i in range(l):\n",
    "    for j in range(l):\n",
    "        x_1.append(k(LambdaCDM_mat[i][j])/grid[i][j][1])\n",
    "x_f = []\n",
    "for a in x_1:\n",
    "    x_f.extend(a)\n",
    "plt.scatter(x_1,T_f,s=1)\n",
    "plt.loglog()"
   ]
  },
  {
   "cell_type": "code",
   "execution_count": null,
   "metadata": {},
   "outputs": [],
   "source": [
    "data = {'k (h/Mpc)': k_f,'x': x_f, 'T(k)': T_f}\n",
    "df = pd.DataFrame(data)\n",
    "df.to_csv('TF_16cosmo.csv', index=False) "
   ]
  }
 ],
 "metadata": {
  "kernelspec": {
   "display_name": "classy",
   "language": "python",
   "name": "python3"
  },
  "language_info": {
   "codemirror_mode": {
    "name": "ipython",
    "version": 3
   },
   "file_extension": ".py",
   "mimetype": "text/x-python",
   "name": "python",
   "nbconvert_exporter": "python",
   "pygments_lexer": "ipython3",
   "version": "3.8.16"
  },
  "orig_nbformat": 4
 },
 "nbformat": 4,
 "nbformat_minor": 2
}
