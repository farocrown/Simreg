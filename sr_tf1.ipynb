{
 "cells": [
  {
   "cell_type": "code",
   "execution_count": null,
   "metadata": {},
   "outputs": [],
   "source": [
    "import numpy as np\n",
    "import matplotlib.pyplot as plt\n",
    "import pandas as pd\n",
    "from pysr import PySRRegressor\n",
    "from IPython.display import Markdown as md"
   ]
  },
  {
   "cell_type": "markdown",
   "metadata": {},
   "source": [
    "In [this article](https://arxiv.org/abs/2211.06393) J. Bayron Orjuela-Quintana et al. have found an explicit expression for the transfer function T(k):\n",
    "\n",
    "$$ T(k;\\omega_b,\\omega_m) = [1+59.0998\\ x^{1.49177}+4658.01\\ x^{4.02755}+3170.79\\ x^{6.06}+150.089\\ x^{7.28478}]^{-\\frac{1}{4}} $$\n",
    "\n",
    "where\n",
    "$$ x=\\frac{k\\ Mpc}{\\omega_m-\\omega_b} $$\n",
    "\n",
    "and $\\omega_i=\\Omega_i h^2$, where $h$ is the reduced Hubble constant and $\\Omega_i$ are the density parameters where $X = b,c,m,r,\\nu,\\gamma$ denotes baryons, CDM, pressure-less matter, radiation, neutrinos, photons, respectively.\n",
    "\n",
    "First of all, let's import T(k) from CLASS:"
   ]
  },
  {
   "cell_type": "code",
   "execution_count": null,
   "metadata": {},
   "outputs": [],
   "source": [
    "def T(x):\n",
    "    a = (1 + 59.0998 * x**1.49177 + 4658.01 * x**4.02755 + 3170.79 * x**6.06 + 150.089 * x**7.28478)**(-1/4)\n",
    "    return a"
   ]
  },
  {
   "cell_type": "code",
   "execution_count": null,
   "metadata": {},
   "outputs": [],
   "source": [
    "df_cl = pd.read_csv('TF_class.csv')\n",
    "df_cus = pd.read_csv('TF_custom.csv')"
   ]
  },
  {
   "cell_type": "code",
   "execution_count": null,
   "metadata": {},
   "outputs": [],
   "source": [
    "df = pd.read_csv('TF_16.csv')"
   ]
  },
  {
   "cell_type": "markdown",
   "metadata": {},
   "source": [
    "Now, let's generate T(k)"
   ]
  },
  {
   "cell_type": "code",
   "execution_count": null,
   "metadata": {},
   "outputs": [],
   "source": [
    "h = 0.6781\n",
    "k = np.logspace(np.log10(3 * 10 ** -5), np.log10(2),num=114,endpoint=True)\n",
    "omega_b = 0.0223828 #omega baryon\n",
    "omega_m = 0.1201075 #omega pressure-less matter\n",
    "x = k/(omega_m-omega_b)\n",
    "T_ = T(x)"
   ]
  },
  {
   "cell_type": "code",
   "execution_count": null,
   "metadata": {},
   "outputs": [],
   "source": [
    "plt.plot(df_cus['k (1/Mpc)'],df_cus['T(k)'], label='computed by CLASS', lw=2)\n",
    "plt.plot(df_cus['k (1/Mpc)'],T(df_cus['k (1/Mpc)']/(omega_m-omega_b)), label='analityc formula (from GA)', linestyle=\"--\", color='r')\n",
    "plt.xlabel(r'$k\\ [\\frac{1}{Mpc}]$')\n",
    "plt.ylabel(r'$T(k)$')\n",
    "plt.title(r\"Matter transfer function $T(k)$\")\n",
    "plt.loglog()\n",
    "plt.grid(True)\n",
    "plt.legend()"
   ]
  },
  {
   "cell_type": "markdown",
   "metadata": {},
   "source": [
    "I don't understand why I obtain a good accordance while I'm neglecting that the numerator of x is adimensional ($k\\ Mpc$): in fact I used in the calculation only $k$, wich is dimensional ($[k]=\\frac{1}{Mpc}$).\n",
    "\n",
    "However, let's try to fit the analytic expression using PySR:"
   ]
  },
  {
   "cell_type": "code",
   "execution_count": null,
   "metadata": {},
   "outputs": [],
   "source": [
    "x = x.reshape(-1,1)\n",
    "cluster = [\"slurm\", \"pbs\", \"lsf\", \"sge\", \"qrsh\", \"scyld\", \"htc\"]"
   ]
  },
  {
   "cell_type": "code",
   "execution_count": null,
   "metadata": {},
   "outputs": [],
   "source": [
    "model = PySRRegressor(\n",
    "    model_selection=\"best\",\n",
    "    niterations=1000,  # < Increase me for better results\n",
    "    binary_operators=[\"+\",\"*\",\"-\",\"/\",\"^\"],\n",
    "    constraints={'^': (2, 1)},\n",
    "    nested_constraints={\"^\": {\"^\": 2}},\n",
    "    maxsize=20,\n",
    "    loss=\"loss(prediction, target) = (prediction - target)^2\",\n",
    "    # ^ Custom loss function (julia syntax)\n",
    "    turbo=True,  \n",
    "    #cluster_manager=cluster[1],\n",
    "    #multithreading=True,\n",
    ")"
   ]
  },
  {
   "cell_type": "code",
   "execution_count": null,
   "metadata": {},
   "outputs": [],
   "source": [
    "model.fit(x,T_)\n",
    "print(model)"
   ]
  },
  {
   "cell_type": "code",
   "execution_count": null,
   "metadata": {},
   "outputs": [],
   "source": [
    "md(f\"The model has this equation as output: ${model.latex()}$\")"
   ]
  },
  {
   "cell_type": "code",
   "execution_count": null,
   "metadata": {},
   "outputs": [],
   "source": [
    "fig, (ax1, ax2) = plt.subplots(2,1, figsize=(9,12))\n",
    "pred = model.predict(x)\n",
    "ax1.set_xscale('log')\n",
    "ax1.set_yscale('log')\n",
    "ax1.plot(k,pred, label='analityc formula (from PySR)', lw=2)\n",
    "ax1.plot(k,T_, label='analityc formula (from GA)', linestyle=\"--\", color='r')\n",
    "ax1.set_xlabel(r'$k \\,\\,\\,\\, [1/\\mathrm{Mpc}]$')\n",
    "ax1.set_ylabel(r'$T(k)$')\n",
    "ax1.set_title('Transfer function T(k)')\n",
    "ax1.legend()\n",
    "\n",
    "ax2.set_xlabel(r'$k \\,\\,\\,\\, [1/\\mathrm{Mpc}]$')\n",
    "ax2.set_ylabel(r'1-GA/PySR')\n",
    "ax2.plot(k,1-T_/pred)\n",
    "ax2.set_title('Relative difference between the formula and data')\n",
    "\n"
   ]
  },
  {
   "cell_type": "markdown",
   "metadata": {},
   "source": [
    "It seems that the equation is too difficult to find it. Let's try for steps, with equations little by little more complicated:\n",
    "n = k/(omega_m-omega_b)\n",
    "y = T(n)\n",
    "model.fit(x,y)\n",
    "md(f\"The model has this equation as output: ${model.latex()}$\")\n",
    "plt.plot(k,1-y/model.predict(x))\n",
    "plt.semilogy(k,model.predict(x))\n",
    "plt.semilogy(k,y)"
   ]
  },
  {
   "cell_type": "markdown",
   "metadata": {},
   "source": [
    "# A new hope"
   ]
  },
  {
   "cell_type": "markdown",
   "metadata": {},
   "source": [
    "Now we are generating data again with the analytic formula given by the paper, but now we are trying to replicate the choice of $k$ that they made.\n",
    "\n",
    "(cit.) We consider that $\\omega_b \\in [0.0214,0.0234]$, and $\\omega_m \\in [0.13,0.15]$, and to see the dependence of the transfer function on these parameters, we make a grid of 4×4 pairs of $\\{\\omega_b, \\omega_m\\}$. For each considered cosmology (16 in total), we retrieve 114 points $\\{k, T\\}$. "
   ]
  },
  {
   "cell_type": "code",
   "execution_count": null,
   "metadata": {},
   "outputs": [],
   "source": [
    "obar = np.linspace(0.0214, 0.0234, num=4, endpoint=True) #omega_b\n",
    "omar = np.linspace(0.13, 0.15, num=4, endpoint=True) #omega_m"
   ]
  },
  {
   "cell_type": "code",
   "execution_count": null,
   "metadata": {},
   "outputs": [],
   "source": [
    "grid = [] #the pairs are (omega_b,omega_m)\n",
    "\n",
    "for a in obar:\n",
    "    line = []\n",
    "    for b in omar:\n",
    "        pair = (round(a, 4), round(b, 4))\n",
    "        line.append(pair)\n",
    "    grid.append(line)"
   ]
  },
  {
   "cell_type": "markdown",
   "metadata": {},
   "source": [
    "Now, we calculate $x$:"
   ]
  },
  {
   "cell_type": "code",
   "execution_count": null,
   "metadata": {},
   "outputs": [],
   "source": [
    "k_ar = np.logspace(np.log10(3 * 10 ** -5), np.log10(2),num=114,endpoint=True)\n",
    "x_1 = []\n",
    "k_1 = []\n",
    "\n",
    "for line in grid:\n",
    "    for couple in line:\n",
    "        a,b = couple\n",
    "        x_1.append(k_ar/(b-a))\n",
    "        k_1.append(k_ar)\n",
    "\n",
    "x_1 = np.concatenate(x_1)\n",
    "k_1 = np.concatenate(k_1)"
   ]
  },
  {
   "cell_type": "markdown",
   "metadata": {},
   "source": [
    "Therefore, our preliminary dataset is composed by 1824 points. Now let's compute T(x) with the formula:"
   ]
  },
  {
   "cell_type": "code",
   "execution_count": null,
   "metadata": {},
   "outputs": [],
   "source": [
    "T_1 = T(x_1)"
   ]
  },
  {
   "cell_type": "code",
   "execution_count": null,
   "metadata": {},
   "outputs": [],
   "source": [
    "x_1 = x_1.reshape(-1,1)"
   ]
  },
  {
   "cell_type": "code",
   "execution_count": null,
   "metadata": {},
   "outputs": [],
   "source": [
    "model.fit(x_1,T_1)"
   ]
  },
  {
   "cell_type": "code",
   "execution_count": null,
   "metadata": {},
   "outputs": [],
   "source": [
    "md(f\"The model has this equation as output: ${model.latex()}$\")"
   ]
  },
  {
   "cell_type": "code",
   "execution_count": null,
   "metadata": {},
   "outputs": [],
   "source": [
    "plt.scatter(x_1,T_1, s=1, label='From GA')\n",
    "plt.scatter(x_1, model.predict(x_1), s=1, label='From PySR')\n",
    "plt.loglog()\n",
    "plt.legend()"
   ]
  },
  {
   "cell_type": "code",
   "execution_count": null,
   "metadata": {},
   "outputs": [],
   "source": [
    "plt.scatter(k_1,1-T_1/model.predict(x_1),s=1)"
   ]
  },
  {
   "cell_type": "code",
   "execution_count": null,
   "metadata": {},
   "outputs": [],
   "source": []
  }
 ],
 "metadata": {
  "kernelspec": {
   "display_name": "simreg",
   "language": "python",
   "name": "python3"
  },
  "language_info": {
   "codemirror_mode": {
    "name": "ipython",
    "version": 3
   },
   "file_extension": ".py",
   "mimetype": "text/x-python",
   "name": "python",
   "nbconvert_exporter": "python",
   "pygments_lexer": "ipython3",
   "version": "3.11.4"
  },
  "orig_nbformat": 4
 },
 "nbformat": 4,
 "nbformat_minor": 2
}
