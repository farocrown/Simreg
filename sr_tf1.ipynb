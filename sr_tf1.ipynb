{
 "cells": [
  {
   "cell_type": "markdown",
   "metadata": {},
   "source": [
    "In [this article](https://arxiv.org/abs/2211.06393) J. Bayron Orjuela-Quintana et al. have found an explicit expression for the transfer function T(k):\n",
    "\n",
    "$$ T(k;\\omega_b,\\omega_m) = [1+59.0998\\ x^{1.49177}+4658.01\\ x^{4.02755}+3170.79\\ x^{6.06}+150.089\\ x^7.28478]^{-\\frac{1}{4}} $$\n",
    "\n",
    "where\n",
    "$$ x=\\frac{k\\ Mpc}{\\omega_m-\\omega_b} $$\n",
    "\n",
    "Now, let's generate T(k)"
   ]
  },
  {
   "cell_type": "code",
   "execution_count": null,
   "metadata": {},
   "outputs": [],
   "source": [
    "kMpc = np.logspace(-3, np.log10(3), 1000)\n",
    "x = ...\n",
    "T = (1 + 59.0998 * x**1.49177 + 4658.01 * x**4.02755 + 3170.79 * x**6.06 + 150.089 * x**7.28478)**(-1/4)"
   ]
  }
 ],
 "metadata": {
  "kernelspec": {
   "display_name": "simreg",
   "language": "python",
   "name": "python3"
  },
  "language_info": {
   "name": "python",
   "version": "3.11.4"
  },
  "orig_nbformat": 4
 },
 "nbformat": 4,
 "nbformat_minor": 2
}
