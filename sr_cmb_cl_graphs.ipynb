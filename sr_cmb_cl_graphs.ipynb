{
 "cells": [
  {
   "cell_type": "code",
   "execution_count": 1,
   "metadata": {},
   "outputs": [],
   "source": [
    "import numpy as np\n",
    "import matplotlib.pyplot as plt\n",
    "import pandas as pd\n",
    "from pysr import PySRRegressor"
   ]
  },
  {
   "cell_type": "code",
   "execution_count": 2,
   "metadata": {},
   "outputs": [],
   "source": [
    "def error(data,model):\n",
    "    if len(data) != len(model):\n",
    "        print('ERROR: array must have the same length!')\n",
    "        return\n",
    "    \n",
    "    l = len(data)\n",
    "    error = []\n",
    "    \n",
    "    for i in range(l):\n",
    "        error.append(100*abs((data[i] - model[i]) / data[i]))\n",
    "    \n",
    "    return np.array(error)"
   ]
  },
  {
   "cell_type": "code",
   "execution_count": 3,
   "metadata": {},
   "outputs": [],
   "source": [
    "def accuracy(data, model):\n",
    "    if len(data) != len(model):\n",
    "        print('ERROR: array must have the same length!')\n",
    "        return\n",
    "    \n",
    "    l = len(data)\n",
    "    total_error = 0\n",
    "    \n",
    "    for i in range(l):\n",
    "        error = abs((data[i] - model[i]) / data[i])\n",
    "        total_error += error\n",
    "    \n",
    "    avg_error = total_error / l\n",
    "    accuracy_percentage = 100 * (1 - avg_error)\n",
    "    \n",
    "    return accuracy_percentage"
   ]
  },
  {
   "cell_type": "code",
   "execution_count": 4,
   "metadata": {},
   "outputs": [],
   "source": [
    "model = PySRRegressor()"
   ]
  },
  {
   "cell_type": "code",
   "execution_count": 5,
   "metadata": {},
   "outputs": [],
   "source": [
    "def bran(x,T,alpha):\n",
    "    a = model.from_file(alpha)\n",
    "    T_1 = a.predict(x)\n",
    "    print('Model equation is: ', a.latex())\n",
    "    fig, axs = plt.subplots(1, 2, figsize=(18, 6))\n",
    "    axs[0].scatter(x,T, s=2, label='CLASS data')\n",
    "    axs[0].plot(x[0:114], T_1[0:114], lw=1.5, label='From PySR', color='r')\n",
    "    axs[0].set_xlabel(r'$x$')\n",
    "    axs[0].set_ylabel(r'$T(x)$')\n",
    "    axs[0].set_title('Computed vs SR')\n",
    "    axs[0].loglog()\n",
    "    axs[0].grid(True)\n",
    "    axs[0].legend()\n",
    "\n",
    "\n",
    "    axs[1].scatter(x,error(T,T_1),s=3)\n",
    "    axs[1].set_xlabel(r'$x$')\n",
    "    axs[1].set_ylabel(r'$\\frac{|T_{CLASS}(x)-T_{SR}(x)|}{T_{CLASS}(x)}\\cdot 100$')\n",
    "    axs[1].set_title('Error')\n",
    "    axs[1].grid(True)\n",
    "    axs[1].loglog()\n",
    "\n",
    "    print('The accuracy of the model is: ',np.round(accuracy(T,T_1),2),'%')\n",
    "    print('Max percentage error is: ',np.round(np.amax(error(T,T_1)),2),'%')\n"
   ]
  },
  {
   "cell_type": "markdown",
   "metadata": {},
   "source": [
    "lol"
   ]
  },
  {
   "cell_type": "code",
   "execution_count": 6,
   "metadata": {},
   "outputs": [
    {
     "data": {
      "text/html": [
       "<div>\n",
       "<style scoped>\n",
       "    .dataframe tbody tr th:only-of-type {\n",
       "        vertical-align: middle;\n",
       "    }\n",
       "\n",
       "    .dataframe tbody tr th {\n",
       "        vertical-align: top;\n",
       "    }\n",
       "\n",
       "    .dataframe thead th {\n",
       "        text-align: right;\n",
       "    }\n",
       "</style>\n",
       "<table border=\"1\" class=\"dataframe\">\n",
       "  <thead>\n",
       "    <tr style=\"text-align: right;\">\n",
       "      <th></th>\n",
       "      <th>tau</th>\n",
       "      <th>ell</th>\n",
       "      <th>EE</th>\n",
       "      <th>TE</th>\n",
       "      <th>TT</th>\n",
       "    </tr>\n",
       "  </thead>\n",
       "  <tbody>\n",
       "    <tr>\n",
       "      <th>0</th>\n",
       "      <td>0.02</td>\n",
       "      <td>2</td>\n",
       "      <td>1.879053e-15</td>\n",
       "      <td>4.797379e-13</td>\n",
       "      <td>2.922889e-10</td>\n",
       "    </tr>\n",
       "    <tr>\n",
       "      <th>1</th>\n",
       "      <td>0.04</td>\n",
       "      <td>2</td>\n",
       "      <td>4.644890e-15</td>\n",
       "      <td>5.567004e-13</td>\n",
       "      <td>2.927408e-10</td>\n",
       "    </tr>\n",
       "    <tr>\n",
       "      <th>2</th>\n",
       "      <td>0.06</td>\n",
       "      <td>2</td>\n",
       "      <td>7.428302e-15</td>\n",
       "      <td>5.765040e-13</td>\n",
       "      <td>2.932656e-10</td>\n",
       "    </tr>\n",
       "    <tr>\n",
       "      <th>3</th>\n",
       "      <td>0.08</td>\n",
       "      <td>2</td>\n",
       "      <td>1.005212e-14</td>\n",
       "      <td>5.786188e-13</td>\n",
       "      <td>2.935428e-10</td>\n",
       "    </tr>\n",
       "    <tr>\n",
       "      <th>4</th>\n",
       "      <td>0.10</td>\n",
       "      <td>2</td>\n",
       "      <td>1.250106e-14</td>\n",
       "      <td>5.738810e-13</td>\n",
       "      <td>2.937351e-10</td>\n",
       "    </tr>\n",
       "    <tr>\n",
       "      <th>...</th>\n",
       "      <td>...</td>\n",
       "      <td>...</td>\n",
       "      <td>...</td>\n",
       "      <td>...</td>\n",
       "      <td>...</td>\n",
       "    </tr>\n",
       "    <tr>\n",
       "      <th>289</th>\n",
       "      <td>0.04</td>\n",
       "      <td>50</td>\n",
       "      <td>6.176447e-17</td>\n",
       "      <td>-7.801871e-16</td>\n",
       "      <td>6.287819e-13</td>\n",
       "    </tr>\n",
       "    <tr>\n",
       "      <th>290</th>\n",
       "      <td>0.06</td>\n",
       "      <td>50</td>\n",
       "      <td>5.937659e-17</td>\n",
       "      <td>-7.523330e-16</td>\n",
       "      <td>6.057582e-13</td>\n",
       "    </tr>\n",
       "    <tr>\n",
       "      <th>291</th>\n",
       "      <td>0.08</td>\n",
       "      <td>50</td>\n",
       "      <td>5.709061e-17</td>\n",
       "      <td>-7.227135e-16</td>\n",
       "      <td>5.842923e-13</td>\n",
       "    </tr>\n",
       "    <tr>\n",
       "      <th>292</th>\n",
       "      <td>0.10</td>\n",
       "      <td>50</td>\n",
       "      <td>5.493020e-17</td>\n",
       "      <td>-6.813153e-16</td>\n",
       "      <td>5.642719e-13</td>\n",
       "    </tr>\n",
       "    <tr>\n",
       "      <th>293</th>\n",
       "      <td>0.12</td>\n",
       "      <td>50</td>\n",
       "      <td>5.288012e-17</td>\n",
       "      <td>-6.535264e-16</td>\n",
       "      <td>5.455493e-13</td>\n",
       "    </tr>\n",
       "  </tbody>\n",
       "</table>\n",
       "<p>294 rows × 5 columns</p>\n",
       "</div>"
      ],
      "text/plain": [
       "      tau  ell            EE            TE            TT\n",
       "0    0.02    2  1.879053e-15  4.797379e-13  2.922889e-10\n",
       "1    0.04    2  4.644890e-15  5.567004e-13  2.927408e-10\n",
       "2    0.06    2  7.428302e-15  5.765040e-13  2.932656e-10\n",
       "3    0.08    2  1.005212e-14  5.786188e-13  2.935428e-10\n",
       "4    0.10    2  1.250106e-14  5.738810e-13  2.937351e-10\n",
       "..    ...  ...           ...           ...           ...\n",
       "289  0.04   50  6.176447e-17 -7.801871e-16  6.287819e-13\n",
       "290  0.06   50  5.937659e-17 -7.523330e-16  6.057582e-13\n",
       "291  0.08   50  5.709061e-17 -7.227135e-16  5.842923e-13\n",
       "292  0.10   50  5.493020e-17 -6.813153e-16  5.642719e-13\n",
       "293  0.12   50  5.288012e-17 -6.535264e-16  5.455493e-13\n",
       "\n",
       "[294 rows x 5 columns]"
      ]
     },
     "execution_count": 6,
     "metadata": {},
     "output_type": "execute_result"
    }
   ],
   "source": [
    "df = pd.read_csv('CL_6_50_sort.csv')\n",
    "df"
   ]
  },
  {
   "cell_type": "code",
   "execution_count": 12,
   "metadata": {},
   "outputs": [
    {
     "name": "stdout",
     "output_type": "stream",
     "text": [
      "Checking if hall_of_fame_2023-09-14_154730.587.pkl exists...\n",
      "Loading model from hall_of_fame_2023-09-14_154730.587.pkl\n"
     ]
    },
    {
     "data": {
      "text/plain": [
       "'- 88.8 \\\\tau \\\\left(\\\\tau - 0.917\\\\right) - 0.611'"
      ]
     },
     "execution_count": 12,
     "metadata": {},
     "output_type": "execute_result"
    }
   ],
   "source": [
    "a = model.from_file('hall_of_fame_2023-09-14_154730.587.pkl')\n",
    "a.latex()"
   ]
  },
  {
   "cell_type": "markdown",
   "metadata": {},
   "source": [
    "$$ 88.8 \\tau^2 -80.7\\tau - 0.611$$"
   ]
  },
  {
   "cell_type": "code",
   "execution_count": null,
   "metadata": {},
   "outputs": [],
   "source": []
  }
 ],
 "metadata": {
  "kernelspec": {
   "display_name": "simreg",
   "language": "python",
   "name": "python3"
  },
  "language_info": {
   "codemirror_mode": {
    "name": "ipython",
    "version": 3
   },
   "file_extension": ".py",
   "mimetype": "text/x-python",
   "name": "python",
   "nbconvert_exporter": "python",
   "pygments_lexer": "ipython3",
   "version": "3.11.4"
  },
  "orig_nbformat": 4
 },
 "nbformat": 4,
 "nbformat_minor": 2
}
