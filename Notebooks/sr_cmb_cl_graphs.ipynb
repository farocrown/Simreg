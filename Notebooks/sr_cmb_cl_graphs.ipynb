{
 "cells": [
  {
   "cell_type": "code",
   "execution_count": null,
   "metadata": {},
   "outputs": [],
   "source": [
    "import numpy as np\n",
    "import matplotlib.pyplot as plt\n",
    "import pandas as pd\n",
    "from pysr import PySRRegressor\n",
    "import custom_rcparams\n",
    "import os"
   ]
  },
  {
   "cell_type": "code",
   "execution_count": null,
   "metadata": {},
   "outputs": [],
   "source": [
    "notebook_folder = os.path.dirname('')\n",
    "images_folder = os.path.join(notebook_folder, \"..\", \"Images\")\n",
    "models_folder = os.path.join(notebook_folder, \"..\", \"models\", \"pkl\")\n",
    "data_folder = os.path.join(notebook_folder, \"..\", \"Data\")\n",
    "def data_path(data_id):\n",
    "    return os.path.join(data_folder, data_id)\n",
    "def model_path(model_id):\n",
    "    return os.path.join(models_folder, model_id)\n",
    "def img_path(img_id):\n",
    "    return os.path.join(images_folder, img_id)\n",
    "def save_img(img_id):\n",
    "    plt.savefig(img_path(img_id) + \".pdf\", format='pdf', bbox_inches='tight')"
   ]
  },
  {
   "cell_type": "code",
   "execution_count": null,
   "metadata": {},
   "outputs": [],
   "source": [
    "def error(data,model):\n",
    "    if len(data) != len(model):\n",
    "        print('ERROR: array must have the same length!')\n",
    "        return\n",
    "    \n",
    "    l = len(data)\n",
    "    error = []\n",
    "    \n",
    "    for i in range(l):\n",
    "        error.append(100*abs((data[i] - model[i]) / data[i]))\n",
    "    \n",
    "    return np.array(error)"
   ]
  },
  {
   "cell_type": "code",
   "execution_count": null,
   "metadata": {},
   "outputs": [],
   "source": [
    "def rmse(actual_values,predicted_values):\n",
    "    squared_diff = [(actual - predicted) ** 2 for actual, predicted in zip(actual_values, predicted_values)]\n",
    "\n",
    "    # Step 4: Calculate the mean of squared differences\n",
    "    mean_squared_diff = np.mean(squared_diff)\n",
    "\n",
    "    # Step 5: Calculate RMSE (square root of the mean squared difference)\n",
    "    rmse = np.sqrt(mean_squared_diff)\n",
    "    return rmse"
   ]
  },
  {
   "cell_type": "code",
   "execution_count": null,
   "metadata": {},
   "outputs": [],
   "source": [
    "def accuracy(data, model):\n",
    "    if len(data) != len(model):\n",
    "        print('ERROR: array must have the same length!')\n",
    "        return\n",
    "    \n",
    "    l = len(data)\n",
    "    total_error = 0\n",
    "    \n",
    "    for i in range(l):\n",
    "        error = abs((data[i] - model[i]) / data[i])\n",
    "        total_error += error\n",
    "    \n",
    "    avg_error = total_error / l\n",
    "    accuracy_percentage = 100 * (avg_error)\n",
    "    \n",
    "    return accuracy_percentage"
   ]
  },
  {
   "cell_type": "code",
   "execution_count": null,
   "metadata": {},
   "outputs": [],
   "source": [
    "model = PySRRegressor()"
   ]
  },
  {
   "cell_type": "code",
   "execution_count": null,
   "metadata": {},
   "outputs": [],
   "source": [
    "def bran(x,T,alpha):\n",
    "    a = model.from_file(alpha)\n",
    "    T_1 = a.predict(x)\n",
    "    print('Model equation is: ', a.latex())\n",
    "    fig, axs = plt.subplots(1, 2, figsize=(18, 6))\n",
    "    axs[0].scatter(x,T, s=2, label='CLASS data')\n",
    "    axs[0].plot(x[0:114], T_1[0:114], lw=1.5, label='From PySR', color='r')\n",
    "    axs[0].set_xlabel(r'$x$')\n",
    "    axs[0].set_ylabel(r'$T(x)$')\n",
    "    axs[0].set_title('Computed vs SR')\n",
    "    axs[0].loglog()\n",
    "    axs[0].grid(True)\n",
    "    axs[0].legend()\n",
    "\n",
    "\n",
    "    axs[1].scatter(x,error(T,T_1),s=3)\n",
    "    axs[1].set_xlabel(r'$x$')\n",
    "    axs[1].set_ylabel(r'$\\frac{|T_{CLASS}(x)-T_{SR}(x)|}{T_{CLASS}(x)}\\cdot 100$')\n",
    "    axs[1].set_title('Error')\n",
    "    axs[1].grid(True)\n",
    "    axs[1].loglog()\n",
    "\n",
    "    print('The accuracy of the model is: ',np.round(accuracy(T,T_1),2),'%')\n",
    "    print('Max percentage error is: ',np.round(np.amax(error(T,T_1)),2),'%')\n"
   ]
  },
  {
   "cell_type": "markdown",
   "metadata": {},
   "source": [
    "lol"
   ]
  },
  {
   "cell_type": "code",
   "execution_count": null,
   "metadata": {},
   "outputs": [],
   "source": [
    "df = pd.read_csv(data_path('CL_20_50_2.csv'))\n",
    "df"
   ]
  },
  {
   "cell_type": "markdown",
   "metadata": {},
   "source": [
    "## REG 2-variables"
   ]
  },
  {
   "cell_type": "markdown",
   "metadata": {},
   "source": [
    "planck not in the middle: F-ell-tau-1909.pkl\n",
    "$$ F(\\ell,\\tau) = \\left(\\left(0.0874 \\ell\\right)^{- 13.2 \\ell + 13.2 e^{5.17 \\tau}} + 1.45\\right)^{\\tau} $$\n",
    "planck in the middle: hall_of_fame_2023-10-08_233653.410.pkl\n",
    "$$F(\\ell,\\tau) = - \\tau + \\cosh{\\left(0.0188^{\\sin{\\left(2.42 \\tau - \\log{\\left(\\ell + 1.25 \\right)} \\right)}} \\tau \\right)}$$"
   ]
  },
  {
   "cell_type": "code",
   "execution_count": null,
   "metadata": {},
   "outputs": [],
   "source": [
    "beta = model.from_file(model_path('hall_of_fame_2023-10-08_233653.410.pkl'))\n",
    "print(beta.latex())"
   ]
  },
  {
   "cell_type": "code",
   "execution_count": null,
   "metadata": {},
   "outputs": [],
   "source": [
    "t_reio = np.round(np.linspace(0.0561-5*0.0071, 0.0561+5*0.0071, 20, endpoint=True),4)\n",
    "tau = 0.0561\n",
    "index = np.abs(t_reio - tau).argmin()\n",
    "t_reio[index] = tau\n",
    "x = pd.DataFrame({'ell': df['ell'], 'tau': df['tau']})\n",
    "ee = df['EE'].values\n",
    "tau = df['tau'].values\n",
    "a = len(t_reio)\n",
    "ell = df['ell'].values\n",
    "b = len(ell)\n",
    "alpha = int(b/a)\n",
    "plt.figure(figsize=(18, 9))\n",
    "ee_alpha = ee[0:alpha]\n",
    "avg_acc = 0\n",
    "avg_rmse = 0\n",
    "\n",
    "plt.figure(figsize=(18, 9))\n",
    "#plt.xlim([20,50])\n",
    "#plt.ylim([0.7,1.2])\n",
    "for i in range(a):\n",
    "    l = ell[i * alpha:(i + 1) * alpha]\n",
    "    y = (ee[i * alpha:(i + 1) * alpha]) / (ee_alpha)\n",
    "    z = beta.predict(x)[i * alpha:(i + 1) * alpha]\n",
    "\n",
    "    string = r'$\\tau_{reio}=$' + str(round(t_reio[i], 2))\n",
    "    plt.loglog(l, z, lw=1, label=string)\n",
    "    plt.scatter(l, y, s=3, label=string)\n",
    "    plt.legend()  \n",
    "\n",
    "    acc = accuracy(y,z)\n",
    "    avg_acc += acc/20\n",
    "    avg_rmse += rmse(y,z)/20\n",
    "    print('tau_',i+1,' MAPE:',round(acc,2))\n",
    "\n",
    "print('average MAPE is:', round(avg_acc,2), '%')\n",
    "print('RMSE of the model is: ',round(avg_rmse,2))\n",
    "\n",
    "plt.xlabel('$\\ell$')\n",
    "plt.ylabel('$C^{EE}_{\\ell}\\cdot \\ell(\\ell+1)/2\\pi \\ \\ [\\mu K^2]$')\n",
    "plt.title(r'$C_{\\ell}^{EE}$ for different values of $\\tau_{reio}$')\n",
    "plt.grid(True)\n",
    "plt.show() "
   ]
  },
  {
   "cell_type": "markdown",
   "metadata": {},
   "source": [
    "## REG separation variables"
   ]
  },
  {
   "cell_type": "code",
   "execution_count": null,
   "metadata": {},
   "outputs": [],
   "source": [
    "def h(ell,tau):\n",
    "    f =np.exp(ell / (0.32 * (1.39**ell - ell) + 1.16) )- 0.124\n",
    "    g = 8.05 * 10**4 * tau**2 * (tau - 0.0235) + 1.11\n",
    "    pr = f * g\n",
    "    return pr\n",
    "\n",
    "norm_ga = []\n",
    "\n",
    "for i in range (a):\n",
    "    z = np.max((ee[(i * alpha):(i + 1)*alpha]/ee[0:alpha]))*h(ell[(i * alpha):(i + 1)*alpha],tau[(i * alpha):(i + 1)*alpha])/np.max(h(ell[(i * alpha):(i + 1)*alpha],tau[(i * alpha):(i + 1)*alpha]))\n",
    "    norm_ga.append(z)\n",
    "F_ga = np.concatenate(norm_ga)"
   ]
  },
  {
   "cell_type": "code",
   "execution_count": null,
   "metadata": {},
   "outputs": [],
   "source": [
    "plt.figure(figsize=(18, 9))\n",
    "#plt.xlim([20,50])\n",
    "#plt.ylim([0.3,1.2])\n",
    "avg_rmse = 0\n",
    "avg_acc = 0\n",
    "for i in range(a):\n",
    "    l = ell[i * alpha:(i + 1) * alpha]\n",
    "    y = (ee[i * alpha:(i + 1) * alpha]) / (ee_alpha)\n",
    "    z = F_ga[i * alpha:(i + 1) * alpha]\n",
    "\n",
    "    string = r'$\\tau_{reio}=$' + str(round(t_reio[i], 2))\n",
    "    plt.loglog(l, z, lw=1, label=string)\n",
    "    plt.scatter(l, y, s=1, label=string)\n",
    "    plt.legend()  \n",
    "\n",
    "    acc = accuracy(y,z)\n",
    "    avg_acc += acc/20\n",
    "    avg_rmse += rmse(y,z)/20\n",
    "    print('tau_',i+1,' MAPE:',round(acc,2))\n",
    "\n",
    "print('average MAPE is:', round(avg_acc,2), '%')\n",
    "print('RMSE of the model is: ',round(avg_rmse,2))\n",
    "\n",
    "\n",
    "plt.xlabel('$\\ell$')\n",
    "plt.ylabel('$C^{EE}_{\\ell}\\cdot \\ell(\\ell+1)/2\\pi \\ \\ [\\mu K^2]$')\n",
    "plt.title(r'$C_{\\ell}^{EE}$ for different values of $\\tau_{reio}$')\n",
    "plt.grid(True)\n",
    "plt.show() "
   ]
  },
  {
   "cell_type": "code",
   "execution_count": null,
   "metadata": {},
   "outputs": [],
   "source": [
    "df = pd.read_csv(data_path('CL_20_50_2.csv'))\n",
    "x = pd.DataFrame({'ell': df['ell'], 'tau': df['tau']})\n",
    "ee = df['EE'].values\n",
    "tau = df['tau'].values\n",
    "ell = df['ell'].values\n",
    "ee_alpha = ee[0:alpha]\n",
    "\n",
    "ee_vec = []\n",
    "ga_vec = []\n",
    "ell1 = ell[0:alpha]\n",
    "ee_alpha = ee[0:alpha]\n",
    "\n",
    "for i in range(a):\n",
    "    y = (ee[i * alpha:(i + 1) * alpha]) / (ee_alpha)\n",
    "    ee_vec.append(y)\n",
    "    z = F_ga[i * alpha:(i + 1) * alpha]\n",
    "    ga_vec.append(z)"
   ]
  },
  {
   "cell_type": "code",
   "execution_count": null,
   "metadata": {},
   "outputs": [],
   "source": [
    "import rcpresentation"
   ]
  },
  {
   "cell_type": "code",
   "execution_count": null,
   "metadata": {},
   "outputs": [],
   "source": [
    "ind = len(ee_vec)\n",
    "plt.rcParams['figure.figsize'] = (10, 7)  # Larghezza x Altezza \n",
    "plt.scatter(ell1,ee_vec[0]/ee_vec[0],s=10)\n",
    "plt.scatter(ell1,ee_vec[3]/ee_vec[0],s=10)\n",
    "plt.scatter(ell1,ee_vec[8]/ee_vec[0],s=10)\n",
    "plt.scatter(ell1,ee_vec[12]/ee_vec[0],s=10)\n",
    "plt.scatter(ell1,ee_vec[18]/ee_vec[0],s=10)\n",
    "\n",
    "plt.loglog(ell1,ga_vec[0])\n",
    "plt.loglog(ell1,ga_vec[3])\n",
    "plt.loglog(ell1,ga_vec[8])\n",
    "plt.loglog(ell1,ga_vec[12])\n",
    "plt.loglog(ell1,ga_vec[18])\n",
    "\n",
    "plt.scatter(0,0,label='Data from CLASS',s=10, color='k')\n",
    "plt.axhline(0, label='from PySR', color='k')\n",
    "\n",
    "plt.xlabel(r'$\\ell$')\n",
    "plt.ylabel(r'$\\mathcal{F}(\\ell,\\tau)$')\n",
    "plt.legend()\n",
    "save_img(\"CL_GA_Ratio_nopreproc\")"
   ]
  },
  {
   "cell_type": "markdown",
   "metadata": {},
   "source": [
    "## dividere tutto per $e^{-2\\tau}$ "
   ]
  },
  {
   "cell_type": "markdown",
   "metadata": {},
   "source": [
    "planck not in the middle\n",
    "1) hall_of_fame_2023-10-02_160505.349.pkl\n",
    "$$ F(\\ell, \\tau) =  \\cosh{\\left(\\tau e^{e^{\\tan{\\left(\\sin{\\left(\\sinh{\\left(\\sin{\\left(\\log{\\left(0.547 \\ell + 0.547 e^{\\cosh{\\left(\\cos{\\left(\\log{\\left(\\tau \\right)} \\right)} \\right)}} \\right)} \\right)} \\right)} \\right)} \\right)}}} \\right)} $$\n",
    "        average accuracy is: 93.97 % (graficamente più bello)\n",
    "2) hall_of_fame_2023-10-02_194604.026.pkl\n",
    "$$ F(\\ell, \\tau) = e^{\\frac{\\cosh{\\left(9.42 \\cdot 0.898^{\\ell} \\ell \\tau \\right)}}{\\ell}}$$\n",
    "        average accuracy is: 86.07 %\n",
    "3) hall_of_fame_2023-10-02_194903.091.pkl\n",
    "$$ F(\\ell, \\tau) = \\cosh{\\left(1.31 \\ell \\tanh{\\left(\\frac{0.763^{\\ell}}{\\tan{\\left(\\frac{0.0318}{\\tau} \\right)}} \\right)} \\right)} $$\n",
    "        average accuracy is: 94.03 %\n",
    "4) hall_of_fame_2023-10-02_230558.913.pkl\n",
    "$$ F(\\ell, \\tau) = \\cosh{\\left(\\frac{13.9 \\ell \\tau}{\\cosh{\\left(\\log{\\left(0.787^{\\ell} \\right)} \\right)}} \\right)} $$\n",
    "        average accuracy is: 91.41 %\n",
    "5) hall_of_fame_2023-10-02_231136.733.pkl\n",
    "$$ F(\\ell, \\tau) = \\cosh{\\left(\\ell \\sinh{\\left(\\tanh{\\left(\\frac{0.756^{\\ell}}{\\tan{\\left(\\tan{\\left(\\frac{0.0223}{\\tau} \\right)} \\right)}} \\right)} \\right)} \\right)}$$\n",
    "        average accuracy is: 94.43 %\n",
    "6) hall_of_fame_2023-10-03_084102.715.pkl\n",
    "$$ F(\\ell, \\tau) = \\cosh{\\left(\\tau e^{1.40 e^{\\sin{\\left(\\log{\\left(\\ell - \\log{\\left(\\ell \\right)} + \\frac{0.110}{\\tau} \\right)} \\right)}}} \\right)}$$\n",
    "        average accuracy is:  94.32 %"
   ]
  },
  {
   "cell_type": "markdown",
   "metadata": {},
   "source": [
    "planck not in the middle\n",
    "1) hall_of_fame_2023-10-02_160505.349.pkl\n",
    "$$ F(\\ell, \\tau) =  \\cosh{\\left(\\tau e^{e^{\\tan{\\left(\\sin{\\left(\\sinh{\\left(\\sin{\\left(\\log{\\left(0.547 \\ell + 0.547 e^{\\cosh{\\left(\\cos{\\left(\\log{\\left(\\tau \\right)} \\right)} \\right)}} \\right)} \\right)} \\right)} \\right)} \\right)}}} \\right)} $$\n",
    "        average accuracy is: 93.97 % (graficamente più bello)\n",
    "2) hall_of_fame_2023-10-02_194604.026.pkl\n",
    "$$ F(\\ell, \\tau) = e^{\\frac{\\cosh{\\left(9.42 \\cdot 0.898^{\\ell} \\ell \\tau \\right)}}{\\ell}}$$\n",
    "        average accuracy is: 86.07 %\n",
    "3) hall_of_fame_2023-10-02_194903.091.pkl\n",
    "$$ F(\\ell, \\tau) = \\cosh{\\left(1.31 \\ell \\tanh{\\left(\\frac{0.763^{\\ell}}{\\tan{\\left(\\frac{0.0318}{\\tau} \\right)}} \\right)} \\right)} $$\n",
    "        average accuracy is: 94.03 %\n",
    "4) hall_of_fame_2023-10-02_230558.913.pkl\n",
    "$$ F(\\ell, \\tau) = \\cosh{\\left(\\frac{13.9 \\ell \\tau}{\\cosh{\\left(\\log{\\left(0.787^{\\ell} \\right)} \\right)}} \\right)} $$\n",
    "        average accuracy is: 91.41 %\n",
    "5) hall_of_fame_2023-10-02_231136.733.pkl\n",
    "$$ F(\\ell, \\tau) = \\cosh{\\left(\\ell \\sinh{\\left(\\tanh{\\left(\\frac{0.756^{\\ell}}{\\tan{\\left(\\tan{\\left(\\frac{0.0223}{\\tau} \\right)} \\right)}} \\right)} \\right)} \\right)}$$\n",
    "        average accuracy is: 94.43 %\n",
    "6) hall_of_fame_2023-10-03_084102.715.pkl\n",
    "$$ F(\\ell, \\tau) = \\cosh{\\left(\\tau e^{1.40 e^{\\sin{\\left(\\log{\\left(\\ell - \\log{\\left(\\ell \\right)} + \\frac{0.110}{\\tau} \\right)} \\right)}}} \\right)}$$\n",
    "        average accuracy is:  94.32 %"
   ]
  },
  {
   "cell_type": "markdown",
   "metadata": {},
   "source": [
    "planck in the middle\n",
    "1) hall_of_fame_2023-10-07_003226.163.pkl\n",
    "# $$ F(\\ell, \\tau) = \\cosh{\\left(54.3^{- \\sin{\\left(2.77 \\tau - \\log{\\left(\\ell + 1.40 \\right)} \\right)}} \\tau \\right)}$$"
   ]
  },
  {
   "cell_type": "code",
   "execution_count": null,
   "metadata": {},
   "outputs": [],
   "source": [
    "df = pd.read_csv(data_path('CL_20_50_2.csv'))\n",
    "x = pd.DataFrame({'ell': df['ell'], 'tau': df['tau']})\n",
    "ee = df['EE'].values\n",
    "tau = df['tau'].values\n",
    "ell = df['ell'].values\n",
    "ee_alpha = ee[0:alpha]\n",
    "\n",
    "beta = model.from_file(model_path('hall_of_fame_2023-10-07_003226.163.pkl'))\n",
    "print(beta.latex())"
   ]
  },
  {
   "cell_type": "code",
   "execution_count": null,
   "metadata": {},
   "outputs": [],
   "source": [
    "ee_vec = []\n",
    "ga_vec = []\n",
    "ell1 = ell[0:alpha]\n",
    "ee_alpha = ee[0:alpha]\n",
    "\n",
    "for i in range(a):\n",
    "    y = np.exp(-2*tau[0]) * (ee[i * alpha:(i + 1) * alpha]) / (ee_alpha*np.exp(-2*tau[i * alpha:(i + 1) * alpha]))\n",
    "    ee_vec.append(y)\n",
    "    z = beta.predict(x)[i * alpha:(i + 1) * alpha]\n",
    "    ga_vec.append(z)"
   ]
  },
  {
   "cell_type": "code",
   "execution_count": null,
   "metadata": {},
   "outputs": [],
   "source": [
    "ind = len(ee_vec)\n",
    "plt.rcParams['figure.figsize'] = (10, 7)  # Larghezza x Altezza \n",
    "plt.scatter(ell1,ee_vec[0]/ee_vec[0],s=10)\n",
    "plt.scatter(ell1,ee_vec[3]/ee_vec[0],s=10)\n",
    "plt.scatter(ell1,ee_vec[8]/ee_vec[0],s=10)\n",
    "plt.scatter(ell1,ee_vec[12]/ee_vec[0],s=10)\n",
    "plt.scatter(ell1,ee_vec[18]/ee_vec[0],s=10)\n",
    "\n",
    "plt.loglog(ell1,ga_vec[0])\n",
    "plt.loglog(ell1,ga_vec[3])\n",
    "plt.loglog(ell1,ga_vec[8])\n",
    "plt.loglog(ell1,ga_vec[12])\n",
    "plt.loglog(ell1,ga_vec[18])\n",
    "\n",
    "plt.scatter(0,0,label='Data from CLASS',s=10, color='k')\n",
    "plt.axhline(0, label='from PySR', color='k')\n",
    "\n",
    "plt.xlabel(r'$\\ell$')\n",
    "plt.ylabel(r'$\\mathcal{H}(\\ell,\\tau)$')\n",
    "plt.legend()\n",
    "save_img('CL_GA_Ratio_plot')"
   ]
  },
  {
   "cell_type": "code",
   "execution_count": null,
   "metadata": {},
   "outputs": [],
   "source": [
    "plt.figure(figsize=(18, 9))\n",
    "ee_alpha = ee[0:alpha]\n",
    "avg_acc = 0\n",
    "avg_rmse = 0\n",
    "\n",
    "plt.figure(figsize=(18, 9))\n",
    "#plt.xlim([20,50])\n",
    "#plt.ylim([0.8,2])\n",
    "for i in range(a):\n",
    "    l = ell[i * alpha:(i + 1) * alpha]\n",
    "    y = np.exp(-2*tau[0]) * (ee[i * alpha:(i + 1) * alpha]) / (ee_alpha*np.exp(-2*tau[i * alpha:(i + 1) * alpha]))\n",
    "    z = beta.predict(x)[i * alpha:(i + 1) * alpha]\n",
    "\n",
    "    string = r'$\\tau_{reio}=$' + str(round(t_reio[i], 2))\n",
    "    plt.loglog(l, z, lw=1, label=string)\n",
    "    plt.scatter(l, y, s=3, label=string)\n",
    "    #plt.legend()  \n",
    "\n",
    "    acc = accuracy(y,z)\n",
    "    avg_acc += acc/20\n",
    "    rm = rmse(y,z)/20\n",
    "    avg_rmse += rm/20\n",
    "    print('tau_',i+1,' MAPE:',round(acc,2))\n",
    "    #print('tau_',i+1,' RMSE:',round(rm,2))\n",
    "\n",
    "print('average MAPE is:', round(avg_acc,2), '%')\n",
    "print('RMSE of the model is: ',round(avg_rmse,2))\n",
    "\n",
    "\n",
    "plt.xlabel('$\\ell$')\n",
    "plt.ylabel('$C^{EE}_{\\ell}\\cdot \\ell(\\ell+1)/2\\pi \\ \\ [\\mu K^2]$')\n",
    "plt.title(r'$C_{\\ell}^{EE}$ for different values of $\\tau_{reio}$')\n",
    "plt.grid(True)\n",
    "plt.show() "
   ]
  },
  {
   "cell_type": "code",
   "execution_count": null,
   "metadata": {},
   "outputs": [],
   "source": [
    "def h(ell,tau):\n",
    "    f = np.exp(1.63 * 0.672 ** ell * ell * (ell - 1.06)) + 3.04 / (ell - 1.07)\n",
    "    g = tau * (5.97e4 * tau**2 - 76.1) + 1.97\n",
    "    pr = f * g\n",
    "    return pr\n",
    "    \n",
    "norm_ga = []\n",
    "\n",
    "for i in range (a):\n",
    "    z = np.max((ee[(i * alpha):(i + 1)*alpha]/ee[0:alpha]))*h(ell[(i * alpha):(i + 1)*alpha],tau[(i * alpha):(i + 1)*alpha])/np.max(h(ell[(i * alpha):(i + 1)*alpha],tau[(i * alpha):(i + 1)*alpha]))\n",
    "    norm_ga.append(z)\n",
    "F_ga = np.concatenate(norm_ga)"
   ]
  },
  {
   "cell_type": "code",
   "execution_count": null,
   "metadata": {},
   "outputs": [],
   "source": [
    "plt.figure(figsize=(18, 9))\n",
    "#plt.xlim([20,50])\n",
    "#plt.ylim([0.3,1.2])\n",
    "for i in range(a):\n",
    "    l = ell[i * alpha:(i + 1) * alpha]\n",
    "    y = np.exp(-2*tau[0]) * (ee[i * alpha:(i + 1) * alpha]) / (ee_alpha*np.exp(-2*tau[i * alpha:(i + 1) * alpha]))\n",
    "    z = F_ga[i * alpha:(i + 1) * alpha]\n",
    "\n",
    "    string = r'$\\tau_{reio}=$' + str(round(t_reio[i], 2))\n",
    "    plt.loglog(l, z, lw=1, label=string)\n",
    "    plt.scatter(l, y, s=1, label=string)\n",
    "    plt.legend()  \n",
    "\n",
    "    acc = accuracy(y,z)\n",
    "    avg_acc += acc/20\n",
    "    avg_rmse += rmse(y,z)/20\n",
    "    print('tau_',i+1,' MAPE:',round(acc,2))\n",
    "\n",
    "print('average MAPE is:', round(avg_acc,2), '%')\n",
    "print('RMSE of the model is: ',round(avg_rmse,2))\n",
    "\n",
    "\n",
    "plt.xlabel('$\\ell$')\n",
    "plt.ylabel('$C^{EE}_{\\ell}\\cdot \\ell(\\ell+1)/2\\pi \\ \\ [\\mu K^2]$')\n",
    "plt.title(r'$C_{\\ell}^{EE}$ for different values of $\\tau_{reio}$')\n",
    "plt.grid(True)\n",
    "plt.show() "
   ]
  },
  {
   "cell_type": "code",
   "execution_count": null,
   "metadata": {},
   "outputs": [],
   "source": []
  }
 ],
 "metadata": {
  "kernelspec": {
   "display_name": "simreg",
   "language": "python",
   "name": "python3"
  },
  "language_info": {
   "codemirror_mode": {
    "name": "ipython",
    "version": 3
   },
   "file_extension": ".py",
   "mimetype": "text/x-python",
   "name": "python",
   "nbconvert_exporter": "python",
   "pygments_lexer": "ipython3",
   "version": "3.11.4"
  },
  "orig_nbformat": 4
 },
 "nbformat": 4,
 "nbformat_minor": 2
}
