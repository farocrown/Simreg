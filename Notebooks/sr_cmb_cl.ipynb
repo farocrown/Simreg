{
 "cells": [
  {
   "cell_type": "markdown",
   "metadata": {},
   "source": [
    "### Action item:\n",
    "SEMPRE I RAPPORTI\n",
    "1. fit legge in l a tau fisso per captare la dipendenza in l (t fiduciale, quello dell'ultimo paper di planck pag 19) (0 <l < 30 o 50)\n",
    "2. fit legge in t a l del picco (circa l=5,6,7,8)\n",
    "3. plot f(l)*g(t) \n",
    "4. dare più dati (affinare t) e cercare un'espressione unica c_ee(l,t) per l anche più grande di 50\n",
    "5. cercare una smooth transition function in l che passi dal regime t^2 a e^(-2t) (magari dopo)\n",
    "\n",
    "Farlo per EE , poi per TE"
   ]
  },
  {
   "cell_type": "code",
   "execution_count": null,
   "metadata": {},
   "outputs": [],
   "source": [
    "import numpy as np\n",
    "import matplotlib.pyplot as plt\n",
    "import pandas as pd\n",
    "from pysr import PySRRegressor\n",
    "import os"
   ]
  },
  {
   "cell_type": "code",
   "execution_count": null,
   "metadata": {},
   "outputs": [],
   "source": [
    "notebook_folder = os.path.dirname('')\n",
    "images_folder = os.path.join(notebook_folder, \"..\", \"Images\")\n",
    "models_folder = os.path.join(notebook_folder, \"..\", \"models\", \"pkl\")\n",
    "data_folder = os.path.join(notebook_folder, \"..\", \"Data\")\n",
    "def data_path(data_id):\n",
    "    return os.path.join(data_folder, data_id)\n",
    "def model_path(model_id):\n",
    "    return os.path.join(models_folder, model_id)\n",
    "def img_path(img_id):\n",
    "    return os.path.join(images_folder, img_id)\n",
    "def save_img(img_id):\n",
    "    plt.savefig(img_path(img_id) + \".pdf\", format='pdf', bbox_inches='tight')"
   ]
  },
  {
   "cell_type": "code",
   "execution_count": null,
   "metadata": {},
   "outputs": [],
   "source": [
    "def accuracy(data, model):\n",
    "    if len(data) != len(model):\n",
    "        print('ERROR: array must have the same length!')\n",
    "        return\n",
    "    \n",
    "    l = len(data)\n",
    "    total_error = 0\n",
    "    \n",
    "    for i in range(l):\n",
    "        error = abs((data[i] - model[i]) / data[i])\n",
    "        total_error += error\n",
    "    \n",
    "    avg_error = total_error / l\n",
    "    accuracy_percentage = 100 * (1 - avg_error)\n",
    "    \n",
    "    return accuracy_percentage"
   ]
  },
  {
   "cell_type": "code",
   "execution_count": null,
   "metadata": {},
   "outputs": [],
   "source": [
    "model = PySRRegressor()"
   ]
  },
  {
   "cell_type": "code",
   "execution_count": null,
   "metadata": {},
   "outputs": [],
   "source": [
    "cl_raw = pd.read_csv(data_path('CL_20_2.csv'))\n",
    "tau_real = 0.0561\n",
    "t_reio = np.round(np.linspace(0.0561-5*0.0071, 0.0561+5*0.0071, 20, endpoint=True),4)\n",
    "index = np.abs(t_reio - tau_real).argmin()\n",
    "t_reio[index] = tau_real\n",
    "cl_ref = cl_raw[(cl_raw['tau'] == np.min(cl_raw['tau']))]\n",
    "\n",
    "ell = cl_raw['ell'].values\n",
    "ee = cl_raw['EE'].values\n",
    "te = cl_raw['TE'].values\n",
    "tt = cl_raw['TT'].values\n",
    "tau = cl_raw['tau'].values\n",
    "\n",
    "a = len(t_reio)\n",
    "b = len(ell)\n",
    "alpha = int(b/a)\n",
    "\n",
    "plt.figure(figsize=(12, 6))\n",
    "#plt.xlim([30,3000])\n",
    "#plt.ylim([0.5,3])\n",
    "for i in range (a):\n",
    "    l = ell[(i * alpha):(i + 1)*alpha]\n",
    "    y = ee[(i * alpha):(i + 1)*alpha]/(cl_ref['EE'][0:alpha])\n",
    "    string = r'$\\tau_{reio}=$' + str(round(t_reio[i], 4))\n",
    "    plt.loglog(l,y, label=string, lw=0.7)\n",
    "    plt.axvline(5)\n",
    "    #plt.legend()\n",
    "plt.xlabel('$\\ell$')\n",
    "plt.ylabel(r'$\\frac{C_{\\ell}^{TE}(\\tau_{reio})}{C_{\\ell}^{TE}(\\tau_{ref})}$')\n",
    "plt.title(r'$\\frac{C_{\\ell}^{TE}(\\tau_{reio})}{C_{\\ell}^{TE}(\\tau_{ref})}$ for different values of $\\tau_{reio}$, and $0<\\ell<30}$')\n",
    "plt.grid(True)\n",
    "plt.show()  "
   ]
  },
  {
   "cell_type": "code",
   "execution_count": null,
   "metadata": {},
   "outputs": [],
   "source": [
    "cl_raw = pd.read_csv(data_path('CL_20_50_2.csv'))\n",
    "tau_real = 0.0561\n",
    "t_reio = np.round(np.linspace(0.0561-5*0.0071, 0.0561+5*0.0071, 20, endpoint=True),4)\n",
    "index = np.abs(t_reio - tau_real).argmin()\n",
    "t_reio[index] = tau_real\n",
    "cl_ref = cl_raw[(cl_raw['tau'] == np.min(cl_raw['tau']))]\n",
    "\n",
    "ell = cl_raw['ell'].values\n",
    "ee = cl_raw['EE'].values\n",
    "te = cl_raw['TE'].values\n",
    "tt = cl_raw['TT'].values\n",
    "tau = cl_raw['tau'].values\n",
    "\n",
    "a = len(t_reio)\n",
    "b = len(ell)\n",
    "alpha = int(b/a)"
   ]
  },
  {
   "cell_type": "markdown",
   "metadata": {},
   "source": [
    "### we choose $\\tau_{ref}=\\tau_{min}=0.0261$"
   ]
  },
  {
   "cell_type": "markdown",
   "metadata": {},
   "source": [
    "Mod 02/10/23 : diviso e^-2t"
   ]
  },
  {
   "cell_type": "code",
   "execution_count": null,
   "metadata": {},
   "outputs": [],
   "source": [
    "plt.figure(figsize=(12, 6))\n",
    "ee_ratio = []\n",
    "for i in range (a):\n",
    "    l = ell[(i * alpha):(i + 1)*alpha]\n",
    "    #y = np.exp(-2*tau[0:alpha])*ee[(i * alpha):(i + 1)*alpha]/(cl_ref['EE'][0:alpha]*np.exp(-2*tau[(i * alpha):(i + 1)*alpha]))\n",
    "    y = ee[(i * alpha):(i + 1)*alpha]/(cl_ref['EE'][0:alpha])\n",
    "    ee_ratio.append(y)\n",
    "    string = r'$\\tau_{reio}=$' + str(round(t_reio[i], 4))\n",
    "    plt.semilogy(l,y, label=string, lw=0.7)\n",
    "    plt.axvline(5)\n",
    "    plt.legend()\n",
    "plt.xlabel('$\\ell$')\n",
    "plt.ylabel(r'$\\frac{C_{\\ell}^{TE}(\\tau_{reio})}{C_{\\ell}^{TE}(\\tau_{ref})}$')\n",
    "plt.title(r'$\\frac{C_{\\ell}^{TE}(\\tau_{reio})}{C_{\\ell}^{TE}(\\tau_{ref})}$ for different values of $\\tau_{reio}$, and $0<\\ell<30}$')\n",
    "plt.grid(True)\n",
    "plt.show()  "
   ]
  },
  {
   "cell_type": "code",
   "execution_count": null,
   "metadata": {},
   "outputs": [],
   "source": [
    "import os\n",
    "notebook_folder = os.path.dirname('')\n",
    "data_folder = os.path.join(notebook_folder, \"..\", \"Data\")\n",
    "def data_path(dat_id):\n",
    "    return os.path.join(data_folder, dat_id)\n",
    "def save_file(dat_id,df):\n",
    "    df.to_csv(data_path(dat_id), index=False)"
   ]
  },
  {
   "cell_type": "code",
   "execution_count": null,
   "metadata": {},
   "outputs": [],
   "source": [
    "l = ell[0:alpha]\n",
    "ratio_used = ee_ratio[19]\n",
    "Cl = pd.DataFrame({'ell':l,'EE/EE_ref':ratio_used})\n",
    "save_file('FINALE-ELL-DIV-E.csv',Cl)"
   ]
  },
  {
   "cell_type": "markdown",
   "metadata": {},
   "source": [
    "we sort the arrays to use $\\tau$ as variable and $\\ell$ fixed"
   ]
  },
  {
   "cell_type": "code",
   "execution_count": null,
   "metadata": {},
   "outputs": [],
   "source": []
  },
  {
   "cell_type": "code",
   "execution_count": null,
   "metadata": {},
   "outputs": [],
   "source": [
    "ratio_arr = np.concatenate(ee_ratio)\n",
    "x_t = []\n",
    "x_l = []\n",
    "y_ratio = []\n",
    "\n",
    "for i in range (alpha):\n",
    "    for j in range (a):\n",
    "        index = int(i+j*alpha)\n",
    "        x_t.append(tau[index])\n",
    "        x_l.append(ell[index])\n",
    "        y_ratio.append(ratio_arr[index]) "
   ]
  },
  {
   "cell_type": "code",
   "execution_count": null,
   "metadata": {},
   "outputs": [],
   "source": [
    "df = pd.DataFrame({'tau':x_t,'ell':x_l, 'EE/EE_ref':y_ratio})\n",
    "cl_sort = df[(df['ell'] == 5)]\n",
    "save_file('FINALE-L5-TAU-DIV-E.csv',cl_sort)"
   ]
  },
  {
   "cell_type": "markdown",
   "metadata": {},
   "source": [
    "----\n",
    "## Graphs for $f(\\ell)$\n",
    "----"
   ]
  },
  {
   "cell_type": "markdown",
   "metadata": {},
   "source": [
    "1) dati non centrati su planck(dividendo per e^-2t): hall_of_fame_2023-10-02_111602.692.pkl\n",
    "$$f(\\ell) = e^{1.63 \\cdot 0.672^{\\ell} \\ell \\left(\\ell - 1.06\\right)} + \\frac{3.04}{\\ell - 1.07}$$\n",
    "\n",
    "\n",
    "\n",
    "2) dati centrati su planck(non dividendo per e^-2t): hall_of_fame_2023-10-10_112120.907.pkl, hall_of_fame_2023-10-10_115205.262.pkl\n",
    "$$f(\\ell) = 0.545 e^{0.597^{\\ell} \\ell^{2.54}} + \\frac{1.19}{\\log{\\left(\\ell \\right)}}$$\n",
    "3) dati centrati su planck( dividendo per e^-2t):hall_of_fame_2023-10-10_114129.232.pkl\n",
    "$$f(\\ell) = 0.880^{\\ell} + e^{0.669 \\cdot 0.547^{\\ell} \\ell^{3}}$$"
   ]
  },
  {
   "cell_type": "code",
   "execution_count": null,
   "metadata": {},
   "outputs": [],
   "source": [
    "import custom_rcparams\n",
    "import os"
   ]
  },
  {
   "cell_type": "code",
   "execution_count": null,
   "metadata": {},
   "outputs": [],
   "source": [
    "notebook_folder = os.path.dirname('')\n",
    "images_folder = os.path.join(notebook_folder, \"..\", \"Images\")\n",
    "def img_path(img_id):\n",
    "    return os.path.join(images_folder, img_id)\n",
    "def save_img(img_id):\n",
    "    plt.savefig(img_path(img_id) + \".pdf\", format='pdf', bbox_inches='tight')"
   ]
  },
  {
   "cell_type": "code",
   "execution_count": null,
   "metadata": {},
   "outputs": [],
   "source": [
    "mod = model.from_file(model_path('hall_of_fame_2023-10-10_115205.262.pkl')) #previous:ratio-ell-ee-1509.pkl\n",
    "l = l.reshape(-1,1)\n",
    "ratio_used = np.array(ratio_used)\n",
    "print(mod.latex())\n",
    "print('The accuracy of this model is', round(accuracy(ratio_used,mod.predict(l)),2))\n",
    "\n",
    "plt.loglog(l,mod.predict(l), label='SR from PySR',color='r',alpha=0.7)\n",
    "plt.scatter(l,ratio_used, label='CLASS data', s=10, color='k')\n",
    "\n",
    "plt.xlabel(r'$\\ell$')\n",
    "plt.ylabel(r'$f(\\ell)$')\n",
    "plt.legend()\n",
    "save_img('SEPVAR1')"
   ]
  },
  {
   "cell_type": "markdown",
   "metadata": {},
   "source": [
    "----\n",
    "## Graphs for $g(\\tau)$\n",
    "----"
   ]
  },
  {
   "cell_type": "markdown",
   "metadata": {},
   "source": [
    "1) dati non centrati su planck(togliendo e^-2t): hall_of_fame_2023-10-02_112606.600.pkl\n",
    "$$g(\\tau) = \\tau \\left(5.97 \\cdot 10^{4} \\tau^{2} - 76.1\\right) + 1.97$$\n",
    "\n",
    "\n",
    "2) dati centrati su planck (senza tolgliere e^-2t): hall_of_fame_2023-10-06_085118.328.pkl\n",
    "$$8.05 \\cdot 10^{4} \\tau^{2} \\left(\\tau - 0.0235\\right) + 1.11$$\n",
    "2) dati centrati su planck (togliendo e^-2t): hall_of_fame_2023-10-06_085509.223.pkl, hall_of_fame_2023-10-06_085803.146.pkl\n",
    "$$ 9.48 \\cdot 10^{4} \\tau^{2} \\left(\\tau - 0.0261\\right) + 1.26 $$"
   ]
  },
  {
   "cell_type": "code",
   "execution_count": null,
   "metadata": {},
   "outputs": [],
   "source": [
    "mod2 = model.from_file(model_path('hall_of_fame_2023-10-06_085118.328.pkl')) #previous: ratio-tau-ee-1509.pkl\n",
    "print(mod2.latex())\n",
    "t = t_reio.reshape(-1,1)\n",
    "ratio_tau = np.array(df[(df['ell'] == 6)]['EE/EE_ref'])\n",
    "print('The accuracy of this model is', np.round(accuracy(ratio_tau,mod2.predict(t)),2))\n",
    "\n",
    "plt.plot(t_reio,mod2.predict(t),color='blue', label='SR from PySR')\n",
    "plt.scatter(t_reio,ratio_tau, label='CLASS data', s=10, color='k')\n",
    "\n",
    "plt.xlabel(r'$\\tau$')\n",
    "plt.ylabel(r'$g(\\tau)$')\n",
    "plt.legend()\n",
    "save_img('SEPVAR2')"
   ]
  },
  {
   "cell_type": "markdown",
   "metadata": {},
   "source": [
    "### defining $\\mathcal{F}(\\ell,\\tau):= \\mathcal{N}h(\\ell,\\tau) = \\mathcal{N}f(\\ell)g(\\tau)$"
   ]
  },
  {
   "cell_type": "code",
   "execution_count": null,
   "metadata": {},
   "outputs": [],
   "source": [
    "def h(ell,tau):\n",
    "    f =0.888 * np.exp(l**1.16 * np.sin(np.tanh(6.51 * 0.665**l))) # non centrato, senza togliere e^-2t: np.exp(1.63 * 0.672 ** ell * ell * (ell - 1.06)) + 3.04 / (ell - 1.07)\n",
    "    g = 8.05 * 10**4 * tau**2 * (tau - 0.0235) + 1.11# non centrato, senza togler e^-2t tau * (5.97e4 * tau**2 - 76.1) + 1.97\n",
    "    pr = f * g\n",
    "    return pr"
   ]
  },
  {
   "cell_type": "code",
   "execution_count": null,
   "metadata": {},
   "outputs": [],
   "source": [
    "norm_ga = []\n",
    "\n",
    "for i in range (a):\n",
    "    z = np.max((ee[(i * alpha):(i + 1)*alpha]/ee[0:alpha]))*h(ell[(i * alpha):(i + 1)*alpha],tau[(i * alpha):(i + 1)*alpha])/np.max(h(ell[(i * alpha):(i + 1)*alpha],tau[(i * alpha):(i + 1)*alpha]))\n",
    "    norm_ga.append(z)\n",
    "F_ga = np.concatenate(norm_ga)"
   ]
  },
  {
   "cell_type": "markdown",
   "metadata": {},
   "source": [
    "old one: \n",
    "def h(ell,tau):\n",
    "    f = 0.105 * np.exp(1.42 * 0.711**ell * ell**2) + 0.439 + 8.28 / ell\n",
    "    g = (-8.54e3 * tau**2 * (tau + 0.383)) + (1.33e4 * tau * (tau - 0.0430)) + 9.56\n",
    "    pr = f * g\n",
    "    return pr\n",
    "\n",
    "norm_ga = []\n",
    "\n",
    "for i in range (a):\n",
    "    z = np.max((ee[(i * alpha):(i + 1)*alpha]/ee[0:alpha]))*h(ell[(i * alpha):(i + 1)*alpha],tau[(i * alpha):(i + 1)*alpha])/np.max(h(ell[(i * alpha):(i + 1)*alpha],tau[(i * alpha):(i + 1)*alpha]))\n",
    "    norm_ga.append(z)\n",
    "F_ga = np.concatenate(norm_ga)"
   ]
  },
  {
   "cell_type": "markdown",
   "metadata": {},
   "source": [
    "#### $$\\mathcal{F}(\\ell,\\tau) := \\mathcal{N}f(\\ell)\\cdot g(\\tau) = \\mathcal{N}(0.105 e^{1.42 \\cdot 0.711^{\\ell} \\ell^{2}} + 0.439 + \\frac{8.28}{\\ell})\\cdot(- 8.54 \\cdot 10^{3} \\tau^{2} \\left(\\tau + 0.383\\right) + 1.33 \\cdot 10^{4} \\tau \\left(\\tau - 0.0430\\right) + 9.56)$$"
   ]
  },
  {
   "cell_type": "code",
   "execution_count": null,
   "metadata": {},
   "outputs": [],
   "source": [
    "plt.figure(figsize=(12, 6))\n",
    "norm_surf = []\n",
    "for j in range (20):\n",
    "    i = j\n",
    "    l = ell[(i * alpha):(i + 1)*alpha]\n",
    "    y = (ee[(i * alpha):(i + 1)*alpha]/ee[0:alpha])\n",
    "    z = F_ga[(i * alpha):(i + 1)*alpha]\n",
    "    norm_surf.append(z)\n",
    "    string = r'$\\tau_{reio}=$' + str(round(t_reio[i], 4)) + 'CLASS'\n",
    "    string2 = r'$\\tau_{reio}=$' + str(round(t_reio[i], 4)) + 'PySR'\n",
    "    plt.semilogy(l,y, label=string, lw=0.7)\n",
    "    plt.scatter(l,z, label=string2, s=1)\n",
    "    plt.legend()\n",
    "plt.xlabel('$\\ell$')\n",
    "plt.ylabel(r'$\\frac{C_{\\ell}^{TE}(\\tau_{reio})}{C_{\\ell}^{TE}(\\tau_{ref})}$')\n",
    "plt.title(r'$\\frac{C_{\\ell}^{TE}(\\tau_{reio})}{C_{\\ell}^{TE}(\\tau_{ref})}$ for different values of $\\tau_{reio}$, and $0<\\ell<50}$')\n",
    "plt.grid(True)\n",
    "plt.show() "
   ]
  },
  {
   "cell_type": "code",
   "execution_count": null,
   "metadata": {},
   "outputs": [],
   "source": []
  }
 ],
 "metadata": {
  "kernelspec": {
   "display_name": "classy",
   "language": "python",
   "name": "python3"
  },
  "language_info": {
   "codemirror_mode": {
    "name": "ipython",
    "version": 3
   },
   "file_extension": ".py",
   "mimetype": "text/x-python",
   "name": "python",
   "nbconvert_exporter": "python",
   "pygments_lexer": "ipython3",
   "version": "3.11.4"
  },
  "orig_nbformat": 4
 },
 "nbformat": 4,
 "nbformat_minor": 2
}
