{
 "cells": [
  {
   "cell_type": "code",
   "execution_count": null,
   "metadata": {},
   "outputs": [],
   "source": [
    "import numpy as np\n",
    "import matplotlib.pyplot as plt\n",
    "import pandas as pd\n",
    "from pysr import PySRRegressor\n",
    "import custom_rcparams\n",
    "import os"
   ]
  },
  {
   "cell_type": "code",
   "execution_count": null,
   "metadata": {},
   "outputs": [],
   "source": [
    "notebook_folder = os.path.dirname('')\n",
    "images_folder = os.path.join(notebook_folder, \"..\", \"Images\")\n",
    "models_folder = os.path.join(notebook_folder, \"..\", \"models\", \"pkl\")\n",
    "data_folder = os.path.join(notebook_folder, \"..\", \"Data\")\n",
    "def data_path(data_id):\n",
    "    return os.path.join(data_folder, data_id)\n",
    "def model_path(model_id):\n",
    "    return os.path.join(models_folder, model_id)\n",
    "def img_path(img_id):\n",
    "    return os.path.join(images_folder, img_id)\n",
    "def save_img(img_id):\n",
    "    plt.savefig(img_path(img_id) + \".pdf\", format='pdf', bbox_inches='tight')"
   ]
  },
  {
   "cell_type": "code",
   "execution_count": null,
   "metadata": {},
   "outputs": [],
   "source": [
    "def error(data,model):\n",
    "    if len(data) != len(model):\n",
    "        print('ERROR: array must have the same length!')\n",
    "        return\n",
    "    \n",
    "    l = len(data)\n",
    "    error = []\n",
    "    \n",
    "    for i in range(l):\n",
    "        error.append(100*abs((data[i] - model[i]) / data[i]))\n",
    "    \n",
    "    return np.array(error)"
   ]
  },
  {
   "cell_type": "code",
   "execution_count": null,
   "metadata": {},
   "outputs": [],
   "source": [
    "def rmse(actual_values,predicted_values):\n",
    "    squared_diff = [(actual - predicted) ** 2 for actual, predicted in zip(actual_values, predicted_values)]\n",
    "\n",
    "    # Step 4: Calculate the mean of squared differences\n",
    "    mean_squared_diff = np.mean(squared_diff)\n",
    "\n",
    "    # Step 5: Calculate RMSE (square root of the mean squared difference)\n",
    "    rmse = np.sqrt(mean_squared_diff)\n",
    "    return rmse"
   ]
  },
  {
   "cell_type": "code",
   "execution_count": null,
   "metadata": {},
   "outputs": [],
   "source": [
    "def accuracy(data, model):\n",
    "    if len(data) != len(model):\n",
    "        print('ERROR: array must have the same length!')\n",
    "        return\n",
    "    \n",
    "    l = len(data)\n",
    "    total_error = 0\n",
    "    \n",
    "    for i in range(l):\n",
    "        error = abs((data[i] - model[i]) / data[i])\n",
    "        total_error += error\n",
    "    \n",
    "    avg_error = total_error / l\n",
    "    accuracy_percentage = 100 * (avg_error)\n",
    "    \n",
    "    return accuracy_percentage"
   ]
  },
  {
   "cell_type": "code",
   "execution_count": null,
   "metadata": {},
   "outputs": [],
   "source": [
    "df = pd.read_csv(data_path('CL_20_2.csv'))\n",
    "model = PySRRegressor()"
   ]
  },
  {
   "cell_type": "markdown",
   "metadata": {},
   "source": [
    "\n",
    "         hall_of_fame_2023-10-07_003226.163.pkl\n",
    "$$ H(\\ell, \\tau) = \\cosh{\\left(54.3^{- \\sin{\\left(2.77 \\tau - \\log{\\left(\\ell + 1.40 \\right)} \\right)}} \\tau \\right)}$$"
   ]
  },
  {
   "cell_type": "code",
   "execution_count": null,
   "metadata": {},
   "outputs": [],
   "source": [
    "def G(ell, tau, ell_0, beta, model, x):\n",
    "    h = model.predict(x)\n",
    "    c = 1\n",
    "    s = 1/(1+np.exp(-beta*(ell-ell_0)))\n",
    "    return (1-s)*h+s*c\n"
   ]
  },
  {
   "cell_type": "code",
   "execution_count": null,
   "metadata": {},
   "outputs": [],
   "source": [
    "t_reio = np.round(np.linspace(0.0561-5*0.0071, 0.0561+5*0.0071, 20, endpoint=True),4)\n",
    "tau = 0.0561\n",
    "index = np.abs(t_reio - tau).argmin()\n",
    "t_reio[index] = tau\n",
    "\n",
    "ee = df['EE'].values\n",
    "tau = df['tau'].values\n",
    "ell = df['ell'].values\n",
    "x = pd.DataFrame({'ell': df['ell'], 'tau': df['tau']})\n",
    "\n",
    "a = len(t_reio)\n",
    "b = len(ell)\n",
    "alpha = int(b/a)\n",
    "ee_alpha = ee[0:alpha]\n",
    "beta = model.from_file(model_path('hall_of_fame_2023-10-07_003226.163.pkl'))\n",
    "avg_acc = 0\n",
    "avg_rmse = 0\n",
    "\n",
    "ee_vec = []\n",
    "ga_vec = []\n",
    "ell1 = ell[0:alpha]\n",
    "ee_alpha = ee[0:alpha]\n",
    "\n",
    "for i in range(a):\n",
    "    z = G(ell[i * alpha:(i + 1) * alpha], tau[i * alpha:(i + 1) * alpha], 120, 1, beta, x[i * alpha:(i + 1) * alpha])\n",
    "    y = beta.predict(x)[i * alpha:(i + 1) * alpha]\n",
    "    ee_vec.append(y)\n",
    "    ga_vec.append(z)"
   ]
  },
  {
   "cell_type": "code",
   "execution_count": null,
   "metadata": {},
   "outputs": [],
   "source": [
    "\n",
    "\n",
    "#plt.xlim([20,50])\n",
    "#plt.ylim([0.7,1.2])\n",
    "for j in range(1):\n",
    "    i = j+19\n",
    "    l = ell[i * alpha:(i + 1) * alpha]\n",
    "    factor = l*(l+1)*10**12\n",
    "    y = np.exp(-2*tau[0]) * (ee[i * alpha:(i + 1) * alpha]) / (ee_alpha*np.exp(-2*tau[i * alpha:(i + 1) * alpha]))\n",
    "    z = beta.predict(x)[i * alpha:(i + 1) * alpha]\n",
    "    q = G(ell[i * alpha:(i + 1) * alpha], tau[i * alpha:(i + 1) * alpha], 120, 1, beta, x[i * alpha:(i + 1) * alpha])\n",
    "    w = G(ell[i * alpha:(i + 1) * alpha], tau[i * alpha:(i + 1) * alpha], 120, 1, beta, x[i * alpha:(i + 1) * alpha])*ee_alpha* np.exp(-2*tau[i * alpha:(i + 1) * alpha])/np.exp(-2*tau[0])\n",
    "\n",
    "    string = r'$\\tau_{reio}=$' + str(round(t_reio[i], 2))\n",
    "    plt.loglog(l, factor*ee[i * alpha:(i + 1) * alpha],alpha=0.7,color = 'r', label='CLASS data')\n",
    "    plt.plot(l, (factor*w), color='k', label='PySR')\n",
    "    plt.legend()  \n",
    "\n",
    "    acc = accuracy(ee[i * alpha:(i + 1) * alpha],w)\n",
    "    avg_acc += acc/20\n",
    "    avg_rmse += rmse(ee[i * alpha:(i + 1) * alpha],w)/20\n",
    "    print('tau_',i+1,' MAPE:',round(acc,2))\n",
    "\n",
    "print('average MAPE is:', round(avg_acc,2), '%')\n",
    "print('RMSE of the model is: ',round(avg_rmse,2))\n",
    "\n",
    "plt.xlabel('$\\ell$')\n",
    "plt.ylabel('$C^{EE}_{\\ell}\\cdot \\ell(\\ell+1)/2\\pi \\ \\ [\\mu K^2]$')\n",
    "plt.show() "
   ]
  },
  {
   "cell_type": "markdown",
   "metadata": {},
   "source": [
    "1) f(t,l) è la tua funzione. La tua funzione va bene MA per l>lma scazza\n",
    "2) Sia g(l) l'andamento asintotico che ci aspettiamo in questo caso, g(l) = 1 per l>30.\n",
    "3) Sia s(l) la logistica che va da 0 a 1.\n",
    "3) Una possibile soluzione è usare\n",
    "$$h(t,l)= (1-s(l))*f(t,l)+s(l)*g(l)$$\n",
    "dove la logistica è definita come\n",
    "$$ s(\\ell) = \\frac{\\alpha}{1+e^{-\\beta(\\ell-\\bar{\\ell})}} $$\n",
    "con $\\alpha = 1$, $\\bar{\\ell}$ è il primo valore di $\\ell$ in cui si annulla la derivata dopo il picco descritto $\\mathcal{H}(\\ell,\\tau)$ nella regione $\\ell \\in [2,50]$ e $\\beta$ è un parametro da determinare."
   ]
  },
  {
   "cell_type": "code",
   "execution_count": null,
   "metadata": {},
   "outputs": [],
   "source": [
    "x2 = pd.DataFrame({'ell': np.linspace(2,20000,200000),'tau': np.full(200000, 0.0916)})"
   ]
  },
  {
   "cell_type": "code",
   "execution_count": null,
   "metadata": {},
   "outputs": [],
   "source": [
    "import rcpresentation\n",
    "import os"
   ]
  },
  {
   "cell_type": "code",
   "execution_count": null,
   "metadata": {},
   "outputs": [],
   "source": [
    "notebook_folder = os.path.dirname('')\n",
    "images_folder = os.path.join(notebook_folder, \"..\", \"Images\")\n",
    "def img_path(img_id):\n",
    "    return os.path.join(images_folder, img_id)\n",
    "def save_img(img_id):\n",
    "    plt.savefig(img_path(img_id) + \".pdf\", format='pdf', bbox_inches='tight')"
   ]
  },
  {
   "cell_type": "code",
   "execution_count": null,
   "metadata": {},
   "outputs": [],
   "source": [
    "ind = len(ee_vec)\n",
    "plt.loglog(x2['ell'],G(x2['ell'],x2['tau'],130,1,beta,x2), label=r'$\\mathcal{G}(\\ell, \\tau)$', color = 'r')\n",
    "plt.loglog(x2['ell'],beta.predict(x2),linestyle='--',alpha=0.7, label=r'$\\mathcal{\\bar{H}}(\\ell, \\tau)$', color='blue')\n",
    "plt.xlabel(r'$\\ell$')\n",
    "plt.ylabel(r'$\\mathcal{H}(\\ell,\\tau)$')\n",
    "plt.legend()\n",
    "save_img(\"CL_Extrapolation\")"
   ]
  },
  {
   "cell_type": "code",
   "execution_count": null,
   "metadata": {},
   "outputs": [],
   "source": []
  }
 ],
 "metadata": {
  "kernelspec": {
   "display_name": "classy",
   "language": "python",
   "name": "python3"
  },
  "language_info": {
   "codemirror_mode": {
    "name": "ipython",
    "version": 3
   },
   "file_extension": ".py",
   "mimetype": "text/x-python",
   "name": "python",
   "nbconvert_exporter": "python",
   "pygments_lexer": "ipython3",
   "version": "3.11.4"
  }
 },
 "nbformat": 4,
 "nbformat_minor": 2
}
