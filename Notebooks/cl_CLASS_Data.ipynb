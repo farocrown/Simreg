{
 "cells": [
  {
   "cell_type": "markdown",
   "metadata": {},
   "source": [
    "## Varying $\\tau_{reio}$"
   ]
  },
  {
   "cell_type": "code",
   "execution_count": 1,
   "metadata": {},
   "outputs": [],
   "source": [
    "import pandas as pd\n",
    "import numpy as np\n",
    "from classy import Class\n",
    "import matplotlib.pyplot as plt"
   ]
  },
  {
   "cell_type": "code",
   "execution_count": 2,
   "metadata": {},
   "outputs": [],
   "source": [
    "# LambdaCDM parameters\n",
    "h = 0.67810\n",
    "ob = 0.02238280\n",
    "ocdm = 0.1201075\n",
    "tau = 0.0561\n",
    "l_max_scalars = 3000"
   ]
  },
  {
   "cell_type": "code",
   "execution_count": 3,
   "metadata": {},
   "outputs": [
    {
     "name": "stdout",
     "output_type": "stream",
     "text": [
      "[0.0206 0.0243 0.0281 0.0318 0.0355 0.0393 0.043  0.0468 0.0505 0.0561\n",
      " 0.058  0.0617 0.0654 0.0692 0.0729 0.0767 0.0804 0.0841 0.0879 0.0916]\n"
     ]
    }
   ],
   "source": [
    "t_reio = np.round(np.linspace(0.0561-5*0.0071, 0.0561+5*0.0071, 20, endpoint=True),4)\n",
    "index = np.abs(t_reio - tau).argmin()\n",
    "t_reio[index] = tau\n",
    "print(t_reio)"
   ]
  },
  {
   "cell_type": "code",
   "execution_count": 4,
   "metadata": {},
   "outputs": [],
   "source": [
    "ell_list = []\n",
    "EE_list = []\n",
    "TE_list = []\n",
    "TT_list = []\n",
    "tau_list = []"
   ]
  },
  {
   "cell_type": "code",
   "execution_count": 5,
   "metadata": {},
   "outputs": [],
   "source": [
    "for i in range (len(t_reio)):\n",
    "    params = {'h':h,'omega_b':ob,'omega_cdm': ocdm,'A_s':2.100549e-09,'tau_reio': t_reio[i]}\n",
    "    output = {'output':'tCl,pCl,lCl','modes':'s,t','lensing':'yes','n_s':0.9660499,'l_max_scalars':l_max_scalars}\n",
    "    cosmo = Class()\n",
    "    cosmo.set(params)\n",
    "    cosmo.set(output)\n",
    "    cosmo.compute()\n",
    "\n",
    "    cl_tot = cosmo.raw_cl(l_max_scalars)\n",
    "    ell = cl_tot['ell']\n",
    "    EE = cl_tot['ee']\n",
    "    TE = cl_tot['te']\n",
    "    TT = cl_tot['tt']\n",
    "    tau = np.array([t_reio[i] for m in range(len(ell))])\n",
    "\n",
    "    ell_list.extend(ell)\n",
    "    EE_list.extend(EE)\n",
    "    TE_list.extend(TE)\n",
    "    TT_list.extend(TT)\n",
    "    tau_list.extend(tau)\n",
    "\n",
    "\n",
    "data = {'ell':ell_list,'tau':tau_list, 'EE':EE_list, 'TE':TE_list, 'TT':TT_list}\n",
    "df = pd.DataFrame(data)\n",
    "df_true = df[(df['ell'] != 0) & (df['ell'] != 1)]\n",
    "df_true.to_csv('CL_20_2.csv', index=False) "
   ]
  },
  {
   "cell_type": "code",
   "execution_count": 6,
   "metadata": {},
   "outputs": [],
   "source": [
    "ell_list = []\n",
    "EE_list = []\n",
    "TE_list = []\n",
    "TT_list = []\n",
    "tau_list = []"
   ]
  },
  {
   "cell_type": "code",
   "execution_count": 7,
   "metadata": {},
   "outputs": [],
   "source": [
    "for i in range (len(t_reio)):\n",
    "    params = {'h':h,'omega_b':ob,'omega_cdm': ocdm,'A_s':2.100549e-09,'tau_reio': t_reio[i]}\n",
    "    output = {'output':'tCl,pCl,lCl','modes':'s,t','lensing':'yes','n_s':0.9660499,'l_max_scalars':l_max_scalars}\n",
    "    cosmo = Class()\n",
    "    cosmo.set(params)\n",
    "    cosmo.set(output)\n",
    "    cosmo.compute()\n",
    "\n",
    "    cl_tot = cosmo.raw_cl(50)\n",
    "    ell = cl_tot['ell']\n",
    "    EE = cl_tot['ee']\n",
    "    TE = cl_tot['te']\n",
    "    TT = cl_tot['tt']\n",
    "    tau = np.array([t_reio[i] for m in range(len(ell))])\n",
    "\n",
    "    ell_list.extend(ell)\n",
    "    EE_list.extend(EE)\n",
    "    TE_list.extend(TE)\n",
    "    TT_list.extend(TT)\n",
    "    tau_list.extend(tau)\n",
    "\n",
    "\n",
    "data = {'ell':ell_list,'tau':tau_list, 'EE':EE_list, 'TE':TE_list, 'TT':TT_list}\n",
    "df = pd.DataFrame(data)\n",
    "df_true = df[(df['ell'] != 0) & (df['ell'] != 1)]\n",
    "df_true.to_csv('CL_20_50_2.csv', index=False) "
   ]
  },
  {
   "cell_type": "markdown",
   "metadata": {},
   "source": []
  },
  {
   "cell_type": "code",
   "execution_count": 8,
   "metadata": {},
   "outputs": [],
   "source": [
    "ell_list = []\n",
    "EE_list = []\n",
    "TE_list = []\n",
    "TT_list = []\n",
    "tau_list = []"
   ]
  },
  {
   "cell_type": "code",
   "execution_count": 9,
   "metadata": {},
   "outputs": [],
   "source": [
    "for i in range (len(t_reio)):\n",
    "    params = {'h':h,'omega_b':ob,'omega_cdm': ocdm,'A_s':2.100549e-09,'tau_reio': t_reio[i]}\n",
    "    output = {'output':'tCl,pCl,lCl','modes':'s,t','lensing':'yes','n_s':0.9660499,'l_max_scalars':l_max_scalars}\n",
    "    cosmo = Class()\n",
    "    cosmo.set(params)\n",
    "    cosmo.set(output)\n",
    "    cosmo.compute()\n",
    "\n",
    "    cl_tot = cosmo.raw_cl(700)\n",
    "    ell = cl_tot['ell']\n",
    "    EE = cl_tot['ee']\n",
    "    TE = cl_tot['te']\n",
    "    TT = cl_tot['tt']\n",
    "    tau = np.array([t_reio[i] for m in range(len(ell))])\n",
    "\n",
    "    ell_list.extend(ell)\n",
    "    EE_list.extend(EE)\n",
    "    TE_list.extend(TE)\n",
    "    TT_list.extend(TT)\n",
    "    tau_list.extend(tau)\n",
    "\n",
    "\n",
    "data = {'ell':ell_list,'tau':tau_list, 'EE':EE_list, 'TE':TE_list, 'TT':TT_list}\n",
    "df = pd.DataFrame(data)\n",
    "df_true = df[(df['ell'] != 0) & (df['ell'] != 1)]\n",
    "df_true.to_csv('CL_20_700_2.csv', index=False) "
   ]
  }
 ],
 "metadata": {
  "kernelspec": {
   "display_name": "classy",
   "language": "python",
   "name": "python3"
  },
  "language_info": {
   "codemirror_mode": {
    "name": "ipython",
    "version": 3
   },
   "file_extension": ".py",
   "mimetype": "text/x-python",
   "name": "python",
   "nbconvert_exporter": "python",
   "pygments_lexer": "ipython3",
   "version": "3.8.16"
  },
  "orig_nbformat": 4
 },
 "nbformat": 4,
 "nbformat_minor": 2
}
