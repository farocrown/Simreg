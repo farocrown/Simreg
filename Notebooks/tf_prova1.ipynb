{
 "cells": [
  {
   "cell_type": "code",
   "execution_count": null,
   "metadata": {},
   "outputs": [],
   "source": [
    "from classy import Class\n",
    "import matplotlib.pyplot as plt\n",
    "import numpy as np\n",
    "import pandas as pd"
   ]
  },
  {
   "attachments": {},
   "cell_type": "markdown",
   "metadata": {},
   "source": [
    "----\n",
    "## 1. Obtain T(k)\n",
    "----"
   ]
  },
  {
   "cell_type": "code",
   "execution_count": null,
   "metadata": {},
   "outputs": [],
   "source": [
    "#redshift\n",
    "z = 0\n",
    "A_s = 2.100549e-09\n",
    "n_s = 0.965"
   ]
  },
  {
   "cell_type": "code",
   "execution_count": null,
   "metadata": {},
   "outputs": [],
   "source": [
    "LambdaCDM = Class()\n",
    "LambdaCDM.set({'omega_b':0.0223828,'omega_cdm':0.1201075,'h':0.67810,'A_s':A_s,'n_s':n_s,'tau_reio':0.05430842,'N_ncdm':1, 'm_ncdm':0.06})\n",
    "LambdaCDM.set({'output':'tCl,pCl,lCl,mPk,mTk','lensing':'yes','P_k_max_1/Mpc':3.0})\n",
    "# lancio la classe\n",
    "LambdaCDM.compute()\n"
   ]
  },
  {
   "cell_type": "code",
   "execution_count": null,
   "metadata": {},
   "outputs": [],
   "source": [
    "one_time = LambdaCDM.get_transfer(z)\n",
    "ka = one_time['k (h/Mpc)']\n",
    "d_g = one_time['d_g']\n",
    "d_b = one_time['d_b']\n",
    "d_cdm = one_time['d_cdm']\n",
    "d_ncdm = abs(one_time['d_ncdm[0]'])\n",
    "d_m = one_time['d_m']\n",
    "d_tot = one_time['d_tot']\n",
    "phi = one_time['phi']\n",
    "psi = one_time['psi']"
   ]
  },
  {
   "cell_type": "code",
   "execution_count": null,
   "metadata": {},
   "outputs": [],
   "source": [
    "fig, ax = plt.subplots(figsize=(12,8))\n",
    "ax.set_xscale('log')\n",
    "ax.set_yscale('log')\n",
    "ax.set_xlabel(r'$k \\,\\,\\,\\, [h/\\mathrm{Mpc}]$')\n",
    "ax.set_ylabel(r'$T(k)$')\n",
    "ax.set_title('Transfer Function $T(k)$')\n",
    "#ax.plot(k, d_g, color='#424B54', lw=1, label='d_g')\n",
    "#ax.plot(k, d_b, color='green', lw=1, label='d_b')\n",
    "#ax.plot(k, d_cdm, color='b', lw=1, label='d_cdm')\n",
    "#ax.plot(k, d_ncdm, color='k', lw=1, label='d_ncdm')\n",
    "#ax.plot(k, d_m, color='red', lw=1, label='d_m')\n",
    "#ax.plot(k, d_tot, color='purple', lw=1, label='d_tot')\n",
    "ax.plot(ka, phi, color='violet', lw=1, label='psi')\n",
    "ax.plot(ka, psi, color='cyan', lw=1, label='psi')\n",
    "plt.show()"
   ]
  },
  {
   "cell_type": "code",
   "execution_count": null,
   "metadata": {},
   "outputs": [],
   "source": [
    "primordial = LambdaCDM.get_primordial()"
   ]
  },
  {
   "cell_type": "code",
   "execution_count": null,
   "metadata": {},
   "outputs": [],
   "source": [
    "k_piv = 0.05 \n",
    "k_1 = primordial['k [1/Mpc]']\n",
    "Ppk = []\n",
    "for i in range(len(k_1)):\n",
    "    Ppk.append(A_s*(k_1[i] / k_piv)**(LambdaCDM.n_s()-1))\n",
    "Ppk_cl = primordial['P_scalar(k)']"
   ]
  },
  {
   "attachments": {},
   "cell_type": "markdown",
   "metadata": {},
   "source": [
    "$$\n",
    "P_\\mathrm{prim} = A_s \\left(\\frac{k}{k_\\mathrm{pivot}}\\right)^{n_s-1}\n",
    "$$"
   ]
  },
  {
   "attachments": {},
   "cell_type": "markdown",
   "metadata": {},
   "source": [
    "in class P_primordiale è quello moltiplicato per k^3/2pi^2"
   ]
  },
  {
   "cell_type": "code",
   "execution_count": null,
   "metadata": {},
   "outputs": [],
   "source": [
    "fig, (ax1, ax2) = plt.subplots(1,2, figsize=(12,4))\n",
    "ax1.set_xscale('log')\n",
    "ax1.set_yscale('log')\n",
    "ax2.set_xscale('log')\n",
    "ax2.set_yscale('log')\n",
    "ax1.set_xlabel(r'$k \\,\\,\\,\\, [h/\\mathrm{Mpc}]$')\n",
    "ax1.set_ylabel(r'$P_0(k) \\,\\,\\,\\, [(h/\\mathrm{Mpc})^3]$')\n",
    "ax2.set_xlabel(r'$k \\,\\,\\,\\, [h/\\mathrm{Mpc}]$')\n",
    "ax2.set_ylabel(r'$P_0(k) \\,\\,\\,\\, [(h/\\mathrm{Mpc})^3]$')\n",
    "ax1.set_title('Primordial Power Matter Spectrum from CLASS')\n",
    "ax2.set_title('Calculated Primordial Power Matter Spectrum')\n",
    "ax1.plot(k_1, Ppk_cl)\n",
    "ax2.plot(k_1, Ppk)\n"
   ]
  },
  {
   "attachments": {},
   "cell_type": "markdown",
   "metadata": {},
   "source": [
    "----\n",
    "## MPS\n",
    "----"
   ]
  },
  {
   "cell_type": "code",
   "execution_count": null,
   "metadata": {},
   "outputs": [],
   "source": [
    "Pk = []\n",
    "for k in k_1:\n",
    "        Pk.append(LambdaCDM.pk(k * LambdaCDM.h(), 0.) * LambdaCDM.h() ** 3)"
   ]
  },
  {
   "attachments": {},
   "cell_type": "markdown",
   "metadata": {},
   "source": [
    "----\n",
    "## Calcolo T_f\n",
    "----"
   ]
  },
  {
   "cell_type": "code",
   "execution_count": null,
   "metadata": {},
   "outputs": [],
   "source": [
    "a_f = 1/1+z\n",
    "H_0 = LambdaCDM.h()*100\n",
    "omega_mz = LambdaCDM.Omega_m()\n",
    "c = 299792.458"
   ]
  },
  {
   "cell_type": "code",
   "execution_count": null,
   "metadata": {},
   "outputs": [],
   "source": [
    "Phi_1 = [] #calcolato con il valore di P_prim di class\n",
    "Phi_2 = [] #calcolato con il valore di P_prim calcolato da me\n",
    "for i in range (len(k_1)):\n",
    "    Phi_1.append(k_1[i]**(1.5)*np.sqrt(Pk[i]/Ppk_cl[i])*(3*(H_0**2)*omega_mz)/(2*((c*k_1[i])**2)*a_f))\n",
    "    Phi_2.append(k_1[i]**(1.5)*np.sqrt(Pk[i]/Ppk[i])*(3*(H_0**2)*omega_mz)/(2*((c*k_1[i])**2)*a_f))\n"
   ]
  },
  {
   "cell_type": "code",
   "execution_count": null,
   "metadata": {},
   "outputs": [],
   "source": [
    "fig, (ax1, ax2) = plt.subplots(1,2, figsize=(12,4))\n",
    "ax1.set_xscale('log')\n",
    "ax1.set_yscale('log')\n",
    "ax2.set_xscale('log')\n",
    "ax2.set_yscale('log')\n",
    "ax1.set_xlabel(r'$k \\,\\,\\,\\, [h/\\mathrm{Mpc}]$')\n",
    "ax1.set_ylabel(r'$T(k)$')\n",
    "ax2.set_xlabel(r'$k \\,\\,\\,\\, [h/\\mathrm{Mpc}]$')\n",
    "ax2.set_ylabel(r'$T(k)$')\n",
    "ax1.set_title('From CLASS')\n",
    "ax2.set_title('Calcoli Miei')\n",
    "ax1.plot(k_1, Phi_1)\n",
    "ax2.plot(k_1, Phi_2)"
   ]
  },
  {
   "cell_type": "code",
   "execution_count": null,
   "metadata": {},
   "outputs": [],
   "source": [
    "plt.loglog(k_1, Phi_2, label='mio')\n",
    "plt.loglog(ka,phi, label='class')\n",
    "plt.legend()\n"
   ]
  },
  {
   "cell_type": "code",
   "execution_count": null,
   "metadata": {},
   "outputs": [],
   "source": [
    "import os\n",
    "notebook_folder = os.path.dirname('')\n",
    "data_folder = os.path.join(notebook_folder, \"..\", \"Data\")\n",
    "def data_path(dat_id):\n",
    "    return os.path.join(data_folder, dat_id)\n",
    "def save_file(dat_id,df):\n",
    "    df.to_csv(data_path(dat_id), index=False)"
   ]
  },
  {
   "cell_type": "code",
   "execution_count": null,
   "metadata": {},
   "outputs": [],
   "source": [
    "data = {'k (h/Mpc)': ka, 'T(k)': phi}\n",
    "df = pd.DataFrame(data)\n",
    "save_file('TF_class',df)"
   ]
  },
  {
   "cell_type": "code",
   "execution_count": null,
   "metadata": {},
   "outputs": [],
   "source": [
    "data = {'k (1/Mpc)': k_1, 'T(k)': Phi_2}\n",
    "df = pd.DataFrame(data)\n",
    "save_file('TF_custom',df)"
   ]
  }
 ],
 "metadata": {
  "kernelspec": {
   "display_name": "classy",
   "language": "python",
   "name": "python3"
  },
  "language_info": {
   "codemirror_mode": {
    "name": "ipython",
    "version": 3
   },
   "file_extension": ".py",
   "mimetype": "text/x-python",
   "name": "python",
   "nbconvert_exporter": "python",
   "pygments_lexer": "ipython3",
   "version": "3.8.16"
  },
  "orig_nbformat": 4
 },
 "nbformat": 4,
 "nbformat_minor": 2
}
