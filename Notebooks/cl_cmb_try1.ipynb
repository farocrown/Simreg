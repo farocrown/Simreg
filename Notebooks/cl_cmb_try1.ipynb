{
 "cells": [
  {
   "cell_type": "code",
   "execution_count": null,
   "metadata": {},
   "outputs": [],
   "source": [
    "from classy import Class\n",
    "import numpy as np\n",
    "import matplotlib.pyplot as plt\n",
    "import custom_rcparams\n",
    "import os"
   ]
  },
  {
   "cell_type": "code",
   "execution_count": null,
   "metadata": {},
   "outputs": [],
   "source": [
    "notebook_folder = os.path.dirname('')\n",
    "images_folder = os.path.join(notebook_folder, \"..\", \"Images\")\n",
    "models_folder = os.path.join(notebook_folder, \"..\", \"models\", \"pkl\")\n",
    "data_folder = os.path.join(notebook_folder, \"..\", \"Data\")\n",
    "def data_path(data_id):\n",
    "    return os.path.join(data_folder, data_id)\n",
    "def model_path(model_id):\n",
    "    return os.path.join(models_folder, model_id)\n",
    "def img_path(img_id):\n",
    "    return os.path.join(images_folder, img_id)\n",
    "def save_img(img_id):\n",
    "    plt.savefig(img_path(img_id) + \".pdf\", format='pdf', bbox_inches='tight')"
   ]
  },
  {
   "cell_type": "markdown",
   "metadata": {},
   "source": [
    "In order to understand how to get to the CMB power spectrum, let us first recall the definition of the spherical harmonics transform of the CMB temperature field\n",
    "$$ T(\\hat{n})=\\sum_{\\ell m}a_{\\ell m}Y_{\\ell m}(\\hat{n}) $$\n",
    "The CMB power spectrum, on the other hand, is simply defined as the expectation value of the square of the spherical harmonics coefficients\n",
    "$$ C_{\\ell} \\equiv \\langle |a_{\\ell m}^2| \\rangle = \\langle a_{\\ell m}a^*_{\\ell m} \\rangle $$\n",
    "Note that, in principle, this function should have two subscripts, $C_{\\ell m}$, but because we assume that the universe is isotropic, it must have the same power spectrum towards both the x, y and z directions, and this implies full rotational invariance. As a result, there is no $m$ dependence in the power spectrum, and we simply average over $m$, and only call the spectrum $C_{\\ell}$."
   ]
  },
  {
   "cell_type": "code",
   "execution_count": null,
   "metadata": {},
   "outputs": [],
   "source": [
    "h = 0.67810\n",
    "ob = 0.02238280\n",
    "ocdm = 0.1201075"
   ]
  },
  {
   "cell_type": "code",
   "execution_count": null,
   "metadata": {},
   "outputs": [],
   "source": [
    "common_settings = {# LambdaCDM parameters\n",
    "                   'h':h,\n",
    "                   'omega_b':ob,\n",
    "                   'omega_cdm': ocdm,\n",
    "                   'A_s':2.100549e-09,\n",
    "                   'tau_reio': 0.05430842}\n",
    "l_max_scalars = 3000"
   ]
  },
  {
   "cell_type": "code",
   "execution_count": null,
   "metadata": {},
   "outputs": [],
   "source": [
    "cosmo = Class()\n",
    "cosmo.set(common_settings)\n",
    "cosmo.set({'output':'tCl,pCl,lCl','modes':'s,t','lensing':'yes','n_s':0.9660499,\n",
    "       'l_max_scalars':l_max_scalars})\n",
    "cosmo.compute()"
   ]
  },
  {
   "cell_type": "code",
   "execution_count": null,
   "metadata": {},
   "outputs": [],
   "source": [
    "cl_tot = cosmo.raw_cl(l_max_scalars)\n",
    "cl_tot.keys()"
   ]
  },
  {
   "cell_type": "markdown",
   "metadata": {},
   "source": [
    "tt anisotropie temperature primarie autocorrelazioni\n",
    "\n",
    "ee anisotropie angolari autocorrelazioni\n",
    "\n",
    "te cross correlation t e "
   ]
  },
  {
   "cell_type": "markdown",
   "metadata": {},
   "source": [
    "The power spectrum is most often plotted in units of $\\ell(\\ell+1)/2\\pi$ in $\\mu K^2$, because it's overall trend is to drop as $\\ell^2$. It is therefore easier to see features when plotted in these units, i.e. we multiply $C_{\\ell}$ by $\\frac{\\ell(\\ell+1)}{2\\pi}(10^6T_{CMB0})^2$"
   ]
  },
  {
   "cell_type": "code",
   "execution_count": null,
   "metadata": {},
   "outputs": [],
   "source": [
    "ell = cl_tot['ell']\n",
    "pi = np.pi\n",
    "factor = (10**12)*ell*(ell+1.)/(2*pi)\n",
    "import rcpresentation"
   ]
  },
  {
   "cell_type": "code",
   "execution_count": null,
   "metadata": {},
   "outputs": [],
   "source": [
    "plt.plot(ell,(factor*(cl_tot['ee'])), color='r')\n",
    "plt.xlabel('$\\ell$')\n",
    "plt.ylabel('$C^{EE}_{\\ell}\\cdot \\ell(\\ell+1)/2\\pi \\ \\ [\\mu K^2]$')\n",
    "save_img('EE1') #CL1"
   ]
  },
  {
   "cell_type": "markdown",
   "metadata": {},
   "source": [
    "----\n",
    "\n",
    "----"
   ]
  },
  {
   "cell_type": "markdown",
   "metadata": {},
   "source": [
    "# GRAPHS"
   ]
  },
  {
   "cell_type": "code",
   "execution_count": null,
   "metadata": {},
   "outputs": [],
   "source": [
    "import pandas as pd"
   ]
  },
  {
   "cell_type": "code",
   "execution_count": null,
   "metadata": {},
   "outputs": [],
   "source": [
    "t_reio = np.round(np.linspace(0.0561-5*0.0071, 0.0561+5*0.0071, 20, endpoint=True),4)\n",
    "df = pd.read_csv(data_path('CL_20.csv'))"
   ]
  },
  {
   "cell_type": "code",
   "execution_count": null,
   "metadata": {},
   "outputs": [],
   "source": [
    "ell = df['ell'].values\n",
    "ee = df['EE'].values\n",
    "te = df['TE'].values\n",
    "tt = df['TT'].values\n",
    "tau = df['tau'].values"
   ]
  },
  {
   "cell_type": "code",
   "execution_count": null,
   "metadata": {},
   "outputs": [],
   "source": [
    "a = len(t_reio)\n",
    "b = len(ell)\n",
    "alpha = int(b/a)\n",
    "ell1 = np.array(ell[0:alpha])\n",
    "factor = (10**12)*ell1*(ell1+1.)/(2*np.pi)"
   ]
  },
  {
   "cell_type": "code",
   "execution_count": null,
   "metadata": {},
   "outputs": [],
   "source": [
    "print(a,b,alpha)"
   ]
  },
  {
   "cell_type": "code",
   "execution_count": null,
   "metadata": {},
   "outputs": [],
   "source": [
    "ee_vec = []\n",
    "for i in range(a):\n",
    "    y = factor*ee[i * alpha:(i + 1) * alpha]\n",
    "    ee_vec.append(y)"
   ]
  },
  {
   "cell_type": "code",
   "execution_count": null,
   "metadata": {},
   "outputs": [],
   "source": [
    "ind = len(ee_vec)\n",
    "plt.loglog(ell1,ee_vec[0],label=r'$\\tau_{reio}=$'+str(np.round(t_reio[0],3)))\n",
    "plt.loglog(ell1,ee_vec[int(ind/3)-1], label=r'$\\tau_{reio}=$'+str(np.round(t_reio[int(ind/3)-1],3)))\n",
    "plt.loglog(ell1,ee_vec[2*int(ind/3)-1], label=r'$\\tau_{reio}=$'+str(np.round(t_reio[2*int(ind/3)-1],3)))\n",
    "plt.loglog(ell1,ee_vec[ind-1], label=r'$\\tau_{reio}=$'+str(np.round(t_reio[ind-1],3)))\n",
    "plt.xlabel(r'$\\ell$')\n",
    "plt.ylabel(r'$C^{EE}_{\\ell}\\cdot \\ell(\\ell+1)/2\\pi \\ \\ [\\mu K^2]$')\n",
    "plt.legend()\n",
    "save_img('EE2') #CL1plot"
   ]
  },
  {
   "cell_type": "code",
   "execution_count": null,
   "metadata": {},
   "outputs": [],
   "source": [
    "plt.figure(figsize=(18, 9))\n",
    "plt.xlim([2,3000])\n",
    "for i in range(a):\n",
    "    l = ell[i * alpha:(i + 1) * alpha]\n",
    "    y = te[i * alpha:(i + 1) * alpha]\n",
    "    string = r'$\\tau_{reio}=$' + str(round(t_reio[i], 2))\n",
    "    plt.plot(l,factor * y, lw=1, label=string)\n",
    "    plt.legend()  \n",
    "\n",
    "plt.xlabel('$\\ell$')\n",
    "plt.ylabel('$C^{TE}_{\\ell}\\cdot \\ell(\\ell+1)/2\\pi \\ \\ [\\mu K^2]$')\n",
    "plt.title(r'$C_{\\ell}^{TE}$ for different values of $\\tau_{reio}$')\n",
    "plt.grid(True)\n",
    "plt.show()  "
   ]
  },
  {
   "cell_type": "code",
   "execution_count": null,
   "metadata": {},
   "outputs": [],
   "source": [
    "plt.figure(figsize=(18, 9))\n",
    "plt.xlim([2,3000])\n",
    "\n",
    "for i in range(a):\n",
    "    l = ell[i * alpha:(i + 1) * alpha]\n",
    "    y = tt[i * alpha:(i + 1) * alpha]\n",
    "    string = r'$\\tau_{reio}=$' + str(round(t_reio[i], 2))\n",
    "    plt.plot(l, factor * y, lw=1, label=string)\n",
    "    plt.legend()  \n",
    "\n",
    "plt.xlabel('$\\ell$')\n",
    "plt.ylabel('$C^{TT}_{\\ell}\\cdot \\ell(\\ell+1)/2\\pi \\ \\ [\\mu K^2]$')\n",
    "plt.title(r'$C_{\\ell}^{TT}$ for different values of $\\tau_{reio}$')\n",
    "plt.grid(True)\n",
    "plt.show()  "
   ]
  },
  {
   "cell_type": "markdown",
   "metadata": {},
   "source": [
    "----\n",
    "# RATIO\n",
    "----"
   ]
  },
  {
   "cell_type": "markdown",
   "metadata": {},
   "source": [
    "We compute\n",
    "$$\\frac{C_{\\ell}^{EE}(\\tau_{reio})}{C_{\\ell}^{EE}(0.02)}$$"
   ]
  },
  {
   "cell_type": "code",
   "execution_count": null,
   "metadata": {},
   "outputs": [],
   "source": [
    "ind = len(ee_vec)\n",
    "plt.loglog(ell1,ee_vec[0]/ee_vec[0],label=r'$\\tau=$'+str(np.round(t_reio[0],3)))\n",
    "plt.loglog(ell1,ee_vec[int(ind/5)-1]/ee_vec[0], label=r'$\\tau=$'+str(np.round(t_reio[int(ind/5)-1],3)))\n",
    "plt.loglog(ell1,ee_vec[2*int(ind/5)-1]/ee_vec[0], label=r'$\\tau=$'+str(np.round(t_reio[2*int(ind/5)-1],3)))\n",
    "plt.loglog(ell1,ee_vec[3*int(ind/5)-1]/ee_vec[0], label=r'$\\tau=$'+str(np.round(t_reio[3*int(ind/5)-1],3)))\n",
    "plt.loglog(ell1,ee_vec[4*int(ind/5)-1]/ee_vec[0], label=r'$\\tau=$'+str(np.round(t_reio[4*int(ind/5)-1],3)))\n",
    "plt.loglog(ell1,ee_vec[ind-1]/ee_vec[0], label=r'$\\tau=$'+str(np.round(t_reio[ind-1],3)))\n",
    "plt.xlabel(r'$\\ell$')\n",
    "plt.ylabel(r'$\\mathcal{F}(\\ell,\\tau)$')\n",
    "plt.legend()\n",
    "save_img('CL1_Ratio_plot') #CL1_Ratio_plot"
   ]
  },
  {
   "cell_type": "markdown",
   "metadata": {},
   "source": [
    "* for $\\ell < 30$ we can see that $C_{\\ell}^{EE}$ is proportional to $\\tau$, but we don't know in what way\n",
    "+ for $\\ell >> 30$ we can see that $C_{\\ell}^{EE}$ is inversely proportional to $\\tau$, but we don't know in what way"
   ]
  },
  {
   "cell_type": "markdown",
   "metadata": {},
   "source": [
    "The degraded EE 2-point function performance in the l < 20 region arises because of two different factors. First and foremost, we only consider cosmic variance over this multipole range since S4 will not be able to image the largest angular scales at l ≲ 40. The second effect comes from the scaling of the 2-point function with respect to τ, which is proportional to τ2 for l < 30. In fact, thedynamical range of the CEE in this specific multipole l range, across all the cosmologies considered, is 30 times bigger than the one outside."
   ]
  },
  {
   "cell_type": "markdown",
   "metadata": {},
   "source": [
    "----\n",
    "We compute\n",
    "$$\\frac{C_{\\ell}^{TE}(\\tau_{reio})}{C_{\\ell}^{TE}(0.02)}$$"
   ]
  },
  {
   "cell_type": "code",
   "execution_count": null,
   "metadata": {},
   "outputs": [],
   "source": [
    "plt.figure(figsize=(12, 6))\n",
    "for i in range (a):\n",
    "    l = ell[(i * alpha)+2:(i + 1)*alpha]\n",
    "    y = te[(i * alpha)+2:(i + 1)*alpha]/te[2:alpha]\n",
    "    string = r'$\\tau_{reio}=$' + str(round(t_reio[i], 2))\n",
    "    plt.semilogy(l[0:35],y[0:35], label=string)\n",
    "    plt.legend()\n",
    "plt.xlabel('$\\ell$')\n",
    "plt.ylabel(r'$\\frac{C_{\\ell}^{TE}(\\tau_{reio})}{C_{\\ell}^{TE}(0.02)}$')\n",
    "plt.title(r'$\\frac{C_{\\ell}^{TE}(\\tau_{reio})}{C_{\\ell}^{TE}(0.02)}$ for different values of $\\tau_{reio}$, and $0<\\ell<30}$')\n",
    "plt.grid(True)\n",
    "plt.show()  "
   ]
  },
  {
   "cell_type": "code",
   "execution_count": null,
   "metadata": {},
   "outputs": [],
   "source": [
    "plt.figure(figsize=(12, 6))\n",
    "for i in range (a):\n",
    "    l = ell[(i * alpha)+2:(i + 1)*alpha]\n",
    "    y = te[(i * alpha)+2:(i + 1)*alpha]/te[2:alpha]\n",
    "    string = r'$\\tau_{reio}=$' + str(round(t_reio[i], 2))\n",
    "    plt.semilogy(l[30:60],abs(y[30:60]), label=string)\n",
    "    plt.legend()\n",
    "plt.xlabel('$\\ell$')\n",
    "plt.ylabel(r'$\\frac{C_{\\ell}^{TE}(\\tau_{reio})}{C_{\\ell}^{TE}(0.02)}$')\n",
    "plt.title(r'$\\frac{C_{\\ell}^{TE}(\\tau_{reio})}{C_{\\ell}^{TE}(0.02)}$ for different values of $\\tau_{reio}$, and $30<\\ell<60}$')\n",
    "plt.grid(True)\n",
    "plt.show()  "
   ]
  },
  {
   "cell_type": "markdown",
   "metadata": {},
   "source": [
    "zero crossing: quantità piccole quindi i raporti sono grossi "
   ]
  },
  {
   "cell_type": "markdown",
   "metadata": {},
   "source": [
    "----\n",
    "We compute\n",
    "$$\\frac{C_{\\ell}^{TT}(\\tau_{reio})}{C_{\\ell}^{TT}(0.02)}$$"
   ]
  },
  {
   "cell_type": "code",
   "execution_count": null,
   "metadata": {},
   "outputs": [],
   "source": [
    "plt.figure(figsize=(12, 6))\n",
    "plt.xlim([2,3000])\n",
    "for i in range (a):\n",
    "    l = ell[(i * alpha)+2:(i + 1)*alpha]\n",
    "    y = tt[(i * alpha)+2:(i + 1)*alpha]/tt[2:alpha]\n",
    "    string = r'$\\tau_{reio}=$' + str(round(t_reio[i], 2))\n",
    "    plt.loglog(l,y, label=string)\n",
    "    plt.legend()\n",
    "plt.xlabel('$\\ell$')\n",
    "plt.ylabel(r'$\\frac{C_{\\ell}^{TT}(\\tau_{reio})}{C_{\\ell}^{TT}(0.02)}$')\n",
    "plt.title(r'$\\frac{C_{\\ell}^{TT}(\\tau_{reio})}{C_{\\ell}^{TT}(0.02)}$ for different values of $\\tau_{reio}$')\n",
    "plt.grid(True)\n",
    "plt.show()  "
   ]
  },
  {
   "cell_type": "markdown",
   "metadata": {},
   "source": [
    "----\n",
    "## Searching $\\beta \\tau^2$ in different spectra\n",
    "----"
   ]
  },
  {
   "cell_type": "code",
   "execution_count": null,
   "metadata": {},
   "outputs": [],
   "source": [
    "def beta(ell, tau, C_l):\n",
    "    if not isinstance(tau, np.ndarray):\n",
    "        print('WARNING: this function works only with NumPy arrays')\n",
    "    else:\n",
    "        C_len = C_l #we scale C_l due to its low values\n",
    "        loss_arr = np.empty(2000)\n",
    "        a_arr = np.empty(2000)\n",
    "        for i in range(2000):\n",
    "            a = 10 * i\n",
    "            a_arr[i] = a  \n",
    "            loss = np.sum(abs(C_len - a * (tau**2)))\n",
    "            loss_arr[i] = loss \n",
    "        m = np.argmin(loss_arr)  \n",
    "        a_min = a_arr[m]  \n",
    "        return a_min"
   ]
  },
  {
   "cell_type": "code",
   "execution_count": null,
   "metadata": {},
   "outputs": [],
   "source": [
    "df1 = pd.read_csv(data_path('CL_20_50.csv'))"
   ]
  },
  {
   "cell_type": "code",
   "execution_count": null,
   "metadata": {},
   "outputs": [],
   "source": [
    "ell_1 = df1['ell'].values\n",
    "ee_1 = df1['EE'].values\n",
    "te_1 = df1['TE'].values\n",
    "tt_1 = df1['TT'].values\n",
    "tau_1 = df1['tau'].values"
   ]
  },
  {
   "cell_type": "code",
   "execution_count": null,
   "metadata": {},
   "outputs": [],
   "source": [
    "a_1 = len(t_reio)\n",
    "b_1 = len(ell_1)\n",
    "alpha_1 = int(b_1/a_1)\n",
    "ell_11 = np.array(ell_1[0:alpha_1])\n",
    "fa = (10**12)*ell_11*(ell_11+1.)/(2*np.pi)"
   ]
  },
  {
   "cell_type": "code",
   "execution_count": null,
   "metadata": {},
   "outputs": [],
   "source": [
    "ratio_ee_1 = []\n",
    "for i in range(a_1):\n",
    "    ratio_ee_1.append(ee_1[i*alpha_1:(i+1)*alpha_1]/ee_1[0:alpha_1])\n",
    "ratio_ee_1 = np.concatenate(ratio_ee_1)"
   ]
  },
  {
   "cell_type": "code",
   "execution_count": null,
   "metadata": {},
   "outputs": [],
   "source": [
    "len(ratio_ee_1)"
   ]
  },
  {
   "cell_type": "markdown",
   "metadata": {},
   "source": [
    "we sort the array to use $\\tau$ as variable and $\\ell$ fixed"
   ]
  },
  {
   "cell_type": "code",
   "execution_count": null,
   "metadata": {},
   "outputs": [],
   "source": [
    "x_t = []\n",
    "x_l = []\n",
    "y_ee = []\n",
    "y_ee_ratio = []\n",
    "y_te = []\n",
    "y_tt = []\n",
    "\n",
    "for i in range (alpha_1):\n",
    "    for j in range (a_1):\n",
    "        index = int(i+j*alpha_1)\n",
    "        x_t.append(tau_1[index])\n",
    "        x_l.append(ell_1[index])\n",
    "        y_ee.append(ee_1[index])\n",
    "        y_te.append(te_1[index])\n",
    "        y_tt.append(tt_1[index])\n",
    "        y_ee_ratio.append(ratio_ee_1[index]) "
   ]
  },
  {
   "cell_type": "markdown",
   "metadata": {},
   "source": [
    "we can see the sorted dataframe\n"
   ]
  },
  {
   "cell_type": "code",
   "execution_count": null,
   "metadata": {},
   "outputs": [],
   "source": [
    "import os\n",
    "notebook_folder = os.path.dirname('')\n",
    "data_folder = os.path.join(notebook_folder, \"..\", \"Data\")\n",
    "def data_path(dat_id):\n",
    "    return os.path.join(data_folder, dat_id)\n",
    "def save_file(dat_id,df):\n",
    "    df.to_csv(data_path(dat_id), index=False)"
   ]
  },
  {
   "cell_type": "code",
   "execution_count": null,
   "metadata": {},
   "outputs": [],
   "source": [
    "data = {'tau':x_t,'ell':x_l, 'EE':y_ee_ratio, 'TE':y_te, 'TT':y_tt}\n",
    "df = pd.DataFrame(data)\n",
    "save_file('CL_6_50_sort.csv',df)\n",
    "print(df)"
   ]
  },
  {
   "cell_type": "code",
   "execution_count": null,
   "metadata": {},
   "outputs": [],
   "source": [
    "be = beta(np.array(x_l),np.array(x_t),np.array(y_ee_ratio))\n",
    "print(be)"
   ]
  },
  {
   "cell_type": "code",
   "execution_count": null,
   "metadata": {},
   "outputs": [],
   "source": [
    "for i in range(alpha_1):\n",
    "    plt.plot(x_t[(i * a_1):(i + 1)*a_1],y_ee_ratio[(i * a_1):(i + 1)*a_1])"
   ]
  },
  {
   "cell_type": "code",
   "execution_count": null,
   "metadata": {},
   "outputs": [],
   "source": [
    "plt.figure(figsize=(18, 9))\n",
    "plt.xlim([2,50])\n",
    "\n",
    "for i in range(a):\n",
    "    l = ell[i * alpha:(i + 1) * alpha]\n",
    "    y = ee[i * alpha:(i + 1) * alpha]/(be*tau[i * alpha:(i + 1) * alpha]**2)\n",
    "    string = r'$\\tau_{reio}=$' + str(round(t_reio[i], 2))\n",
    "    plt.semilogy(l, y, lw=1, label=string)\n",
    "    plt.legend()  \n",
    "\n",
    "plt.xlabel('$\\ell$')\n",
    "plt.ylabel('$C^{EE}_{\\ell}\\cdot \\ell(\\ell+1)/2\\pi \\ \\ [\\mu K^2]$')\n",
    "plt.title(r'$C_{\\ell}^{EE}$ for different values of $\\tau_{reio}$')\n",
    "plt.grid(True)\n",
    "plt.show()  "
   ]
  },
  {
   "cell_type": "code",
   "execution_count": null,
   "metadata": {},
   "outputs": [],
   "source": [
    "x_t = np.array(x_t)\n",
    "x_l = np.array(x_l)\n",
    "y_ee = np.array(y_ee)\n",
    "y_te = np.array(y_te)\n",
    "y_tt = np.array(y_tt)"
   ]
  },
  {
   "cell_type": "code",
   "execution_count": null,
   "metadata": {},
   "outputs": [],
   "source": [
    "prop = beta(x_l,x_t,y_te)\n",
    "print(prop)"
   ]
  },
  {
   "cell_type": "markdown",
   "metadata": {},
   "source": [
    "----\n",
    "## Searching $\\gamma e^{-2\\tau}$ in different spectra\n",
    "----"
   ]
  },
  {
   "cell_type": "code",
   "execution_count": null,
   "metadata": {},
   "outputs": [],
   "source": [
    "def gamma(ell, tau, C_l):\n",
    "    if not isinstance(tau, np.ndarray):\n",
    "        print('WARNING: this function works only with NumPy arrays')\n",
    "    else:\n",
    "        C_len = (10**15)*C_l #we scale C_l due to its low values\n",
    "        loss_arr = np.empty(200)\n",
    "        a_arr = np.empty(200)\n",
    "        for i in range(200):\n",
    "            a = 0.1 * i\n",
    "            a_arr[i] = a  \n",
    "            loss = np.sum(abs(C_len - a * np.e**(-2*tau)))\n",
    "            loss_arr[i] = loss \n",
    "        m = np.argmin(loss_arr)  \n",
    "        a_min = a_arr[m]  \n",
    "        return a_min/(10**15)"
   ]
  },
  {
   "cell_type": "code",
   "execution_count": null,
   "metadata": {},
   "outputs": [],
   "source": [
    "ga = gamma(ell[800:],tau[800:],tt[800:])\n",
    "print(ga)"
   ]
  },
  {
   "cell_type": "code",
   "execution_count": null,
   "metadata": {},
   "outputs": [],
   "source": [
    "plt.figure(figsize=(9, 5))\n",
    "plt.scatter(x_t,(y_ee))\n",
    "plt.scatter(x_t,prop*x_t**2)\n",
    "plt.xlabel(r'$\\tau$')\n",
    "plt.ylabel('$C^{EE}_{\\ell}\\cdot \\ell(\\ell+1)/2\\pi \\ \\ [\\mu K^2]$')\n",
    "plt.title(r'$C_{\\ell}^{EE}$ for different values of $\\tau_{reio}$')\n",
    "plt.grid(True)\n",
    "plt.show()  "
   ]
  },
  {
   "cell_type": "code",
   "execution_count": null,
   "metadata": {},
   "outputs": [],
   "source": [
    "from mpl_toolkits.mplot3d import Axes3D\n",
    "\n",
    "# Crea il grafico 3D\n",
    "fig = plt.figure(figsize=(9,9))\n",
    "ax = fig.add_subplot(111, projection='3d')\n",
    "\n",
    "# Crea il grafico di dispersione (scatter plot)\n",
    "#ax.scatter(x_l[0:20*6], x_t[0:20*6], y_ee[0:20*6], c='b', marker='o')\n",
    "ax.scatter(x_l[0:12*6], x_t[0:12*6], y_ee[0:12*6], c='r', marker='o')\n",
    "# Etichette degli assi\n",
    "ax.set_xlabel(r'$\\ell$')\n",
    "ax.set_ylabel(r'$\\tau$')\n",
    "ax.set_zlabel(r'$C^{EE}(\\ell, \\tau)$')\n",
    "ax.set_title(r'3D graph of $C^{EE}(\\ell, \\tau)$')\n",
    "\n",
    "# Mostra il grafico\n",
    "plt.show()\n"
   ]
  },
  {
   "cell_type": "code",
   "execution_count": null,
   "metadata": {},
   "outputs": [],
   "source": [
    "from mpl_toolkits.mplot3d import Axes3D\n",
    "\n",
    "# Crea il grafico 3D\n",
    "fig = plt.figure(figsize=(9,9))\n",
    "ax = fig.add_subplot(111, projection='3d')\n",
    "\n",
    "# Crea il grafico di dispersione (scatter plot)\n",
    "#ax.scatter(x_l[0:20*6], x_t[0:20*6], y_ee[0:20*6], c='b', marker='o')\n",
    "ax.scatter(x_l[0:12*6], x_t[0:12*6], y_ee_ratio[0:12*6], c='r', marker='o')\n",
    "# Etichette degli assi\n",
    "ax.set_xlabel(r'$\\ell$')\n",
    "ax.set_ylabel(r'$\\tau$')\n",
    "ax.set_zlabel(r'$C^{EE}(\\ell, \\tau)$')\n",
    "ax.set_title(r'3D graph of $C^{EE}(\\ell, \\tau)$')\n",
    "\n",
    "# Mostra il grafico\n",
    "plt.show()\n"
   ]
  }
 ],
 "metadata": {
  "kernelspec": {
   "display_name": "classy",
   "language": "python",
   "name": "python3"
  },
  "language_info": {
   "codemirror_mode": {
    "name": "ipython",
    "version": 3
   },
   "file_extension": ".py",
   "mimetype": "text/x-python",
   "name": "python",
   "nbconvert_exporter": "python",
   "pygments_lexer": "ipython3",
   "version": "3.8.16"
  },
  "orig_nbformat": 4
 },
 "nbformat": 4,
 "nbformat_minor": 2
}
