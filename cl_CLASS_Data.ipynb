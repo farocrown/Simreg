{
 "cells": [
  {
   "cell_type": "markdown",
   "metadata": {},
   "source": [
    "## Varying $\\tau_{reio}$"
   ]
  },
  {
   "cell_type": "code",
   "execution_count": 1,
   "metadata": {},
   "outputs": [],
   "source": [
    "import pandas as pd\n",
    "import numpy as np\n",
    "from classy import Class\n",
    "import matplotlib.pyplot as plt"
   ]
  },
  {
   "cell_type": "code",
   "execution_count": 13,
   "metadata": {},
   "outputs": [],
   "source": [
    "# LambdaCDM parameters\n",
    "h = 0.67810\n",
    "ob = 0.02238280\n",
    "ocdm = 0.1201075\n",
    "tau = 0.0561\n",
    "l_max_scalars = 3000"
   ]
  },
  {
   "cell_type": "code",
   "execution_count": 16,
   "metadata": {},
   "outputs": [
    {
     "name": "stdout",
     "output_type": "stream",
     "text": [
      "[0.0261 0.0314 0.0366 0.0419 0.0472 0.0524 0.0561 0.0629 0.0682 0.0735\n",
      " 0.0787 0.084  0.0893 0.0945 0.0998 0.105  0.1103 0.1156 0.1208 0.1261]\n"
     ]
    }
   ],
   "source": [
    "t_reio = np.round(np.linspace(0.0261, 0.1261, 20, endpoint=True),4)\n",
    "index = np.abs(t_reio - tau).argmin()\n",
    "t_reio[index] = tau\n",
    "print(t_reio)"
   ]
  },
  {
   "cell_type": "code",
   "execution_count": 23,
   "metadata": {},
   "outputs": [],
   "source": [
    "ell_list = []\n",
    "EE_list = []\n",
    "TE_list = []\n",
    "TT_list = []\n",
    "tau_list = []"
   ]
  },
  {
   "cell_type": "code",
   "execution_count": 24,
   "metadata": {},
   "outputs": [],
   "source": [
    "for i in range (len(t_reio)):\n",
    "    params = {'h':h,'omega_b':ob,'omega_cdm': ocdm,'A_s':2.100549e-09,'tau_reio': t_reio[i]}\n",
    "    output = {'output':'tCl,pCl,lCl','modes':'s,t','lensing':'yes','n_s':0.9660499,'l_max_scalars':l_max_scalars}\n",
    "    cosmo = Class()\n",
    "    cosmo.set(params)\n",
    "    cosmo.set(output)\n",
    "    cosmo.compute()\n",
    "\n",
    "    cl_tot = cosmo.raw_cl(l_max_scalars)\n",
    "    ell = cl_tot['ell']\n",
    "    EE = cl_tot['ee']\n",
    "    TE = cl_tot['te']\n",
    "    TT = cl_tot['tt']\n",
    "    tau = np.array([t_reio[i] for m in range(len(ell))])\n",
    "\n",
    "    ell_list.extend(ell)\n",
    "    EE_list.extend(EE)\n",
    "    TE_list.extend(TE)\n",
    "    TT_list.extend(TT)\n",
    "    tau_list.extend(tau)\n",
    "\n",
    "\n",
    "data = {'ell':ell_list,'tau':tau_list, 'EE':EE_list, 'TE':TE_list, 'TT':TT_list}\n",
    "df = pd.DataFrame(data)\n",
    "df_true = df[(df['ell'] != 0) & (df['ell'] != 1)]\n",
    "df_true.to_csv('CL_20.csv', index=False) "
   ]
  },
  {
   "cell_type": "code",
   "execution_count": 25,
   "metadata": {},
   "outputs": [],
   "source": [
    "ell_list = []\n",
    "EE_list = []\n",
    "TE_list = []\n",
    "TT_list = []\n",
    "tau_list = []"
   ]
  },
  {
   "cell_type": "code",
   "execution_count": 26,
   "metadata": {},
   "outputs": [],
   "source": [
    "for i in range (len(t_reio)):\n",
    "    params = {'h':h,'omega_b':ob,'omega_cdm': ocdm,'A_s':2.100549e-09,'tau_reio': t_reio[i]}\n",
    "    output = {'output':'tCl,pCl,lCl','modes':'s,t','lensing':'yes','n_s':0.9660499,'l_max_scalars':l_max_scalars}\n",
    "    cosmo = Class()\n",
    "    cosmo.set(params)\n",
    "    cosmo.set(output)\n",
    "    cosmo.compute()\n",
    "\n",
    "    cl_tot = cosmo.raw_cl(50)\n",
    "    ell = cl_tot['ell']\n",
    "    EE = cl_tot['ee']\n",
    "    TE = cl_tot['te']\n",
    "    TT = cl_tot['tt']\n",
    "    tau = np.array([t_reio[i] for m in range(len(ell))])\n",
    "\n",
    "    ell_list.extend(ell)\n",
    "    EE_list.extend(EE)\n",
    "    TE_list.extend(TE)\n",
    "    TT_list.extend(TT)\n",
    "    tau_list.extend(tau)\n",
    "\n",
    "\n",
    "data = {'ell':ell_list,'tau':tau_list, 'EE':EE_list, 'TE':TE_list, 'TT':TT_list}\n",
    "df = pd.DataFrame(data)\n",
    "df_true = df[(df['ell'] != 0) & (df['ell'] != 1)]\n",
    "df_true.to_csv('CL_20_50.csv', index=False) "
   ]
  }
 ],
 "metadata": {
  "kernelspec": {
   "display_name": "classy",
   "language": "python",
   "name": "python3"
  },
  "language_info": {
   "codemirror_mode": {
    "name": "ipython",
    "version": 3
   },
   "file_extension": ".py",
   "mimetype": "text/x-python",
   "name": "python",
   "nbconvert_exporter": "python",
   "pygments_lexer": "ipython3",
   "version": "3.8.16"
  },
  "orig_nbformat": 4
 },
 "nbformat": 4,
 "nbformat_minor": 2
}
