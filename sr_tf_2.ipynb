{
 "cells": [
  {
   "cell_type": "code",
   "execution_count": 7,
   "metadata": {},
   "outputs": [],
   "source": [
    "import numpy as np\n",
    "import matplotlib.pyplot as plt\n",
    "import pandas as pd\n",
    "from pysr import PySRRegressor\n",
    "from IPython.display import Markdown as md"
   ]
  },
  {
   "cell_type": "markdown",
   "metadata": {},
   "source": [
    "This file pretends to fit data from CLASS to obtain an analytic formula for T(k). Now let's import T(k):"
   ]
  },
  {
   "cell_type": "code",
   "execution_count": 8,
   "metadata": {},
   "outputs": [],
   "source": [
    "def accuracy(data, model):\n",
    "    if len(data) != len(model):\n",
    "        print('ERROR: array must have the same length!')\n",
    "        return\n",
    "    \n",
    "    l = len(data)\n",
    "    b = 0\n",
    "    \n",
    "    for i in range(l):\n",
    "        a = abs((data[i] - model[i]) / data[i])\n",
    "        b += a\n",
    "    \n",
    "    return 100 * b / l"
   ]
  },
  {
   "cell_type": "code",
   "execution_count": 9,
   "metadata": {},
   "outputs": [],
   "source": [
    "tf = pd.read_csv('TF_16cosmo.csv')\n",
    "k = tf['k (h/Mpc)'].values\n",
    "x = tf['x'].values\n",
    "T = tf['T(k)'].values"
   ]
  },
  {
   "cell_type": "code",
   "execution_count": 10,
   "metadata": {},
   "outputs": [],
   "source": [
    "x = x.reshape(-1,1)"
   ]
  },
  {
   "cell_type": "markdown",
   "metadata": {},
   "source": [
    "Let's define a Regressor:"
   ]
  },
  {
   "cell_type": "code",
   "execution_count": 11,
   "metadata": {},
   "outputs": [],
   "source": [
    "model = PySRRegressor(\n",
    "    model_selection=\"best\",\n",
    "    niterations=1000,  # < Increase me for better results\n",
    "    \n",
    "    binary_operators=[\"+\",\"*\",\"-\",\"/\",\"^\"],\n",
    "    constraints={'^': (2, 1)},\n",
    "    nested_constraints={\"^\": {\"^\": 2}},\n",
    "    maxsize=20,\n",
    "    loss=\"loss(prediction, target) = (prediction - target)^2\",\n",
    "    # ^ Custom loss function (julia syntax)\n",
    "    turbo=True,  \n",
    "    #cluster_manager=cluster[1],\n",
    "    #multithreading=True,\n",
    ")"
   ]
  },
  {
   "cell_type": "code",
   "execution_count": 26,
   "metadata": {},
   "outputs": [
    {
     "name": "stdout",
     "output_type": "stream",
     "text": [
      "Checking if hall_of_fame_2023-08-29_163723.264.pkl exists...\n",
      "Loading model from hall_of_fame_2023-08-29_163723.264.pkl\n"
     ]
    },
    {
     "data": {
      "text/html": [
       "<style>#sk-container-id-2 {color: black;background-color: white;}#sk-container-id-2 pre{padding: 0;}#sk-container-id-2 div.sk-toggleable {background-color: white;}#sk-container-id-2 label.sk-toggleable__label {cursor: pointer;display: block;width: 100%;margin-bottom: 0;padding: 0.3em;box-sizing: border-box;text-align: center;}#sk-container-id-2 label.sk-toggleable__label-arrow:before {content: \"▸\";float: left;margin-right: 0.25em;color: #696969;}#sk-container-id-2 label.sk-toggleable__label-arrow:hover:before {color: black;}#sk-container-id-2 div.sk-estimator:hover label.sk-toggleable__label-arrow:before {color: black;}#sk-container-id-2 div.sk-toggleable__content {max-height: 0;max-width: 0;overflow: hidden;text-align: left;background-color: #f0f8ff;}#sk-container-id-2 div.sk-toggleable__content pre {margin: 0.2em;color: black;border-radius: 0.25em;background-color: #f0f8ff;}#sk-container-id-2 input.sk-toggleable__control:checked~div.sk-toggleable__content {max-height: 200px;max-width: 100%;overflow: auto;}#sk-container-id-2 input.sk-toggleable__control:checked~label.sk-toggleable__label-arrow:before {content: \"▾\";}#sk-container-id-2 div.sk-estimator input.sk-toggleable__control:checked~label.sk-toggleable__label {background-color: #d4ebff;}#sk-container-id-2 div.sk-label input.sk-toggleable__control:checked~label.sk-toggleable__label {background-color: #d4ebff;}#sk-container-id-2 input.sk-hidden--visually {border: 0;clip: rect(1px 1px 1px 1px);clip: rect(1px, 1px, 1px, 1px);height: 1px;margin: -1px;overflow: hidden;padding: 0;position: absolute;width: 1px;}#sk-container-id-2 div.sk-estimator {font-family: monospace;background-color: #f0f8ff;border: 1px dotted black;border-radius: 0.25em;box-sizing: border-box;margin-bottom: 0.5em;}#sk-container-id-2 div.sk-estimator:hover {background-color: #d4ebff;}#sk-container-id-2 div.sk-parallel-item::after {content: \"\";width: 100%;border-bottom: 1px solid gray;flex-grow: 1;}#sk-container-id-2 div.sk-label:hover label.sk-toggleable__label {background-color: #d4ebff;}#sk-container-id-2 div.sk-serial::before {content: \"\";position: absolute;border-left: 1px solid gray;box-sizing: border-box;top: 0;bottom: 0;left: 50%;z-index: 0;}#sk-container-id-2 div.sk-serial {display: flex;flex-direction: column;align-items: center;background-color: white;padding-right: 0.2em;padding-left: 0.2em;position: relative;}#sk-container-id-2 div.sk-item {position: relative;z-index: 1;}#sk-container-id-2 div.sk-parallel {display: flex;align-items: stretch;justify-content: center;background-color: white;position: relative;}#sk-container-id-2 div.sk-item::before, #sk-container-id-2 div.sk-parallel-item::before {content: \"\";position: absolute;border-left: 1px solid gray;box-sizing: border-box;top: 0;bottom: 0;left: 50%;z-index: -1;}#sk-container-id-2 div.sk-parallel-item {display: flex;flex-direction: column;z-index: 1;position: relative;background-color: white;}#sk-container-id-2 div.sk-parallel-item:first-child::after {align-self: flex-end;width: 50%;}#sk-container-id-2 div.sk-parallel-item:last-child::after {align-self: flex-start;width: 50%;}#sk-container-id-2 div.sk-parallel-item:only-child::after {width: 0;}#sk-container-id-2 div.sk-dashed-wrapped {border: 1px dashed gray;margin: 0 0.4em 0.5em 0.4em;box-sizing: border-box;padding-bottom: 0.4em;background-color: white;}#sk-container-id-2 div.sk-label label {font-family: monospace;font-weight: bold;display: inline-block;line-height: 1.2em;}#sk-container-id-2 div.sk-label-container {text-align: center;}#sk-container-id-2 div.sk-container {/* jupyter's `normalize.less` sets `[hidden] { display: none; }` but bootstrap.min.css set `[hidden] { display: none !important; }` so we also need the `!important` here to be able to override the default hidden behavior on the sphinx rendered scikit-learn.org. See: https://github.com/scikit-learn/scikit-learn/issues/21755 */display: inline-block !important;position: relative;}#sk-container-id-2 div.sk-text-repr-fallback {display: none;}</style><div id=\"sk-container-id-2\" class=\"sk-top-container\"><div class=\"sk-text-repr-fallback\"><pre>PySRRegressor.equations_ = [\n",
       "\t    pick     score                                           equation  \\\n",
       "\t0         0.000000                                         0.59597707   \n",
       "\t1         2.727410                                 (0.031959273 ^ x0)   \n",
       "\t2         0.273589                   ((0.03856033 ^ x0) * 0.97440577)   \n",
       "\t3         0.148748  (((0.033028357 ^ x0) * 0.95535845) - -0.020184...   \n",
       "\t4         0.247018  (((0.054214504 ^ x0) - -0.09725388) / (1.11956...   \n",
       "\t5         0.163339  (((0.018899752 ^ x0) + 0.17701131) / ((x0 ^ 1....   \n",
       "\t6         0.006272  (((0.022751944 ^ x0) + 0.17833948) / (((x0 ^ 1...   \n",
       "\t7         0.105146  (((0.018303636 ^ x0) + 0.17364132) / ((x0 - -1...   \n",
       "\t8         0.000149  (((0.018303636 ^ x0) + (0.17364132 ^ 0.9995132...   \n",
       "\t9   &gt;&gt;&gt;&gt;  0.118298  (((0.6802852 ^ 0.082423635) / (x0 + ((((x0 ^ 1...   \n",
       "\t10        0.025445  (((0.6802852 ^ 0.07809298) / (x0 + (((((x0 ^ 1...   \n",
       "\t11        0.003974  (((0.6802852 ^ 0.07809298) / (x0 + (((((x0 ^ 1...   \n",
       "\t12        0.003711  (((0.6802852 ^ 0.07809298) / (x0 + (((((x0 ^ 1...   \n",
       "\t\n",
       "\t        loss  complexity  \n",
       "\t0   0.171494           1  \n",
       "\t1   0.000733           3  \n",
       "\t2   0.000424           5  \n",
       "\t3   0.000315           7  \n",
       "\t4   0.000192           9  \n",
       "\t5   0.000139          11  \n",
       "\t6   0.000137          13  \n",
       "\t7   0.000111          15  \n",
       "\t8   0.000111          17  \n",
       "\t9   0.000088          19  \n",
       "\t10  0.000083          21  \n",
       "\t11  0.000083          23  \n",
       "\t12  0.000082          25  \n",
       "]</pre><b>In a Jupyter environment, please rerun this cell to show the HTML representation or trust the notebook. <br />On GitHub, the HTML representation is unable to render, please try loading this page with nbviewer.org.</b></div><div class=\"sk-container\" hidden><div class=\"sk-item\"><div class=\"sk-estimator sk-toggleable\"><input class=\"sk-toggleable__control sk-hidden--visually\" id=\"sk-estimator-id-2\" type=\"checkbox\" checked><label for=\"sk-estimator-id-2\" class=\"sk-toggleable__label sk-toggleable__label-arrow\">PySRRegressor</label><div class=\"sk-toggleable__content\"><pre>PySRRegressor.equations_ = [\n",
       "\t    pick     score                                           equation  \\\n",
       "\t0         0.000000                                         0.59597707   \n",
       "\t1         2.727410                                 (0.031959273 ^ x0)   \n",
       "\t2         0.273589                   ((0.03856033 ^ x0) * 0.97440577)   \n",
       "\t3         0.148748  (((0.033028357 ^ x0) * 0.95535845) - -0.020184...   \n",
       "\t4         0.247018  (((0.054214504 ^ x0) - -0.09725388) / (1.11956...   \n",
       "\t5         0.163339  (((0.018899752 ^ x0) + 0.17701131) / ((x0 ^ 1....   \n",
       "\t6         0.006272  (((0.022751944 ^ x0) + 0.17833948) / (((x0 ^ 1...   \n",
       "\t7         0.105146  (((0.018303636 ^ x0) + 0.17364132) / ((x0 - -1...   \n",
       "\t8         0.000149  (((0.018303636 ^ x0) + (0.17364132 ^ 0.9995132...   \n",
       "\t9   &gt;&gt;&gt;&gt;  0.118298  (((0.6802852 ^ 0.082423635) / (x0 + ((((x0 ^ 1...   \n",
       "\t10        0.025445  (((0.6802852 ^ 0.07809298) / (x0 + (((((x0 ^ 1...   \n",
       "\t11        0.003974  (((0.6802852 ^ 0.07809298) / (x0 + (((((x0 ^ 1...   \n",
       "\t12        0.003711  (((0.6802852 ^ 0.07809298) / (x0 + (((((x0 ^ 1...   \n",
       "\t\n",
       "\t        loss  complexity  \n",
       "\t0   0.171494           1  \n",
       "\t1   0.000733           3  \n",
       "\t2   0.000424           5  \n",
       "\t3   0.000315           7  \n",
       "\t4   0.000192           9  \n",
       "\t5   0.000139          11  \n",
       "\t6   0.000137          13  \n",
       "\t7   0.000111          15  \n",
       "\t8   0.000111          17  \n",
       "\t9   0.000088          19  \n",
       "\t10  0.000083          21  \n",
       "\t11  0.000083          23  \n",
       "\t12  0.000082          25  \n",
       "]</pre></div></div></div></div></div>"
      ],
      "text/plain": [
       "PySRRegressor.equations_ = [\n",
       "\t    pick     score                                           equation  \\\n",
       "\t0         0.000000                                         0.59597707   \n",
       "\t1         2.727410                                 (0.031959273 ^ x0)   \n",
       "\t2         0.273589                   ((0.03856033 ^ x0) * 0.97440577)   \n",
       "\t3         0.148748  (((0.033028357 ^ x0) * 0.95535845) - -0.020184...   \n",
       "\t4         0.247018  (((0.054214504 ^ x0) - -0.09725388) / (1.11956...   \n",
       "\t5         0.163339  (((0.018899752 ^ x0) + 0.17701131) / ((x0 ^ 1....   \n",
       "\t6         0.006272  (((0.022751944 ^ x0) + 0.17833948) / (((x0 ^ 1...   \n",
       "\t7         0.105146  (((0.018303636 ^ x0) + 0.17364132) / ((x0 - -1...   \n",
       "\t8         0.000149  (((0.018303636 ^ x0) + (0.17364132 ^ 0.9995132...   \n",
       "\t9   >>>>  0.118298  (((0.6802852 ^ 0.082423635) / (x0 + ((((x0 ^ 1...   \n",
       "\t10        0.025445  (((0.6802852 ^ 0.07809298) / (x0 + (((((x0 ^ 1...   \n",
       "\t11        0.003974  (((0.6802852 ^ 0.07809298) / (x0 + (((((x0 ^ 1...   \n",
       "\t12        0.003711  (((0.6802852 ^ 0.07809298) / (x0 + (((((x0 ^ 1...   \n",
       "\t\n",
       "\t        loss  complexity  \n",
       "\t0   0.171494           1  \n",
       "\t1   0.000733           3  \n",
       "\t2   0.000424           5  \n",
       "\t3   0.000315           7  \n",
       "\t4   0.000192           9  \n",
       "\t5   0.000139          11  \n",
       "\t6   0.000137          13  \n",
       "\t7   0.000111          15  \n",
       "\t8   0.000111          17  \n",
       "\t9   0.000088          19  \n",
       "\t10  0.000083          21  \n",
       "\t11  0.000083          23  \n",
       "\t12  0.000082          25  \n",
       "]"
      ]
     },
     "execution_count": 26,
     "metadata": {},
     "output_type": "execute_result"
    }
   ],
   "source": [
    "model.from_file('hall_of_fame_2023-08-29_163723.264.pkl')"
   ]
  },
  {
   "cell_type": "code",
   "execution_count": 28,
   "metadata": {},
   "outputs": [
    {
     "name": "stdout",
     "output_type": "stream",
     "text": [
      "(((0.6802852 ^ 0.07809298) / (x0 + (((((x0 ^ 1.5150192) / 0.07809298) + x0) + x0) * (x0 * 0.6802852)))) * x0)\n"
     ]
    }
   ],
   "source": [
    "df = pd.read_csv('hall_of_fame_2023-08-29_163723.264.csv')\n",
    "print(df['Equation'][10])"
   ]
  },
  {
   "cell_type": "markdown",
   "metadata": {},
   "source": [
    "try #2 (hall_of_fame_2023-08-29_163723.264.csv)\n",
    "\n",
    "$$    T(x)=\\frac{{(0.6802852^{0.07809298})}}{{x_0 + \\left(\\left(\\frac{{(x_0^{1.5150192})}}{{0.07809298}} + x_0\\right) + x_0\\right) \\cdot (x_0 \\cdot 0.6802852)}} \\cdot x_0 = \\frac{1}{1.031+1.402x+8.977x^{1.515}}$$"
   ]
  },
  {
   "cell_type": "markdown",
   "metadata": {},
   "source": [
    "$$  $$"
   ]
  },
  {
   "cell_type": "code",
   "execution_count": 41,
   "metadata": {},
   "outputs": [],
   "source": [
    "T_f = (((0.6802852**0.07809298) / (x + (((((x**1.5150192) / 0.07809298) + x) + x) * (x * 0.6802852)))) * x)\n",
    "pr = 1 / (1.031 + 8.977 * x ** 1.515 + 1.402 * x)"
   ]
  },
  {
   "cell_type": "code",
   "execution_count": 47,
   "metadata": {},
   "outputs": [
    {
     "data": {
      "image/png": "[encoded data removed]",
      "text/plain": [
       "<Figure size 640x480 with 1 Axes>"
      ]
     },
     "metadata": {},
     "output_type": "display_data"
    }
   ],
   "source": [
    "plt.scatter(x,T, s=1, label='CLASS data')\n",
    "plt.scatter(x, T_f, s=1, label='From PySR')\n",
    "plt.scatter(x, pr, s=1, label='From PySR')\n",
    "plt.loglog()\n",
    "plt.legend()\n",
    "plt.show()"
   ]
  },
  {
   "cell_type": "code",
   "execution_count": 46,
   "metadata": {},
   "outputs": [
    {
     "data": {
      "text/plain": [
       "array([3.83360357])"
      ]
     },
     "execution_count": 46,
     "metadata": {},
     "output_type": "execute_result"
    }
   ],
   "source": [
    "accuracy(T,T_f)"
   ]
  },
  {
   "cell_type": "code",
   "execution_count": 44,
   "metadata": {},
   "outputs": [
    {
     "data": {
      "text/plain": [
       "[]"
      ]
     },
     "execution_count": 44,
     "metadata": {},
     "output_type": "execute_result"
    },
    {
     "data": {
      "image/png": "[encoded data removed]",
      "text/plain": [
       "<Figure size 640x480 with 1 Axes>"
      ]
     },
     "metadata": {},
     "output_type": "display_data"
    }
   ],
   "source": [
    "plt.scatter(x, T_f-pr)\n",
    "plt.loglog()"
   ]
  },
  {
   "cell_type": "code",
   "execution_count": null,
   "metadata": {},
   "outputs": [],
   "source": []
  }
 ],
 "metadata": {
  "kernelspec": {
   "display_name": "simreg",
   "language": "python",
   "name": "python3"
  },
  "language_info": {
   "codemirror_mode": {
    "name": "ipython",
    "version": 3
   },
   "file_extension": ".py",
   "mimetype": "text/x-python",
   "name": "python",
   "nbconvert_exporter": "python",
   "pygments_lexer": "ipython3",
   "version": "3.11.4"
  },
  "orig_nbformat": 4
 },
 "nbformat": 4,
 "nbformat_minor": 2
}
