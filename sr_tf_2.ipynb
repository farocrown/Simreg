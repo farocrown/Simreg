{
 "cells": [
  {
   "cell_type": "code",
   "execution_count": 305,
   "metadata": {},
   "outputs": [],
   "source": [
    "import numpy as np\n",
    "import matplotlib.pyplot as plt\n",
    "import pandas as pd\n",
    "from pysr import PySRRegressor\n",
    "from IPython.display import Markdown as md"
   ]
  },
  {
   "cell_type": "markdown",
   "metadata": {},
   "source": [
    "This file pretends to fit data from CLASS to obtain an analytic formula for T(k). Now let's import T(k):"
   ]
  },
  {
   "cell_type": "markdown",
   "metadata": {},
   "source": [
    "def accuracy(data, model):\n",
    "    if len(data) != len(model):\n",
    "        print('ERROR: array must have the same length!')\n",
    "        return\n",
    "    \n",
    "    l = len(data)\n",
    "    b = 0\n",
    "    \n",
    "    for i in range(l):\n",
    "        a = abs((data[i] - model[i]) / data[i])\n",
    "        b += a\n",
    "    \n",
    "    return 100 * b / l"
   ]
  },
  {
   "cell_type": "code",
   "execution_count": 306,
   "metadata": {},
   "outputs": [],
   "source": [
    "def error(data,model):\n",
    "    if len(data) != len(model):\n",
    "        print('ERROR: array must have the same length!')\n",
    "        return\n",
    "    \n",
    "    l = len(data)\n",
    "    error = []\n",
    "    \n",
    "    for i in range(l):\n",
    "        error.append(abs((data[i] - model[i])**2 / data[i]**2))\n",
    "    \n",
    "    return np.array(error)"
   ]
  },
  {
   "cell_type": "code",
   "execution_count": 307,
   "metadata": {},
   "outputs": [],
   "source": [
    "def accuracy(data, model):\n",
    "    if len(data) != len(model):\n",
    "        print('ERROR: array must have the same length!')\n",
    "        return\n",
    "    \n",
    "    l = len(data)\n",
    "    total_error = 0\n",
    "    \n",
    "    for i in range(l):\n",
    "        error = abs((data[i] - model[i]) / data[i])\n",
    "        total_error += error\n",
    "    \n",
    "    avg_error = total_error / l\n",
    "    accuracy_percentage = 100 * (1 - avg_error)\n",
    "    \n",
    "    return accuracy_percentage\n"
   ]
  },
  {
   "cell_type": "code",
   "execution_count": 308,
   "metadata": {},
   "outputs": [],
   "source": [
    "tf = pd.read_csv('TF_16.csv')\n",
    "k = tf['k (h/Mpc)'].values\n",
    "x = tf['x'].values\n",
    "T = tf['T(k)'].values\n",
    "x1 = x"
   ]
  },
  {
   "cell_type": "markdown",
   "metadata": {},
   "source": [
    "Let's define a Regressor:"
   ]
  },
  {
   "cell_type": "code",
   "execution_count": null,
   "metadata": {},
   "outputs": [],
   "source": [
    "model = PySRRegressor(\n",
    "    model_selection=\"best\",\n",
    "    niterations=1000,  # < Increase me for better results\n",
    "    \n",
    "    binary_operators=[\"+\",\"*\",\"-\",\"/\",\"^\"],\n",
    "    constraints={'^': (2, 1)},\n",
    "    nested_constraints={\"^\": {\"^\": 2}},\n",
    "    maxsize=20,\n",
    "    loss=\"loss(prediction, target) = (prediction - target)^2\",\n",
    "    # ^ Custom loss function (julia syntax)\n",
    "    turbo=True,  \n",
    "    #cluster_manager=cluster[1],\n",
    "    #multithreading=True,\n",
    ")"
   ]
  },
  {
   "cell_type": "code",
   "execution_count": null,
   "metadata": {},
   "outputs": [],
   "source": [
    "model.from_file('96accuracy-2908.pkl')"
   ]
  },
  {
   "cell_type": "code",
   "execution_count": null,
   "metadata": {},
   "outputs": [],
   "source": [
    "df = pd.read_csv('96accuracy-2908.csv')\n",
    "print(df['Equation'][10])"
   ]
  },
  {
   "cell_type": "markdown",
   "metadata": {},
   "source": [
    "try #2 (hall_of_fame_2023-08-29_163723.264.csv)\n",
    "\n",
    "$$    T(x)=\\frac{{(0.6802852^{0.07809298})}}{{x_0 + \\left(\\left(\\frac{{(x_0^{1.5150192})}}{{0.07809298}} + x_0\\right) + x_0\\right) \\cdot (x_0 \\cdot 0.6802852)}} \\cdot x_0 = \\frac{1}{1.031+1.402x+8.977x^{1.515}}$$"
   ]
  },
  {
   "cell_type": "code",
   "execution_count": null,
   "metadata": {},
   "outputs": [],
   "source": [
    "T_f = (((0.6802852**0.07809298) / (x + (((((x**1.5150192) / 0.07809298) + x) + x) * (x * 0.6802852)))) * x)\n",
    "pr = 1 / (1.031 + 8.977 * x ** 1.515 + 1.402 * x)"
   ]
  },
  {
   "cell_type": "code",
   "execution_count": null,
   "metadata": {},
   "outputs": [],
   "source": [
    "plt.figure()\n",
    "plt.scatter(x,T, s=1, label='CLASS data')\n",
    "#plt.scatter(x, T_f, s=1, label='From PySR')\n",
    "plt.scatter(x, pr, s=1, label='From PySR')\n",
    "plt.loglog()\n",
    "plt.legend()\n",
    "plt.show()\n"
   ]
  },
  {
   "cell_type": "code",
   "execution_count": null,
   "metadata": {},
   "outputs": [],
   "source": [
    "accuracy(T,T_f)"
   ]
  },
  {
   "cell_type": "code",
   "execution_count": null,
   "metadata": {},
   "outputs": [],
   "source": [
    "plt.scatter(k,error(T,T_f))"
   ]
  },
  {
   "cell_type": "markdown",
   "metadata": {},
   "source": [
    "try #3\n",
    "$$\\frac{0.974}{x_{0} + 8.67 x_{0}^{1.44} + 1.00}$$"
   ]
  },
  {
   "cell_type": "code",
   "execution_count": null,
   "metadata": {},
   "outputs": [],
   "source": [
    "T_2 = 0.974 / (x + 8.67 * x ** 1.44 + 1.00)"
   ]
  },
  {
   "cell_type": "code",
   "execution_count": null,
   "metadata": {},
   "outputs": [],
   "source": [
    "plt.scatter(x,T, s=1, label='CLASS data')\n",
    "plt.scatter(x, T_2, s=1, label='From PySR')\n",
    "plt.loglog()\n",
    "plt.legend()\n",
    "plt.show()"
   ]
  },
  {
   "cell_type": "code",
   "execution_count": null,
   "metadata": {},
   "outputs": [],
   "source": [
    "accuracy(T,T_2)"
   ]
  },
  {
   "cell_type": "code",
   "execution_count": null,
   "metadata": {},
   "outputs": [],
   "source": [
    "plt.scatter(k,error(T,T_2))"
   ]
  }
 ],
 "metadata": {
  "kernelspec": {
   "display_name": "simreg",
   "language": "python",
   "name": "python3"
  },
  "language_info": {
   "codemirror_mode": {
    "name": "ipython",
    "version": 3
   },
   "file_extension": ".py",
   "mimetype": "text/x-python",
   "name": "python",
   "nbconvert_exporter": "python",
   "pygments_lexer": "ipython3",
   "version": "3.11.4"
  },
  "orig_nbformat": 4
 },
 "nbformat": 4,
 "nbformat_minor": 2
}
